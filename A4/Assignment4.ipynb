{
 "cells": [
  {
   "cell_type": "code",
   "execution_count": 28,
   "metadata": {},
   "outputs": [],
   "source": [
    "import igl\n",
    "import numpy as np\n",
    "import meshplot as mp\n",
    "\n",
    "from collections import deque"
   ]
  },
  {
   "cell_type": "code",
   "execution_count": 29,
   "metadata": {},
   "outputs": [],
   "source": [
    "# build graph of geodesic distances on a mesh\n",
    "def build_geodesic_graph(V, F):\n",
    "    n = V.shape[0]  # number of vertices\n",
    "    adj = [[] for _ in range(n)]  # adjacency list: for each vertex, list of (neighbor, weight)\n",
    "\n",
    "    # Compute triangle-triangle adjacency for dual edges\n",
    "    TT, _ = igl.triangle_triangle_adjacency(F)\n",
    "\n",
    "    # For each face\n",
    "    for f_idx in range(F.shape[0]):\n",
    "        tri = F[f_idx] \n",
    "\n",
    "        # For each corner of the face\n",
    "        for loc in range(3):\n",
    "            v  = tri[loc]            # current vertex index\n",
    "            w1 = tri[(loc + 1) % 3]  # next vertex index around the triangle\n",
    "            w2 = tri[(loc + 2) % 3]  # other vertex index\n",
    "\n",
    "            # Primal edges\n",
    "            for w in (w1, w2):\n",
    "                d = np.linalg.norm(V[v] - V[w])\n",
    "                # add primal edge\n",
    "                adj[v].append((w, d, None)) # (neighbor, weight, dual edge)\n",
    "                adj[w].append((v, d, None)) # undirected graph, so add both directions\n",
    "\n",
    "            # Dual edges\n",
    "            f2 = int(TT[f_idx, loc])  # adjacent face across edge opposite v\n",
    "            if f2 < 0:\n",
    "                # boundary edge: no adjacent face\n",
    "                continue\n",
    "\n",
    "            # find the vertex in face f2 that is not w1 or w2\n",
    "            edge_vs = {w1, w2}\n",
    "            vp = next(int(x) for x in F[f2] if int(x) not in edge_vs)\n",
    "\n",
    "            # Compute vectors for angle calculations at shared edge vertex w1\n",
    "            v_w1_v  = V[v]  - V[w1]    # vector w1->v\n",
    "            v_w1_w2 = V[w2] - V[w1]    # vector w1->w2 (edge direction)\n",
    "            v_w1_vp = V[vp] - V[w1]    # vector w1->vp (across triangle f2)\n",
    "\n",
    "            # norms of these vectors\n",
    "            n_w1_v  = np.linalg.norm(v_w1_v)\n",
    "            n_w1_w2 = np.linalg.norm(v_w1_w2)\n",
    "            n_w1_vp = np.linalg.norm(v_w1_vp)\n",
    "\n",
    "            # corner angles at w1 in both triangles\n",
    "            alfa = np.arccos(np.clip(np.dot(v_w1_v, v_w1_w2) / (n_w1_v * n_w1_w2), -1, 1))\n",
    "            beta = np.arccos(np.clip(np.dot(v_w1_vp, v_w1_w2) / (n_w1_vp * n_w1_w2), -1, 1))\n",
    "\n",
    "            # Geodesic length between v and vp via w1\n",
    "            dual_len = np.sqrt(n_w1_v**2 + n_w1_vp**2 - 2 * n_w1_v * n_w1_vp * np.cos(alfa + beta))\n",
    "\n",
    "            # compute intersection point of the dual edge with the primal edge w1-w2\n",
    "            # TBD\n",
    "            intersection = None  # Placeholder for intersection point calculation\n",
    "            # add dual edge\n",
    "            adj[v].append((vp, dual_len, intersection))  # (neighbor, weight, intersection point)\n",
    "            adj[vp].append((v, dual_len, intersection))  # undirected graph, so add both directions\n",
    "    return adj\n",
    "\n",
    "# plot intersection points on the mesh\n",
    "def plot_intersections(V, F, adj):\n",
    "    # Extract intersection points from adjacency list\n",
    "    intersection_points = []\n",
    "    for neighbors in adj:\n",
    "        for _, _, intersection in neighbors:\n",
    "            if intersection is not None:\n",
    "                intersection_points.append(intersection)\n",
    "    # If no intersection points found, return empty plot\n",
    "    if not intersection_points:\n",
    "        return mp.plot(V, F, shading={\"wireframe\": True})\n",
    "\n",
    "    # Convert to numpy array\n",
    "    intersection_points = np.array(intersection_points)\n",
    "\n",
    "    # Create mesh plot\n",
    "    p = mp.plot(V, F, shading={\"wireframe\": True})\n",
    "    p.add_points(intersection_points, shading={\"point_size\": 0.1, \"color\": \"red\"})\n",
    "    return p\n",
    "\n",
    "# Compute geodesic distances from sources\n",
    "def geodesic_distances(adj, sources):\n",
    "    n = len(adj)\n",
    "    prev = [None] * n  # to store the previous vertex in the path\n",
    "    dist = np.full(n, np.inf)  # initialize all distances to infinity\n",
    "    Q = deque()                # deque for SLF-LLL\n",
    "\n",
    "    # Initialize queue with all source vertices at distance 0\n",
    "    for s in sources:\n",
    "        dist[s] = 0.0\n",
    "        Q.append(s)\n",
    "\n",
    "    # Propagate distances\n",
    "    while Q:\n",
    "        u = Q.popleft()\n",
    "        du = dist[u]\n",
    "        # relax all outgoing edges from u\n",
    "        for v, w, intersection in adj[u]:\n",
    "            alt = du + w\n",
    "            if alt < dist[v]:\n",
    "                dist[v] = alt\n",
    "                prev[v] = (u, intersection)\n",
    "                # SLF–LLL: push to front if smaller than current front\n",
    "                if Q and alt < dist[Q[0]]:\n",
    "                    Q.appendleft(v)\n",
    "                else:\n",
    "                    Q.append(v)\n",
    "\n",
    "    return dist, prev\n"
   ]
  },
  {
   "cell_type": "code",
   "execution_count": 30,
   "metadata": {},
   "outputs": [],
   "source": [
    "# extract path from target to a source\n",
    "def extract_geodesic_path(target, sources, prev, V):\n",
    "    path = []\n",
    "    current = target\n",
    "    while current is not None:\n",
    "        path.append(V[current])\n",
    "        if current in sources:\n",
    "            break  # stop if we reach a source\n",
    "        current, intersection = prev[current]  # get previous vertex and intersection point\n",
    "        if intersection is not None:\n",
    "            # dual edge intersection point\n",
    "            path.append(intersection)    \n",
    "    return path\n",
    "\n",
    "def extract_geodesic_path_grad(target, sources, dist, V, F):\n",
    "    path = []\n",
    "\n",
    "\n",
    "    \n",
    "    return path\n",
    "    \n",
    "\n",
    "def plot_geodesic_path(V, F, dist, path, src, target):\n",
    "    p = mp.plot(V, F, c=dist, shading={\"wireframe\": False})\n",
    "\n",
    "    # mark sources\n",
    "    p.add_points(V[src, :], c=np.array([[1.0, 0.0, 0.0]]), shading={\"point_size\": 0.02})\n",
    "    # mark target\n",
    "    p.add_points(V[[target], :], c=np.array([[0.0, 1.0, 0.0]]), shading={\"point_size\": 0.02})\n",
    "\n",
    "    # draw path\n",
    "    if len(path) >= 2:\n",
    "        for i in range(len(path) - 1):\n",
    "            a = path[i]\n",
    "            b = path[i+1]\n",
    "            p.add_lines(a, b, shading={\"line_width\": 0.05})\n",
    "\n",
    "    return p\n"
   ]
  },
  {
   "cell_type": "code",
   "execution_count": 31,
   "metadata": {},
   "outputs": [],
   "source": [
    "# Load the test mesh\n",
    "V, F = igl.read_triangle_mesh(\"./data/bunny_1k.obj\")\n",
    "#mp.plot(V, F, shading={\"wireframe\": True})"
   ]
  },
  {
   "cell_type": "code",
   "execution_count": 32,
   "metadata": {},
   "outputs": [
    {
     "data": {
      "application/vnd.jupyter.widget-view+json": {
       "model_id": "47aaf42a8808497b8d3927d95691ace2",
       "version_major": 2,
       "version_minor": 0
      },
      "text/plain": [
       "Renderer(camera=PerspectiveCamera(children=(DirectionalLight(color='white', intensity=0.6, position=(-0.001504…"
      ]
     },
     "metadata": {},
     "output_type": "display_data"
    },
    {
     "data": {
      "text/plain": [
       "1"
      ]
     },
     "execution_count": 32,
     "metadata": {},
     "output_type": "execute_result"
    }
   ],
   "source": [
    "# compute geodesic distances\n",
    "adj = build_geodesic_graph(V, F)\n",
    "\n",
    "src = [0]\n",
    "\n",
    "dist, prev = geodesic_distances(adj, src)\n",
    "\n",
    "# apply color map\n",
    "plotter = mp.plot(V, F, c=dist, shading={\"wireframe\": False})\n",
    "\n",
    "# mark the source with a red point\n",
    "plotter.add_points(V[[src], :], c=np.array([[1.0, 0.0, 0.0]]), shading={\"point_size\": 0.1})"
   ]
  },
  {
   "cell_type": "code",
   "execution_count": 33,
   "metadata": {},
   "outputs": [
    {
     "data": {
      "application/vnd.jupyter.widget-view+json": {
       "model_id": "d717f5970b684dc39e1c1f7f96306533",
       "version_major": 2,
       "version_minor": 0
      },
      "text/plain": [
       "Renderer(camera=PerspectiveCamera(children=(DirectionalLight(color='white', intensity=0.6, position=(-0.001504…"
      ]
     },
     "metadata": {},
     "output_type": "display_data"
    },
    {
     "data": {
      "text/plain": [
       "<meshplot.Viewer.Viewer at 0x178a8dc19a0>"
      ]
     },
     "execution_count": 33,
     "metadata": {},
     "output_type": "execute_result"
    }
   ],
   "source": [
    "plot_intersections(V, F, adj)"
   ]
  },
  {
   "cell_type": "code",
   "execution_count": 35,
   "metadata": {},
   "outputs": [
    {
     "data": {
      "application/vnd.jupyter.widget-view+json": {
       "model_id": "1920e12cc66e4e0aaca7375c6d0aa852",
       "version_major": 2,
       "version_minor": 0
      },
      "text/plain": [
       "Renderer(camera=PerspectiveCamera(children=(DirectionalLight(color='white', intensity=0.6, position=(-0.001504…"
      ]
     },
     "metadata": {},
     "output_type": "display_data"
    },
    {
     "data": {
      "text/plain": [
       "<meshplot.Viewer.Viewer at 0x178a8dc18b0>"
      ]
     },
     "execution_count": 35,
     "metadata": {},
     "output_type": "execute_result"
    }
   ],
   "source": [
    "src = [0]\n",
    "tgt = 7\n",
    "\n",
    "# Extraxt geodesic path from target to source\n",
    "path = extract_geodesic_path(tgt, src, prev, V)\n",
    "\n",
    "# Visualize the geodesic path\n",
    "plot_geodesic_path(V, F, dist, path, src, tgt)"
   ]
  }
 ],
 "metadata": {
  "kernelspec": {
   "display_name": "myenv",
   "language": "python",
   "name": "python3"
  },
  "language_info": {
   "codemirror_mode": {
    "name": "ipython",
    "version": 3
   },
   "file_extension": ".py",
   "mimetype": "text/x-python",
   "name": "python",
   "nbconvert_exporter": "python",
   "pygments_lexer": "ipython3",
   "version": "3.13.5"
  }
 },
 "nbformat": 4,
 "nbformat_minor": 2
}
