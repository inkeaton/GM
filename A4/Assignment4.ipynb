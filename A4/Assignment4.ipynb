{
 "cells": [
  {
   "cell_type": "code",
   "execution_count": 15,
   "metadata": {},
   "outputs": [],
   "source": [
    "import igl\n",
    "import numpy as np\n",
    "import meshplot as mp"
   ]
  },
  {
   "cell_type": "code",
   "execution_count": 16,
   "metadata": {},
   "outputs": [],
   "source": [
    "from collections import deque\n",
    "\n",
    "def build_geodesic_graph(V, F):\n",
    "    n = V.shape[0]\n",
    "    adj = [[] for _ in range(n)]\n",
    "    # triangle–triangle adjacency\n",
    "    TT, _ = igl.triangle_triangle_adjacency(F)\n",
    "    for f_idx in range(F.shape[0]):\n",
    "        tri = F[f_idx]\n",
    "        for loc in range(3):\n",
    "            v = int(tri[loc])\n",
    "            w1, w2 = int(tri[(loc+1)%3]), int(tri[(loc+2)%3])\n",
    "            # primal edges\n",
    "            for w in (w1, w2):\n",
    "                d = np.linalg.norm(V[v] - V[w])\n",
    "                adj[v].append((w, d))\n",
    "                adj[w].append((v, d))\n",
    "            # dual edges\n",
    "            f2 = int(TT[f_idx, loc])\n",
    "            if f2 < 0:\n",
    "                continue\n",
    "            edge_vs = {w1, w2}\n",
    "            vp = next(int(x) for x in F[f2] if int(x) not in edge_vs)\n",
    "            # compute “geodesic” dual‐edge length via corner angles\n",
    "            w = w1\n",
    "            vec_vw = V[v] - V[w]\n",
    "            vec_uw = V[w2] - V[w]\n",
    "            vec_vpw = V[vp] - V[w]\n",
    "            nv, nu, npv = np.linalg.norm(vec_vw), np.linalg.norm(vec_uw), np.linalg.norm(vec_vpw)\n",
    "            alfa = np.arccos(np.clip(np.dot(vec_vw, vec_uw)/(nv*nu), -1,1))\n",
    "            beta = np.arccos(np.clip(np.dot(vec_vpw, vec_uw)/(npv*nu), -1,1))\n",
    "            dual_len = np.sqrt(nv**2 + npv**2 - 2*nv*npv*np.cos(alfa+beta))\n",
    "            adj[v].append((vp, dual_len))\n",
    "            adj[vp].append((v, dual_len))\n",
    "    return adj\n",
    "\n",
    "def geodesic_distances(adj, sources):\n",
    "    n = len(adj)\n",
    "    dist = np.full(n, np.inf)\n",
    "    prev = [None]*n\n",
    "    Q = deque()\n",
    "    for s in sources:\n",
    "        dist[s] = 0.0\n",
    "        Q.append(s)\n",
    "    while Q:\n",
    "        u = Q.popleft()\n",
    "        du = dist[u]\n",
    "        for v, w in adj[u]:\n",
    "            alt = du + w\n",
    "            if alt < dist[v]:\n",
    "                dist[v] = alt\n",
    "                prev[v] = u\n",
    "                # SLF–LLL\n",
    "                if Q and alt < dist[Q[0]]:\n",
    "                    Q.appendleft(v)\n",
    "                else:\n",
    "                    Q.append(v)\n",
    "    return dist, prev\n"
   ]
  },
  {
   "cell_type": "code",
   "execution_count": 17,
   "metadata": {},
   "outputs": [
    {
     "data": {
      "application/vnd.jupyter.widget-view+json": {
       "model_id": "90459e956bcf4ef19984172265ca97de",
       "version_major": 2,
       "version_minor": 0
      },
      "text/plain": [
       "Renderer(camera=PerspectiveCamera(children=(DirectionalLight(color='white', intensity=0.6, position=(-0.016860…"
      ]
     },
     "metadata": {},
     "output_type": "display_data"
    },
    {
     "data": {
      "text/plain": [
       "<meshplot.Viewer.Viewer at 0x261b18abb50>"
      ]
     },
     "execution_count": 17,
     "metadata": {},
     "output_type": "execute_result"
    }
   ],
   "source": [
    "# ——— Usage with meshplot ———\n",
    "# 1. Load your mesh\n",
    "V, F = igl.read_triangle_mesh(\"./data/bunny.off\")\n",
    "mp.plot(V, F, shading={\"wireframe\": True})"
   ]
  },
  {
   "cell_type": "code",
   "execution_count": 29,
   "metadata": {},
   "outputs": [
    {
     "data": {
      "application/vnd.jupyter.widget-view+json": {
       "model_id": "7f362c38a9d5400b9716ea04d767dae6",
       "version_major": 2,
       "version_minor": 0
      },
      "text/plain": [
       "Renderer(camera=PerspectiveCamera(children=(DirectionalLight(color='white', intensity=0.6, position=(-0.016860…"
      ]
     },
     "metadata": {},
     "output_type": "display_data"
    },
    {
     "name": "stdout",
     "output_type": "stream",
     "text": [
      "Invalid color array given! Supported are numpy arrays. <class 'list'>\n"
     ]
    },
    {
     "data": {
      "text/plain": [
       "1"
      ]
     },
     "execution_count": 29,
     "metadata": {},
     "output_type": "execute_result"
    }
   ],
   "source": [
    "# 2) Compute geodesics\n",
    "adj = build_geodesic_graph(V, F)\n",
    "\n",
    "src = 0\n",
    "\n",
    "dist, _ = geodesic_distances(adj, [src])\n",
    "\n",
    "# 3a) Simple Viridis (default)\n",
    "plotter = mp.plot(V, F, c=dist, shading={\"wireframe\": False})\n",
    "\n",
    "# 5) Overlay the source as a red point\n",
    "plotter.add_points(\n",
    "    V[[src], :],              # shape (1,3)\n",
    "    c=[[1.0, 0.0, 0.0]],       # red\n",
    ")\n"
   ]
  }
 ],
 "metadata": {
  "kernelspec": {
   "display_name": "myenv",
   "language": "python",
   "name": "python3"
  },
  "language_info": {
   "codemirror_mode": {
    "name": "ipython",
    "version": 3
   },
   "file_extension": ".py",
   "mimetype": "text/x-python",
   "name": "python",
   "nbconvert_exporter": "python",
   "pygments_lexer": "ipython3",
   "version": "3.10.16"
  }
 },
 "nbformat": 4,
 "nbformat_minor": 2
}
