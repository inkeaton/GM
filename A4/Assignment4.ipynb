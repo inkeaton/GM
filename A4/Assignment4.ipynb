{
 "cells": [
  {
   "cell_type": "markdown",
   "metadata": {},
   "source": [
    "# Assigment 4 - Geodesic distance fields and paths\n",
    "## Edoardo Vassallo - S4965918"
   ]
  },
  {
   "cell_type": "code",
   "execution_count": 107,
   "metadata": {},
   "outputs": [],
   "source": [
    "import igl\n",
    "import numpy as np\n",
    "import meshplot as mp\n",
    "\n",
    "from collections import deque"
   ]
  },
  {
   "cell_type": "markdown",
   "metadata": {},
   "source": [
    "## 1 - Geodesic Graph"
   ]
  },
  {
   "cell_type": "code",
   "execution_count": 108,
   "metadata": {},
   "outputs": [],
   "source": [
    "# AUXILLARY FUNCTIONS\n",
    "\n",
    "# Compute 2D intersection between two segments p1p2 and w1w2\n",
    "# if not found, return the closest vertex w to p1p2\n",
    "def intersection_or_closest(p1, p2, w1, w2):\n",
    "\n",
    "    # AUXILLARY FUNCTION\n",
    "    # compute distance between a point pt and segment p1p2\n",
    "    def point_to_seg_dist(pt):\n",
    "        v = p2 - p1\n",
    "        t = np.dot(pt - p1, v) / np.dot(v, v)\n",
    "        t = np.clip(t, 0.0, 1.0)\n",
    "        proj = p1 + t * v\n",
    "        return np.linalg.norm(pt - proj)\n",
    "\n",
    "    # Build direction vectors\n",
    "    r = p2 - p1\n",
    "    s = w2 - w1\n",
    "    q = w1 - p1\n",
    "    rxs = np.cross(r, s)\n",
    "\n",
    "    # # If cross ~ 0 → parallel/colinear → no unique intersection\n",
    "    # rxs = np.cross(r, s)\n",
    "    # if abs(rxs) < 1e-8:\n",
    "    #     # return closest of the ws to p1p2\n",
    "    #     return w1 if point_to_seg_dist(w1) < point_to_seg_dist(w2) else w2\n",
    "\n",
    "    # Solve for t, u where p1 + t·r = w1 + u·s = x\n",
    "    t = np.cross(q, s) / rxs\n",
    "    u = np.cross(q, r) / rxs\n",
    "\n",
    "    # Check segment bounds\n",
    "    if (0 <= t <= 1) and (0 <= u <= 1):\n",
    "        return tuple(p1 + t * r)\n",
    "\n",
    "    # Otherwise, pick whichever endpoint of w-segment is closest to p‐segment\n",
    "    return w1 if point_to_seg_dist(w1) < point_to_seg_dist(w2) else w2\n",
    "\n",
    "\n",
    "# Compute 3d intersection between w1w2 and dual edge p1p2\n",
    "def compute_intersection(V, v1, v2, w1, w2):\n",
    "\n",
    "    # Step 1: Define the 2D coordinate system\n",
    "    w1 = np.asarray(V[w1])\n",
    "    w2 = np.asarray(V[w2])\n",
    "    v1 = np.asarray(V[v1])\n",
    "    v2 = np.asarray(V[v2])\n",
    "\n",
    "    # w1 and w2 in 2d, we center the space in w1\n",
    "    w1_2d = np.array([0.0, 0.0])\n",
    "    w2_2d = np.array([np.linalg.norm(w2 - w1), 0.0])\n",
    "\n",
    "    # Build orthonormal basis for the plane of 1w1w2\n",
    "    # x-axis\n",
    "    x_axis = (w2 - w1)\n",
    "    x_axis /= np.linalg.norm(x_axis)\n",
    "\n",
    "    # z-axis (the normal)\n",
    "    normal = np.cross(x_axis, v1 - w1)\n",
    "    normal /= np.linalg.norm(normal)\n",
    "\n",
    "    # y-axis\n",
    "    y_axis = np.cross(normal, x_axis)\n",
    "\n",
    "    # Step 2: Project v1 to 2D\n",
    "    v1_rel = v1 - w1\n",
    "    v1_2d = np.array([np.dot(v1_rel, x_axis), np.dot(v1_rel, y_axis)])\n",
    "\n",
    "    # Step 3: Compute 2D coordinates of v2 via intersection of two circles\n",
    "    r1 = np.linalg.norm(v2 - w1)\n",
    "    r2 = np.linalg.norm(v2 - w2)\n",
    "    d = np.linalg.norm(w2_2d - w1_2d)\n",
    "\n",
    "    # Using circle intersection formula\n",
    "    # a: offset along the edge direction\n",
    "    a = (r1**2 - r2**2 + d**2) / (2 * d)\n",
    "    # h: offset in the perpendicular one\n",
    "    h = np.sqrt(np.maximum(r1**2 - a**2, 0.0))\n",
    "\n",
    "    # Midpoint between the circles along w1w2\n",
    "    p2 = w1_2d + a * (w2_2d - w1_2d) / d\n",
    "\n",
    "    # Two possible intersection points\n",
    "    offset = h * np.array([0, 1])\n",
    "    v2_2d_a = p2 + offset\n",
    "    v2_2d_b = p2 - offset\n",
    "\n",
    "    # side where is v1\n",
    "    side = np.sign(np.cross(w2_2d - w1_2d, v1_2d - w1_2d))\n",
    "    # Select the intersection on the opposite side to v1\n",
    "    if np.sign(np.cross(w2_2d - w1_2d, v2_2d_a - w1_2d)) == -side:\n",
    "        v2_2d = v2_2d_a\n",
    "    else:\n",
    "        v2_2d = v2_2d_b\n",
    "    \n",
    "    # Step 4: Compute 2D intersection\n",
    "    x_2d = intersection_or_closest(v1_2d, v2_2d, w1_2d, w2_2d)\n",
    "\n",
    "    # Step 5: Convert 2D point back to 3D\n",
    "    x_3d = w1 + x_2d[0] * x_axis + x_2d[1] * y_axis\n",
    "\n",
    "    return x_3d\n"
   ]
  },
  {
   "cell_type": "code",
   "execution_count": 109,
   "metadata": {},
   "outputs": [],
   "source": [
    "# Build graph of geodesic distances on a mesh\n",
    "def build_geodesic_graph(V, F):\n",
    "    n = V.shape[0]  # number of vertices\n",
    "    adj = [[] for _ in range(n)]  # adjacency list: for each vertex, list of (neighbor, weight)\n",
    "\n",
    "    # Compute triangle-triangle adjacency for dual edges\n",
    "    TT, _ = igl.triangle_triangle_adjacency(F)\n",
    "\n",
    "    # For each face\n",
    "    for f_idx in range(F.shape[0]):\n",
    "        tri = F[f_idx] \n",
    "\n",
    "        # For each corner of the face\n",
    "        for loc in range(3):\n",
    "            v  = tri[loc]            # current vertex index\n",
    "            w1 = tri[(loc + 1) % 3]  # next vertex index around the triangle\n",
    "            w2 = tri[(loc + 2) % 3]  # other vertex index\n",
    "\n",
    "            # Primal edges\n",
    "            for w in (w1, w2):\n",
    "                d = np.linalg.norm(V[v] - V[w])\n",
    "                # add primal edge\n",
    "                adj[v].append((w, d, None)) # (neighbor, weight, dual edge intersection)\n",
    "                adj[w].append((v, d, None))\n",
    "\n",
    "            # Dual edges\n",
    "            f2 = int(TT[f_idx, loc])  # adjacent face across edge opposite v\n",
    "            if f2 < 0:\n",
    "                # boundary edge: no adjacent face\n",
    "                continue\n",
    "\n",
    "            # find the vertex in face f2 that is not w1 or w2\n",
    "            edge_vs = {w1, w2}\n",
    "            vp = next(int(x) for x in F[f2] if int(x) not in edge_vs)\n",
    "\n",
    "            # Compute vectors for angle calculations at shared edge vertex w1\n",
    "            v_w1_v  = V[v]  - V[w1]    # vector w1->v\n",
    "            v_w1_w2 = V[w2] - V[w1]    # vector w1->w2 (edge direction)\n",
    "            v_w1_vp = V[vp] - V[w1]    # vector w1->vp \n",
    "\n",
    "            # norms of these vectors\n",
    "            n_w1_v  = np.linalg.norm(v_w1_v)\n",
    "            n_w1_w2 = np.linalg.norm(v_w1_w2)\n",
    "            n_w1_vp = np.linalg.norm(v_w1_vp)\n",
    "\n",
    "            # corner angles at w1 in both triangles\n",
    "            alfa = np.arccos(np.clip(np.dot(v_w1_v, v_w1_w2) / (n_w1_v * n_w1_w2), -1, 1))\n",
    "            beta = np.arccos(np.clip(np.dot(v_w1_vp, v_w1_w2) / (n_w1_vp * n_w1_w2), -1, 1))\n",
    "\n",
    "            # Geodesic length between v and vp via w1\n",
    "            dual_len = np.sqrt(n_w1_v**2 + n_w1_vp**2 - 2 * n_w1_v * n_w1_vp * np.cos(alfa + beta))\n",
    "\n",
    "            # compute intersection point of the dual edge with the primal edge w1-w2\n",
    "            intersection = compute_intersection(V, v, vp, w1, w2)\n",
    "            # add dual edge\n",
    "            adj[v].append((vp, dual_len, intersection))  # (neighbor, weight, intersection point)\n",
    "            adj[vp].append((v, dual_len, intersection))  \n",
    "    return adj"
   ]
  },
  {
   "cell_type": "markdown",
   "metadata": {},
   "source": [
    "## 2 - Geodesic Solver"
   ]
  },
  {
   "cell_type": "code",
   "execution_count": 110,
   "metadata": {},
   "outputs": [],
   "source": [
    "# Compute geodesic distances from sources\n",
    "def geodesic_distances(adj, sources):\n",
    "    n = len(adj)\n",
    "    prev = [None] * n  # to store the previous vertex in the path\n",
    "    dist = np.full(n, np.inf)  # initialize all distances to infinity\n",
    "    Q = deque()                # deque for SLF-LLL\n",
    "\n",
    "    # Initialize queue with all source vertices at distance 0\n",
    "    for s in sources:\n",
    "        dist[s] = 0.0\n",
    "        Q.append(s)\n",
    "\n",
    "    # Propagate distances\n",
    "    while Q:\n",
    "        u = Q.popleft()\n",
    "        du = dist[u]\n",
    "        # relax all outgoing edges from u\n",
    "        for v, w, intersection in adj[u]:\n",
    "            alt = du + w\n",
    "            if alt < dist[v]:\n",
    "                dist[v] = alt\n",
    "                prev[v] = (u, intersection)\n",
    "                # SLF–LLL: push to front if smaller than current front\n",
    "                if Q and alt < dist[Q[0]]:\n",
    "                    Q.appendleft(v)\n",
    "                else:\n",
    "                    Q.append(v)\n",
    "\n",
    "    return dist, prev"
   ]
  },
  {
   "cell_type": "code",
   "execution_count": 111,
   "metadata": {},
   "outputs": [],
   "source": [
    "# Load the test mesh\n",
    "V, F = igl.read_triangle_mesh(\"./data/bunny_1k.obj\")\n",
    "#mp.plot(V, F, shading={\"wireframe\": True})"
   ]
  },
  {
   "cell_type": "code",
   "execution_count": 112,
   "metadata": {},
   "outputs": [
    {
     "data": {
      "application/vnd.jupyter.widget-view+json": {
       "model_id": "2ddad817648c4fc88a0a07c5a083d73c",
       "version_major": 2,
       "version_minor": 0
      },
      "text/plain": [
       "Renderer(camera=PerspectiveCamera(children=(DirectionalLight(color='white', intensity=0.6, position=(-0.001504…"
      ]
     },
     "metadata": {},
     "output_type": "display_data"
    },
    {
     "data": {
      "text/plain": [
       "1"
      ]
     },
     "execution_count": 112,
     "metadata": {},
     "output_type": "execute_result"
    }
   ],
   "source": [
    "# compute geodesic distances\n",
    "adj = build_geodesic_graph(V, F)\n",
    "\n",
    "src = [0]\n",
    "\n",
    "dist, prev = geodesic_distances(adj, src)\n",
    "\n",
    "# apply color map\n",
    "plotter = mp.plot(V, F, c=dist, shading={\"wireframe\": False})\n",
    "\n",
    "# mark the source with a red point\n",
    "plotter.add_points(V[[src], :], c=np.array([[1.0, 0.0, 0.0]]), shading={\"point_size\": 0.1})"
   ]
  },
  {
   "cell_type": "markdown",
   "metadata": {},
   "source": [
    "## 3. Shortest path between two points"
   ]
  },
  {
   "cell_type": "code",
   "execution_count": 113,
   "metadata": {},
   "outputs": [],
   "source": [
    "# extract path from target to a source\n",
    "def extract_geodesic_path(target, sources, prev, V):\n",
    "    path = []\n",
    "    current = target\n",
    "    while current is not None:\n",
    "        path.append(V[current])\n",
    "        if current in sources:\n",
    "            break  # stop if we reach a source\n",
    "        current, intersection = prev[current]  # get previous vertex and intersection point\n",
    "        if intersection is not None:\n",
    "            # dual edge intersection point\n",
    "            path.append(intersection)    \n",
    "    return path\n",
    "\n",
    "def plot_geodesic_path(V, F, dist, path, src, target):\n",
    "    p = mp.plot(V, F, c=dist, shading={\"wireframe\": False})\n",
    "\n",
    "    # mark sources\n",
    "    p.add_points(V[src, :], c=np.array([[1.0, 0.0, 0.0]]), shading={\"point_size\": 0.02})\n",
    "    # mark target\n",
    "    p.add_points(V[[target], :], c=np.array([[0.0, 1.0, 0.0]]), shading={\"point_size\": 0.02})\n",
    "\n",
    "    # draw path\n",
    "    if len(path) >= 2:\n",
    "        for i in range(len(path) - 1):\n",
    "            a = path[i]\n",
    "            b = path[i+1]\n",
    "            p.add_lines(a, b, shading={\"line_width\": 0.05})\n",
    "\n",
    "    return p\n"
   ]
  },
  {
   "cell_type": "code",
   "execution_count": 120,
   "metadata": {},
   "outputs": [
    {
     "data": {
      "application/vnd.jupyter.widget-view+json": {
       "model_id": "0825c286d67241259801031a84a39c41",
       "version_major": 2,
       "version_minor": 0
      },
      "text/plain": [
       "Renderer(camera=PerspectiveCamera(children=(DirectionalLight(color='white', intensity=0.6, position=(-0.001504…"
      ]
     },
     "metadata": {},
     "output_type": "display_data"
    },
    {
     "data": {
      "text/plain": [
       "<meshplot.Viewer.Viewer at 0x1a7275e1d20>"
      ]
     },
     "execution_count": 120,
     "metadata": {},
     "output_type": "execute_result"
    }
   ],
   "source": [
    "src = [0]\n",
    "tgt = 300\n",
    "\n",
    "# Extraxt geodesic path from target to source\n",
    "path = extract_geodesic_path(tgt, src, prev, V)\n",
    "\n",
    "# Visualize the geodesic path\n",
    "plot_geodesic_path(V, F, dist, path, src, tgt)"
   ]
  }
 ],
 "metadata": {
  "kernelspec": {
   "display_name": "myenv",
   "language": "python",
   "name": "python3"
  },
  "language_info": {
   "codemirror_mode": {
    "name": "ipython",
    "version": 3
   },
   "file_extension": ".py",
   "mimetype": "text/x-python",
   "name": "python",
   "nbconvert_exporter": "python",
   "pygments_lexer": "ipython3",
   "version": "3.10.16"
  }
 },
 "nbformat": 4,
 "nbformat_minor": 2
}
