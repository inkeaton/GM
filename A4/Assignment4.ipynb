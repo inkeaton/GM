{
 "cells": [
  {
   "cell_type": "code",
   "execution_count": 19,
   "metadata": {},
   "outputs": [],
   "source": [
    "import igl\n",
    "import numpy as np\n",
    "import meshplot as mp\n",
    "\n",
    "from collections import deque"
   ]
  },
  {
   "cell_type": "code",
   "execution_count": 20,
   "metadata": {},
   "outputs": [],
   "source": [
    "# build graph of geodesic distances on a mesh\n",
    "def build_geodesic_graph(V, F):\n",
    "    n = V.shape[0]  # number of vertices\n",
    "    adj = [[] for _ in range(n)]  # adjacency list: for each vertex, list of (neighbor, weight)\n",
    "\n",
    "    # Compute triangle-triangle adjacency for dual edges\n",
    "    TT, _ = igl.triangle_triangle_adjacency(F)\n",
    "\n",
    "    # For each face\n",
    "    for f_idx in range(F.shape[0]):\n",
    "        tri = F[f_idx] \n",
    "\n",
    "        # For each corner of the face\n",
    "        for loc in range(3):\n",
    "            v  = tri[loc]            # current vertex index\n",
    "            w1 = tri[(loc + 1) % 3]  # next vertex index around the triangle\n",
    "            w2 = tri[(loc + 2) % 3]  # other vertex index\n",
    "\n",
    "            # Primal edges\n",
    "            for w in (w1, w2):\n",
    "                d = np.linalg.norm(V[v] - V[w])\n",
    "                # add primal edge\n",
    "                adj[v].append((w, d))\n",
    "                adj[w].append((v, d))\n",
    "\n",
    "            # Dual edges\n",
    "            f2 = int(TT[f_idx, loc])  # adjacent face across edge opposite v\n",
    "            if f2 < 0:\n",
    "                # boundary edge: no adjacent face\n",
    "                continue\n",
    "\n",
    "            # find the vertex in face f2 that is not w1 or w2\n",
    "            edge_vs = {w1, w2}\n",
    "            vp = next(int(x) for x in F[f2] if int(x) not in edge_vs)\n",
    "\n",
    "            # Compute vectors for angle calculations at shared edge vertex w1\n",
    "            w = w1\n",
    "            vec_vw = V[v] - V[w]      # vector v->w\n",
    "            vec_uw = V[w2] - V[w]     # vector w2->w (edge direction)\n",
    "            vec_vpw = V[vp] - V[w]    # vector vp->w (across triangle f2)\n",
    "\n",
    "            # norms of these vectors\n",
    "            nv  = np.linalg.norm(vec_vw)\n",
    "            nu  = np.linalg.norm(vec_uw)\n",
    "            npv = np.linalg.norm(vec_vpw)\n",
    "\n",
    "            # corner angles at w in both triangles\n",
    "            alfa = np.arccos(np.clip(np.dot(vec_vw, vec_uw) / (nv * nu), -1, 1))\n",
    "            beta = np.arccos(np.clip(np.dot(vec_vpw, vec_uw) / (npv * nu), -1, 1))\n",
    "\n",
    "            # Geodesic length between v and vp via w\n",
    "            dual_len = np.sqrt(nv**2 + npv**2 - 2 * nv * npv * np.cos(alfa + beta))\n",
    "    \n",
    "            # add dual edge\n",
    "            adj[v].append((vp, dual_len))\n",
    "            adj[vp].append((v, dual_len))\n",
    "    return adj\n",
    "\n",
    "# Compute geodesic distances from sources\n",
    "def geodesic_distances(adj, sources):\n",
    "    n = len(adj)\n",
    "    dist = np.full(n, np.inf)  # initialize all distances to infinity\n",
    "    Q = deque()                # deque for SLF-LLL\n",
    "\n",
    "    # Initialize queue with all source vertices at distance 0\n",
    "    for s in sources:\n",
    "        dist[s] = 0.0\n",
    "        Q.append(s)\n",
    "\n",
    "    # Propagate distances\n",
    "    while Q:\n",
    "        u = Q.popleft()\n",
    "        du = dist[u]\n",
    "        # relax all outgoing edges from u\n",
    "        for v, w in adj[u]:\n",
    "            alt = du + w\n",
    "            if alt < dist[v]:\n",
    "                dist[v] = alt\n",
    "                # SLF–LLL: push to front if smaller than current front\n",
    "                if Q and alt < dist[Q[0]]:\n",
    "                    Q.appendleft(v)\n",
    "                else:\n",
    "                    Q.append(v)\n",
    "\n",
    "    return dist\n"
   ]
  },
  {
   "cell_type": "code",
   "execution_count": 21,
   "metadata": {},
   "outputs": [],
   "source": [
    "# extract path from target to a source\n",
    "def extract_geodesic_path(target, sources, dist, V, F):\n",
    "    path = []\n",
    "\n",
    "\n",
    "    \n",
    "    return path\n",
    "    \n",
    "\n",
    "def plot_geodesic_path(V, F, dist, path, src, target):\n",
    "    p = mp.plot(V, F, c=dist, shading={\"wireframe\": False})\n",
    "\n",
    "    # mark sources\n",
    "    p.add_points(V[src, :], c=np.array([[1.0, 0.0, 0.0]]), shading={\"point_size\": 0.02})\n",
    "    # mark target\n",
    "    p.add_points(V[[target], :], c=np.array([[0.0, 1.0, 0.0]]), shading={\"point_size\": 0.02})\n",
    "\n",
    "    # draw path\n",
    "    if len(path) >= 2:\n",
    "        for i in range(len(path) - 1):\n",
    "            a = V[path[i]]\n",
    "            b = V[path[i+1]]\n",
    "            p.add_lines(a, b, shading={\"line_width\": 0.05})\n",
    "\n",
    "    return p\n"
   ]
  },
  {
   "cell_type": "code",
   "execution_count": 23,
   "metadata": {},
   "outputs": [],
   "source": [
    "# Load the test mesh\n",
    "V, F = igl.read_triangle_mesh(\"./data/bunny_1k.obj\")\n",
    "#mp.plot(V, F, shading={\"wireframe\": True})"
   ]
  },
  {
   "cell_type": "code",
   "execution_count": 24,
   "metadata": {},
   "outputs": [
    {
     "data": {
      "application/vnd.jupyter.widget-view+json": {
       "model_id": "86ffeaff1fd14c4b8e7c43ef4e52c2ba",
       "version_major": 2,
       "version_minor": 0
      },
      "text/plain": [
       "Renderer(camera=PerspectiveCamera(children=(DirectionalLight(color='white', intensity=0.6, position=(-0.001504…"
      ]
     },
     "metadata": {},
     "output_type": "display_data"
    },
    {
     "data": {
      "text/plain": [
       "1"
      ]
     },
     "execution_count": 24,
     "metadata": {},
     "output_type": "execute_result"
    }
   ],
   "source": [
    "# compute geodesic distances\n",
    "adj = build_geodesic_graph(V, F)\n",
    "\n",
    "src = [0]\n",
    "tgt = 9\n",
    "\n",
    "dist = geodesic_distances(adj, src)\n",
    "\n",
    "# apply color map\n",
    "plotter = mp.plot(V, F, c=dist, shading={\"wireframe\": False})\n",
    "\n",
    "# mark the source with a red point\n",
    "plotter.add_points(V[[src], :], c=np.array([[1.0, 0.0, 0.0]]), shading={\"point_size\": 0.1})"
   ]
  },
  {
   "cell_type": "code",
   "execution_count": null,
   "metadata": {},
   "outputs": [
    {
     "ename": "TypeError",
     "evalue": "'numpy.intc' object is not iterable",
     "output_type": "error",
     "traceback": [
      "\u001b[1;31m---------------------------------------------------------------------------\u001b[0m",
      "\u001b[1;31mTypeError\u001b[0m                                 Traceback (most recent call last)",
      "Cell \u001b[1;32mIn[25], line 5\u001b[0m\n\u001b[0;32m      2\u001b[0m tgt \u001b[38;5;241m=\u001b[39m \u001b[38;5;241m300\u001b[39m\n\u001b[0;32m      4\u001b[0m \u001b[38;5;66;03m# Extraxt geodesic path from target to source\u001b[39;00m\n\u001b[1;32m----> 5\u001b[0m path \u001b[38;5;241m=\u001b[39m \u001b[43mextract_geodesic_path2\u001b[49m\u001b[43m(\u001b[49m\u001b[43mtgt\u001b[49m\u001b[43m,\u001b[49m\u001b[43m \u001b[49m\u001b[43msrc\u001b[49m\u001b[43m,\u001b[49m\u001b[43m \u001b[49m\u001b[43mdist\u001b[49m\u001b[43m,\u001b[49m\u001b[43m \u001b[49m\u001b[43mV\u001b[49m\u001b[43m,\u001b[49m\u001b[43m \u001b[49m\u001b[43mF\u001b[49m\u001b[43m)\u001b[49m\n\u001b[0;32m      7\u001b[0m \u001b[38;5;66;03m# Visualize the geodesic path\u001b[39;00m\n\u001b[0;32m      8\u001b[0m plot_geodesic_path(V, F, dist, path, src, tgt)\n",
      "Cell \u001b[1;32mIn[22], line 30\u001b[0m, in \u001b[0;36mextract_geodesic_path2\u001b[1;34m(target, sources, dist, V, F, max_iters, tol)\u001b[0m\n\u001b[0;32m     28\u001b[0m min_face \u001b[38;5;241m=\u001b[39m \u001b[38;5;28;01mNone\u001b[39;00m\n\u001b[0;32m     29\u001b[0m min_val \u001b[38;5;241m=\u001b[39m np\u001b[38;5;241m.\u001b[39minf\n\u001b[1;32m---> 30\u001b[0m \u001b[38;5;28;01mfor\u001b[39;00m fid \u001b[38;5;129;01min\u001b[39;00m VF[target]:\n\u001b[0;32m     31\u001b[0m     tri \u001b[38;5;241m=\u001b[39m F[fid]\n\u001b[0;32m     32\u001b[0m     val \u001b[38;5;241m=\u001b[39m dist[tri[\u001b[38;5;241m0\u001b[39m]] \u001b[38;5;241m+\u001b[39m dist[tri[\u001b[38;5;241m1\u001b[39m]] \u001b[38;5;241m+\u001b[39m dist[tri[\u001b[38;5;241m2\u001b[39m]]\n",
      "\u001b[1;31mTypeError\u001b[0m: 'numpy.intc' object is not iterable"
     ]
    }
   ],
   "source": [
    "src = [0]\n",
    "tgt = 300\n",
    "\n",
    "# Extraxt geodesic path from target to source\n",
    "path = extract_geodesic_path(tgt, src, dist, V, F)\n",
    "\n",
    "# Visualize the geodesic path\n",
    "plot_geodesic_path(V, F, dist, path, src, tgt)"
   ]
  }
 ],
 "metadata": {
  "kernelspec": {
   "display_name": "myenv",
   "language": "python",
   "name": "python3"
  },
  "language_info": {
   "codemirror_mode": {
    "name": "ipython",
    "version": 3
   },
   "file_extension": ".py",
   "mimetype": "text/x-python",
   "name": "python",
   "nbconvert_exporter": "python",
   "pygments_lexer": "ipython3",
   "version": "3.10.16"
  }
 },
 "nbformat": 4,
 "nbformat_minor": 2
}
