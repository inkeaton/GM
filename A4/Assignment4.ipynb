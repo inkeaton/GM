{
 "cells": [
  {
   "cell_type": "markdown",
   "metadata": {},
   "source": [
    "# Assigment 4 - Geodesic distance fields and paths\n",
    "## Edoardo Vassallo - S4965918\n",
    "### Done on igl 2.2.1"
   ]
  },
  {
   "cell_type": "code",
   "execution_count": 224,
   "metadata": {},
   "outputs": [],
   "source": [
    "import igl\n",
    "import numpy as np\n",
    "import meshplot as mp\n",
    "\n",
    "from collections import deque"
   ]
  },
  {
   "cell_type": "markdown",
   "metadata": {},
   "source": [
    "## 1 - Geodesic Graph"
   ]
  },
  {
   "cell_type": "code",
   "execution_count": 225,
   "metadata": {},
   "outputs": [],
   "source": [
    "# AUXILLARY FUNCTIONS\n",
    "\n",
    "# Compute the shortest distance from point pt to segment [a, b].\n",
    "def point_to_segment_distance(pt, a, b) -> float:\n",
    "    # Vector from a to b\n",
    "    ab = b - a\n",
    "    # Project (pt - a) onto ab, parameterized by t\n",
    "    t = np.dot(pt - a, ab) / np.dot(ab, ab)\n",
    "    # Clamp t to [0, 1] to stay within segment\n",
    "    t = np.clip(t, 0.0, 1.0)\n",
    "    # Closest point on segment\n",
    "    projection = a + t * ab\n",
    "    # Euclidean distance\n",
    "    return np.linalg.norm(pt - projection)\n",
    "\n",
    "# Compute 2D intersection between two segments p1p2 and w1w2\n",
    "# if not found, return the closest vertex w to p1p2\n",
    "def compute_2D_intersection_or_closest(p1, p2, w1, w2,):\n",
    "    r = p2 - p1\n",
    "    s = w2 - w1\n",
    "    cross_r_s = np.cross(r, s)\n",
    "\n",
    "    # If lines are not parallel\n",
    "    if abs(cross_r_s) > 1e-8:\n",
    "        # Compute parameters t and u for the intersection point\n",
    "        q_minus_p = w1 - p1\n",
    "        t = np.cross(q_minus_p, s) / cross_r_s\n",
    "        u = np.cross(q_minus_p, r) / cross_r_s\n",
    "\n",
    "        # Check if intersection lies on both segments\n",
    "        if 0.0 <= t <= 1.0 and 0.0 <= u <= 1.0:\n",
    "            return p1 + t * r\n",
    "\n",
    "    # Otherwise, pick the closer w-endpoint\n",
    "    return w1 if point_to_segment_distance(w1, p1, p2) < point_to_segment_distance(w2, p1, p2) else w2\n",
    "\n",
    "# Compute the 3D intersection point between the dual edge p1-p2 and edge w1-w2.\n",
    "def compute_3D_intersection(V, idx_p1, idx_p2, idx_w1, idx_w2,):\n",
    "    # vertex coordinates\n",
    "    p1_3d = np.asarray(V[idx_p1])\n",
    "    p2_3d = np.asarray(V[idx_p2])\n",
    "    w1_3d = np.asarray(V[idx_w1])\n",
    "    w2_3d = np.asarray(V[idx_w2])\n",
    "\n",
    "    # Define 2D frame along w1->w2\n",
    "    origin = w1_3d\n",
    "    edge_vec = w2_3d - w1_3d\n",
    "    length = np.linalg.norm(edge_vec)\n",
    "    x_axis = edge_vec / length\n",
    "\n",
    "    # Normal of plane (z-axis)\n",
    "    ref_vec = p1_3d - w1_3d\n",
    "    normal = np.cross(x_axis, ref_vec)\n",
    "    normal /= np.linalg.norm(normal)\n",
    "    # y-axis orthogonal to x and normal\n",
    "    y_axis = np.cross(normal, x_axis)\n",
    "\n",
    "    # 2D coords of p1 and w1,w2\n",
    "    w1_2d = np.array([0.0, 0.0])\n",
    "    w2_2d = np.array([length, 0.0])\n",
    "    p1_2d = np.array([np.dot(p1_3d - origin, x_axis), np.dot(p1_3d - origin, y_axis)])\n",
    "\n",
    "    # 2D coords of p2 via circle intersection\n",
    "    r1 = np.linalg.norm(p2_3d - origin)\n",
    "    r2 = np.linalg.norm(p2_3d - w2_3d)\n",
    "    d = length\n",
    "    # Distance along x-axis to circle intersection midpoint\n",
    "    a = (r1**2 - r2**2 + d**2) / (2 * d)\n",
    "    # Height from midpoint\n",
    "    h = np.sqrt(max(r1**2 - a**2, 0.0))\n",
    "\n",
    "    mid = np.array([a, 0.0])\n",
    "    # two candidate points\n",
    "    candidates = [mid + np.array([0.0, h]), mid - np.array([0.0, h])]\n",
    "    # choose the one opposite side of p1\n",
    "    side_p1 = np.sign(np.cross(w2_2d - w1_2d, p1_2d - w1_2d))\n",
    "    p2_2d = next(\n",
    "        c for c in candidates\n",
    "        if np.sign(np.cross(w2_2d - w1_2d, c - w1_2d)) == -side_p1\n",
    "    )\n",
    "\n",
    "    # Compute 2D intersection or closest on w-segment\n",
    "    intersect_2d = compute_2D_intersection_or_closest(p1_2d, p2_2d, w1_2d, w2_2d)\n",
    "\n",
    "    # Map back to 3D\n",
    "    return origin + intersect_2d[0] * x_axis + intersect_2d[1] * y_axis\n",
    "\n",
    "\n",
    "# given face i, find the vertex vp opposite \n",
    "# to the edge (b, c) on the adjacent face\n",
    "def find_opposite_vertex(i, b, c, F, TT):\n",
    "    face = F[i]\n",
    "    for j in range(3):\n",
    "        # look for edge (b, c) in face i\n",
    "        v0, v1 = face[j], face[(j+1) % 3]\n",
    "        if {v0, v1} == {b, c}:\n",
    "            # get the triangle-triangle adjacency index for this edge\n",
    "            nbr = TT[i, j]\n",
    "            if nbr == -1:\n",
    "                return None  # Boundary edge, no adjacent face\n",
    "            # Adjacent face F[nbr] contains [vp, b, c]\n",
    "            # Find the vertex in F[nbr] that is not b or c\n",
    "            for vp in F[nbr]:\n",
    "                if vp not in (b, c):\n",
    "                    return int(vp)\n",
    "    return None  # Edge not found in face i\n",
    "\n"
   ]
  },
  {
   "cell_type": "code",
   "execution_count": 226,
   "metadata": {},
   "outputs": [],
   "source": [
    "# Build graph of geodesic distances on a mesh\n",
    "def build_geodesic_graph(V, F):\n",
    "    n = V.shape[0]  # number of vertices\n",
    "    adj = [[] for _ in range(n)]  # adjacency list: for each vertex, list of (neighbor, weight)\n",
    "\n",
    "    # Compute triangle-triangle adjacency for dual edges\n",
    "    TT, TTi = igl.triangle_triangle_adjacency(F)\n",
    "\n",
    "    # For each face\n",
    "    for f_idx in range(F.shape[0]):\n",
    "        tri = F[f_idx] \n",
    "\n",
    "        # For each corner of the face\n",
    "        for loc in range(3):\n",
    "            v  = tri[loc]            # current vertex index\n",
    "            w1 = tri[(loc + 1) % 3]  # next vertex index around the triangle\n",
    "            w2 = tri[(loc + 2) % 3]  # other vertex index\n",
    "\n",
    "            # Primal edges\n",
    "            for w in (w1, w2):\n",
    "                d = np.linalg.norm(V[v] - V[w])\n",
    "                # add primal edge\n",
    "                adj[v].append((w, d, None)) # (neighbor, weight, dual edge intersection)\n",
    "                adj[w].append((v, d, None))\n",
    "\n",
    "            # Dual edge\n",
    "            # find vertex vp which composes the dual edge with v\n",
    "            vp = find_opposite_vertex(f_idx, w1, w2, F, TT,) \n",
    "            if vp is None:\n",
    "                continue\n",
    "\n",
    "            # Compute vectors for angle calculations at shared edge vertex w1\n",
    "            v_w1_v  = V[v]  - V[w1]    # vector w1->v\n",
    "            v_w1_w2 = V[w2] - V[w1]    # vector w1->w2 (edge direction)\n",
    "            v_w1_vp = V[vp] - V[w1]    # vector w1->vp \n",
    "\n",
    "            # norms of these vectors\n",
    "            n_w1_v  = np.linalg.norm(v_w1_v)\n",
    "            n_w1_w2 = np.linalg.norm(v_w1_w2)\n",
    "            n_w1_vp = np.linalg.norm(v_w1_vp)\n",
    "\n",
    "            # corner angles at w1 in both triangles\n",
    "            alfa = np.arccos(np.clip(np.dot(v_w1_v, v_w1_w2) / (n_w1_v * n_w1_w2), -1, 1))\n",
    "            beta = np.arccos(np.clip(np.dot(v_w1_vp, v_w1_w2) / (n_w1_vp * n_w1_w2), -1, 1))\n",
    "\n",
    "            # Geodesic length between v and vp via w1\n",
    "            dual_len = np.sqrt(n_w1_v**2 + n_w1_vp**2 - 2 * n_w1_v * n_w1_vp * np.cos(alfa + beta))\n",
    "\n",
    "            # compute intersection point of the dual edge with the primal edge w1-w2\n",
    "            intersection = compute_3D_intersection(V, v, vp, w1, w2)\n",
    "            \n",
    "            # add dual edge\n",
    "            adj[v].append((vp, dual_len, intersection))  # (neighbor, weight, intersection point)\n",
    "            adj[vp].append((v, dual_len, intersection))  \n",
    "    return adj"
   ]
  },
  {
   "cell_type": "markdown",
   "metadata": {},
   "source": [
    "## 2 - Geodesic Solver"
   ]
  },
  {
   "cell_type": "code",
   "execution_count": 227,
   "metadata": {},
   "outputs": [],
   "source": [
    "# Compute geodesic distances from sources\n",
    "def geodesic_distances(adj, sources):\n",
    "    n = len(adj)\n",
    "    prev     = [(None, None)] * n\n",
    "    dist     = np.full(n, np.inf)\n",
    "    in_queue = [False] * n\n",
    "    Q        = deque()\n",
    "\n",
    "    # Initialize\n",
    "    for s in sources:\n",
    "        dist[s]      = 0.0\n",
    "        Q.append(s)\n",
    "        in_queue[s] = True\n",
    "\n",
    "    while Q:\n",
    "        # LLL check: compare front label to queue average\n",
    "        avg = sum(dist[x] for x in Q) / len(Q)\n",
    "        if dist[Q[0]] > avg:\n",
    "            # If the front label is larger than the average,\n",
    "            # move it to the back to maintain small-label-first order\n",
    "            Q.append(Q.popleft())\n",
    "            continue\n",
    "\n",
    "        u = Q.popleft()\n",
    "        in_queue[u] = False\n",
    "        du = dist[u]\n",
    "\n",
    "        for v, w, intersection in adj[u]:\n",
    "            alt = du + w\n",
    "            # if the new distance is shorter, update it\n",
    "            if alt < dist[v]:\n",
    "                dist[v] = alt\n",
    "                prev[v] = (u, intersection)\n",
    "                if not in_queue[v]:\n",
    "                    # SLF: small‑label‑first\n",
    "                    if Q and alt < dist[Q[0]]:\n",
    "                        # if smaller than the first element in \n",
    "                        # the queue, append to front\n",
    "                        Q.appendleft(v)\n",
    "                    else:\n",
    "                        # otherwise, append to the back\n",
    "                        Q.append(v)\n",
    "                    in_queue[v] = True\n",
    "\n",
    "    return dist, prev\n"
   ]
  },
  {
   "cell_type": "code",
   "execution_count": 228,
   "metadata": {},
   "outputs": [],
   "source": [
    "# Load the test mesh\n",
    "V, F = igl.read_triangle_mesh(\"./data/bunny_1k.obj\")\n",
    "#mp.plot(V, F, shading={\"wireframe\": True})"
   ]
  },
  {
   "cell_type": "code",
   "execution_count": 229,
   "metadata": {},
   "outputs": [
    {
     "data": {
      "application/vnd.jupyter.widget-view+json": {
       "model_id": "c6c4d150326144beaef14fe2e0b190a8",
       "version_major": 2,
       "version_minor": 0
      },
      "text/plain": [
       "Renderer(camera=PerspectiveCamera(children=(DirectionalLight(color='white', intensity=0.6, position=(-0.001504…"
      ]
     },
     "metadata": {},
     "output_type": "display_data"
    },
    {
     "data": {
      "text/plain": [
       "1"
      ]
     },
     "execution_count": 229,
     "metadata": {},
     "output_type": "execute_result"
    }
   ],
   "source": [
    "# Compute geodesic distances\n",
    "adj = build_geodesic_graph(V, F)\n",
    "\n",
    "src = [0]\n",
    "\n",
    "dist, prev = geodesic_distances(adj, src)\n",
    "\n",
    "# apply color map\n",
    "plotter = mp.plot(V, F, c=dist, shading={\"wireframe\": False})\n",
    "\n",
    "# mark the source with a red point\n",
    "plotter.add_points(V[[src], :], c=np.array([[1.0, 0.0, 0.0]]), shading={\"point_size\": 0.1})"
   ]
  },
  {
   "cell_type": "markdown",
   "metadata": {},
   "source": [
    "## 3. Shortest path between two points [Optional]"
   ]
  },
  {
   "cell_type": "code",
   "execution_count": 230,
   "metadata": {},
   "outputs": [],
   "source": [
    "# extract path from target to a source\n",
    "def extract_geodesic_path(target, sources, prev, V):\n",
    "    path = []\n",
    "    current = target\n",
    "    while current is not None:\n",
    "        path.append(V[current])\n",
    "        if current in sources:\n",
    "            break  # stop if we reach a source\n",
    "        current, intersection = prev[current]  # get previous vertex and eventual intersection point\n",
    "        if intersection is not None:\n",
    "            # dual edge intersection point\n",
    "            path.append(intersection)  \n",
    "    return path\n",
    "\n",
    "# plot extracted geodesic path on the mesh\n",
    "def plot_geodesic_path(V, F, dist, path, src, target):\n",
    "    p = mp.plot(V, F, c=dist, shading={\"wireframe\": False, \"colormap\" : \"spring\"})\n",
    "\n",
    "    # mark sources\n",
    "    p.add_points(V[src, :], c=np.array([[1.0, 0.0, 0.0]]), shading={\"point_size\": 0.02})\n",
    "    # mark target\n",
    "    p.add_points(V[[target], :], c=np.array([[0.0, 1.0, 0.0]]), shading={\"point_size\": 0.02})\n",
    "\n",
    "    # draw path\n",
    "    if len(path) >= 2:\n",
    "        for i in range(len(path) - 1):\n",
    "            a = path[i]\n",
    "            b = path[i+1]\n",
    "            p.add_lines(a, b, shading={\"line_width\": 0.05})\n",
    "\n",
    "    return p\n"
   ]
  },
  {
   "cell_type": "code",
   "execution_count": 231,
   "metadata": {},
   "outputs": [
    {
     "data": {
      "application/vnd.jupyter.widget-view+json": {
       "model_id": "e44140a3391744068c1a5cc0eda4f439",
       "version_major": 2,
       "version_minor": 0
      },
      "text/plain": [
       "Renderer(camera=PerspectiveCamera(children=(DirectionalLight(color='white', intensity=0.6, position=(-0.001504…"
      ]
     },
     "metadata": {},
     "output_type": "display_data"
    },
    {
     "data": {
      "text/plain": [
       "<meshplot.Viewer.Viewer at 0x2965321d090>"
      ]
     },
     "execution_count": 231,
     "metadata": {},
     "output_type": "execute_result"
    }
   ],
   "source": [
    "#tgt = 146000 # example for bunny_500k.obj\n",
    "tgt = 300 # example for bunny_1k.obj\n",
    "\n",
    "# Extract geodesic path from target to source\n",
    "path = extract_geodesic_path(tgt, src, prev, V)\n",
    "\n",
    "# Visualize the geodesic path\n",
    "# a different color map is used in order to better see the traced path\n",
    "plot_geodesic_path(V, F, dist, path, src, tgt)"
   ]
  }
 ],
 "metadata": {
  "kernelspec": {
   "display_name": "myenv",
   "language": "python",
   "name": "python3"
  },
  "language_info": {
   "codemirror_mode": {
    "name": "ipython",
    "version": 3
   },
   "file_extension": ".py",
   "mimetype": "text/x-python",
   "name": "python",
   "nbconvert_exporter": "python",
   "pygments_lexer": "ipython3",
   "version": "3.10.16"
  }
 },
 "nbformat": 4,
 "nbformat_minor": 2
}
