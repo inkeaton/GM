{
 "cells": [
  {
   "cell_type": "code",
   "execution_count": 35,
   "metadata": {},
   "outputs": [],
   "source": [
    "import igl\n",
    "import numpy as np\n",
    "import meshplot as mp"
   ]
  },
  {
   "cell_type": "code",
   "execution_count": 36,
   "metadata": {},
   "outputs": [],
   "source": [
    "from collections import deque\n",
    "\n",
    "def build_geodesic_graph(V, F):\n",
    "    n = V.shape[0]\n",
    "    adj = [[] for _ in range(n)]\n",
    "    # triangle–triangle adjacency\n",
    "    TT, _ = igl.triangle_triangle_adjacency(F)\n",
    "    for f_idx in range(F.shape[0]):\n",
    "        tri = F[f_idx]\n",
    "        for loc in range(3):\n",
    "            v = int(tri[loc])\n",
    "            w1, w2 = int(tri[(loc+1)%3]), int(tri[(loc+2)%3])\n",
    "            # primal edges\n",
    "            for w in (w1, w2):\n",
    "                d = np.linalg.norm(V[v] - V[w])\n",
    "                adj[v].append((w, d))\n",
    "                adj[w].append((v, d))\n",
    "            # dual edges\n",
    "            f2 = int(TT[f_idx, loc])\n",
    "            if f2 < 0:\n",
    "                continue\n",
    "            edge_vs = {w1, w2}\n",
    "            vp = next(int(x) for x in F[f2] if int(x) not in edge_vs)\n",
    "            # compute “geodesic” dual‐edge length via corner angles\n",
    "            w = w1\n",
    "            vec_vw = V[v] - V[w]\n",
    "            vec_uw = V[w2] - V[w]\n",
    "            vec_vpw = V[vp] - V[w]\n",
    "            nv, nu, npv = np.linalg.norm(vec_vw), np.linalg.norm(vec_uw), np.linalg.norm(vec_vpw)\n",
    "            alfa = np.arccos(np.clip(np.dot(vec_vw, vec_uw)/(nv*nu), -1,1))\n",
    "            beta = np.arccos(np.clip(np.dot(vec_vpw, vec_uw)/(npv*nu), -1,1))\n",
    "            dual_len = np.sqrt(nv**2 + npv**2 - 2*nv*npv*np.cos(alfa+beta))\n",
    "            adj[v].append((vp, dual_len))\n",
    "            adj[vp].append((v, dual_len))\n",
    "    return adj\n",
    "\n",
    "def geodesic_distances(adj, sources):\n",
    "    n = len(adj)\n",
    "    dist = np.full(n, np.inf)\n",
    "    prev = [None]*n\n",
    "    Q = deque()\n",
    "    for s in sources:\n",
    "        dist[s] = 0.0\n",
    "        Q.append(s)\n",
    "    while Q:\n",
    "        u = Q.popleft()\n",
    "        du = dist[u]\n",
    "        for v, w in adj[u]:\n",
    "            alt = du + w\n",
    "            if alt < dist[v]:\n",
    "                dist[v] = alt\n",
    "                prev[v] = u\n",
    "                # SLF–LLL\n",
    "                if Q and alt < dist[Q[0]]:\n",
    "                    Q.appendleft(v)\n",
    "                else:\n",
    "                    Q.append(v)\n",
    "    return dist, prev\n"
   ]
  },
  {
   "cell_type": "code",
   "execution_count": 37,
   "metadata": {},
   "outputs": [],
   "source": [
    "def extract_geodesic_path(prev, target):\n",
    "    \"\"\"\n",
    "    Estrae il percorso geodesico da un punto sorgente a un punto target.\n",
    "    \n",
    "    Args:\n",
    "        prev: Lista dei predecessori ritornata da geodesic_distances\n",
    "        target: Indice del vertice di destinazione\n",
    "        \n",
    "    Returns:\n",
    "        Una lista di indici dei vertici che formano il percorso\n",
    "    \"\"\"\n",
    "    path = []\n",
    "    curr = target\n",
    "    \n",
    "    # Se prev[target] è None e target non è il punto di partenza,\n",
    "    # significa che non esiste un percorso\n",
    "    if prev[curr] is None and curr != 0:  # 0 è il punto di partenza\n",
    "        return path\n",
    "    \n",
    "    # Ricostruisci il percorso seguendo i predecessori\n",
    "    while curr is not None:\n",
    "        path.append(curr)\n",
    "        curr = prev[curr]\n",
    "    \n",
    "    # Inverti il percorso per averlo dalla sorgente alla destinazione\n",
    "    path.reverse()\n",
    "    \n",
    "    return path\n",
    "\n",
    "def plot_geodesic_path(V, F, dist, path, src, target):\n",
    "    \"\"\"\n",
    "    Visualizza la mesh con le distanze geodetiche e il percorso minimo.\n",
    "    \n",
    "    Args:\n",
    "        V, F: Vertici e facce della mesh\n",
    "        dist: Array delle distanze geodetiche\n",
    "        path: Lista di indici dei vertici nel percorso\n",
    "        src: Indice del vertice sorgente\n",
    "        target: Indice del vertice destinazione\n",
    "    \"\"\"\n",
    "    # Crea la visualizzazione principale con le distanze geodetiche\n",
    "    p = mp.plot(V, F, c=dist, shading={\"wireframe\": False})\n",
    "    \n",
    "    # Aggiungi il punto sorgente (rosso)\n",
    "    p.add_points(V[src:src+1], c=np.array([[1.0, 0.0, 0.0]]))\n",
    "    \n",
    "    # Aggiungi il punto target (verde)\n",
    "    p.add_points(V[target:target+1], c=np.array([[0.0, 1.0, 0.0]]))\n",
    "    \n",
    "    # Crea segmenti di linea per il percorso\n",
    "    if path and len(path) > 1:\n",
    "        # Crea array di segmenti di linea\n",
    "        lines = np.zeros((len(path)-1, 2), dtype=int)\n",
    "        for i in range(len(path)-1):\n",
    "            lines[i] = [path[i], path[i+1]]\n",
    "            \n",
    "        # Aggiungi le linee alla visualizzazione\n",
    "        # Usiamo direttamente i vertici e gli indici delle linee\n",
    "        p.add_edges(V, lines, shading={\"line_width\": 5.0})\n",
    "    \n",
    "    return p"
   ]
  },
  {
   "cell_type": "code",
   "execution_count": 38,
   "metadata": {},
   "outputs": [
    {
     "data": {
      "application/vnd.jupyter.widget-view+json": {
       "model_id": "c973ef52e03a438f801edcbd16b60e7d",
       "version_major": 2,
       "version_minor": 0
      },
      "text/plain": [
       "Renderer(camera=PerspectiveCamera(children=(DirectionalLight(color='white', intensity=0.6, position=(-0.016860…"
      ]
     },
     "metadata": {},
     "output_type": "display_data"
    },
    {
     "data": {
      "text/plain": [
       "<meshplot.Viewer.Viewer at 0x261b3b04bb0>"
      ]
     },
     "execution_count": 38,
     "metadata": {},
     "output_type": "execute_result"
    }
   ],
   "source": [
    "# ——— Usage with meshplot ———\n",
    "# 1. Load your mesh\n",
    "V, F = igl.read_triangle_mesh(\"./data/bunny.off\")\n",
    "mp.plot(V, F, shading={\"wireframe\": True})"
   ]
  },
  {
   "cell_type": "code",
   "execution_count": 39,
   "metadata": {},
   "outputs": [
    {
     "data": {
      "application/vnd.jupyter.widget-view+json": {
       "model_id": "f80aedad2149476c8ef95dce3fd731aa",
       "version_major": 2,
       "version_minor": 0
      },
      "text/plain": [
       "Renderer(camera=PerspectiveCamera(children=(DirectionalLight(color='white', intensity=0.6, position=(-0.016860…"
      ]
     },
     "metadata": {},
     "output_type": "display_data"
    },
    {
     "name": "stdout",
     "output_type": "stream",
     "text": [
      "Invalid color array given! Supported are numpy arrays. <class 'list'>\n"
     ]
    },
    {
     "data": {
      "application/vnd.jupyter.widget-view+json": {
       "model_id": "f5006ca18fe7411cb7b75a1acc35f936",
       "version_major": 2,
       "version_minor": 0
      },
      "text/plain": [
       "Renderer(camera=PerspectiveCamera(children=(DirectionalLight(color='white', intensity=0.6, position=(-0.016860…"
      ]
     },
     "metadata": {},
     "output_type": "display_data"
    },
    {
     "data": {
      "text/plain": [
       "<meshplot.Viewer.Viewer at 0x261b3d17970>"
      ]
     },
     "execution_count": 39,
     "metadata": {},
     "output_type": "execute_result"
    }
   ],
   "source": [
    "# 2) Compute geodesics\n",
    "adj = build_geodesic_graph(V, F)\n",
    "\n",
    "src = 0\n",
    "tgt = 255\n",
    "\n",
    "dist, prev = geodesic_distances(adj, [src])\n",
    "\n",
    "# 3a) Simple Viridis (default)\n",
    "plotter = mp.plot(V, F, c=dist, shading={\"wireframe\": False})\n",
    "\n",
    "# 5) Overlay the source as a red point\n",
    "plotter.add_points(\n",
    "    V[[src], :],              # shape (1,3)\n",
    "    c=[[1.0, 0.0, 0.0]],       # red\n",
    ")\n",
    "\n",
    "# Estrai il percorso geodesico\n",
    "path = extract_geodesic_path(prev, tgt)\n",
    "\n",
    "# Visualizza il percorso sulla mesh\n",
    "plot_geodesic_path(V, F, dist, path, src, tgt)\n"
   ]
  }
 ],
 "metadata": {
  "kernelspec": {
   "display_name": "myenv",
   "language": "python",
   "name": "python3"
  },
  "language_info": {
   "codemirror_mode": {
    "name": "ipython",
    "version": 3
   },
   "file_extension": ".py",
   "mimetype": "text/x-python",
   "name": "python",
   "nbconvert_exporter": "python",
   "pygments_lexer": "ipython3",
   "version": "3.10.16"
  }
 },
 "nbformat": 4,
 "nbformat_minor": 2
}
