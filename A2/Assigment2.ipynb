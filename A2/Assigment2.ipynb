{
 "cells": [
  {
   "cell_type": "code",
   "execution_count": 27,
   "metadata": {
    "scrolled": true
   },
   "outputs": [],
   "source": [
    "import numpy as np\n",
    "import igl\n",
    "import meshplot as mp"
   ]
  },
  {
   "cell_type": "code",
   "execution_count": 28,
   "metadata": {
    "scrolled": true
   },
   "outputs": [],
   "source": [
    "# Utility function to generate a tet grid\n",
    "# n is a 3-tuple with the number of cell in every direction\n",
    "# mmin/mmax are the grid bounding box corners\n",
    "\n",
    "def tet_grid(n, mmin, mmax):\n",
    "    nx = n[0]\n",
    "    ny = n[1]\n",
    "    nz = n[2]\n",
    "    \n",
    "    delta = mmax-mmin\n",
    "    \n",
    "    deltax = delta[0]/(nx-1)\n",
    "    deltay = delta[1]/(ny-1)\n",
    "    deltaz = delta[2]/(nz-1)\n",
    "    \n",
    "    T = np.zeros(((nx-1)*(ny-1)*(nz-1)*6, 4), dtype=np.int64)\n",
    "    V = np.zeros((nx*ny*nz, 3))\n",
    "\n",
    "    mapping = -np.ones((nx, ny, nz), dtype=np.int64)\n",
    "\n",
    "\n",
    "    index = 0\n",
    "    for i in range(nx):\n",
    "        for j in range(ny):\n",
    "            for k in range(nz):\n",
    "                mapping[i, j, k] = index\n",
    "                V[index, :] = [i*deltax, j*deltay, k*deltaz]\n",
    "                index += 1\n",
    "    assert(index == V.shape[0])\n",
    "    \n",
    "    tets = np.array([\n",
    "        [0,1,3,4],\n",
    "        [5,2,6,7],\n",
    "        [4,1,5,3],\n",
    "        [4,3,7,5],\n",
    "        [3,1,5,2],\n",
    "        [2,3,7,5]\n",
    "    ])\n",
    "    \n",
    "    index = 0\n",
    "    for i in range(nx-1):\n",
    "        for j in range(ny-1):\n",
    "            for k in range(nz-1):\n",
    "                indices = [\n",
    "                    (i,   j,   k),\n",
    "                    (i+1, j,   k),\n",
    "                    (i+1, j+1, k),\n",
    "                    (i,   j+1, k),\n",
    "\n",
    "                    (i,   j,   k+1),\n",
    "                    (i+1, j,   k+1),\n",
    "                    (i+1, j+1, k+1),\n",
    "                    (i,   j+1, k+1),\n",
    "                ]\n",
    "                \n",
    "                for t in range(tets.shape[0]):\n",
    "                    tmp = [mapping[indices[ii]] for ii in tets[t, :]]\n",
    "                    T[index, :]=tmp\n",
    "                    index += 1\n",
    "                    \n",
    "    assert(index == T.shape[0])\n",
    "    \n",
    "    V += mmin\n",
    "    return V, T"
   ]
  },
  {
   "cell_type": "markdown",
   "metadata": {},
   "source": [
    "# Reading point cloud"
   ]
  },
  {
   "cell_type": "code",
   "execution_count": 29,
   "metadata": {},
   "outputs": [
    {
     "data": {
      "application/vnd.jupyter.widget-view+json": {
       "model_id": "8004965be4fd4f9cb86150d0f0170486",
       "version_major": 2,
       "version_minor": 0
      },
      "text/plain": [
       "Renderer(camera=PerspectiveCamera(children=(DirectionalLight(color='white', intensity=0.6, position=(1.1287999…"
      ]
     },
     "metadata": {},
     "output_type": "display_data"
    },
    {
     "data": {
      "text/plain": [
       "<meshplot.Viewer.Viewer at 0x23ca3f73a30>"
      ]
     },
     "execution_count": 29,
     "metadata": {},
     "output_type": "execute_result"
    }
   ],
   "source": [
    "pi, v = igl.read_triangle_mesh(\"data/luigi.off\")\n",
    "pi /= 10\n",
    "ni = igl.per_vertex_normals(pi, v)\n",
    "mp.plot(pi, shading={\"point_size\": 1})"
   ]
  },
  {
   "cell_type": "markdown",
   "metadata": {},
   "source": [
    "# Setting up  the constraints"
   ]
  },
  {
   "cell_type": "code",
   "execution_count": 30,
   "metadata": {},
   "outputs": [],
   "source": [
    "class SpatialIndex:\n",
    "    # Build the grid\n",
    "    def __init__(self, points, cell_size):\n",
    "        self.points = points\n",
    "        self.cell_size = cell_size\n",
    "        self.grid = {}\n",
    "\n",
    "        for idx, point in enumerate(points):\n",
    "            cell = self._get_corresponding_cell(point)\n",
    "            if cell not in self.grid:\n",
    "                self.grid[cell] = []\n",
    "            self.grid[cell].append(idx)\n",
    "\n",
    "    # Get cell corresponding to a point\n",
    "    def _get_corresponding_cell(self, point):\n",
    "        return tuple(np.floor(point / self.cell_size).astype(int))\n",
    "\n",
    "    # Get neighboring cells within a given radius\n",
    "    def _get_neighboring_cells(self, point, radius):\n",
    "        min_corner = point - radius\n",
    "        max_corner = point + radius\n",
    "\n",
    "        min_cell = self._get_corresponding_cell(min_corner)\n",
    "        max_cell = self._get_corresponding_cell(max_corner)\n",
    "\n",
    "        ranges = [range(min_cell[i], max_cell[i] + 1) for i in range(3)]\n",
    "        return [tuple(c) for c in np.array(np.meshgrid(*ranges, indexing=\"ij\")).reshape(3, -1).T]\n",
    "\n",
    "    # Find the closest point in the grid\n",
    "    def find_closest_point(self, point):\n",
    "        best_dist = float('inf')\n",
    "        best_idx = -1\n",
    "        search_radius = self.cell_size\n",
    "        found = False\n",
    "\n",
    "        while not found:\n",
    "            for cell in self._get_neighboring_cells(point, search_radius):\n",
    "                if cell in self.grid:\n",
    "                    for idx in self.grid[cell]:\n",
    "                        d = np.linalg.norm(self.points[idx] - point)\n",
    "                        if d < best_dist:\n",
    "                            best_dist = d\n",
    "                            best_idx = idx\n",
    "                            found = True\n",
    "            # If not found, try again \n",
    "            # in a larger radius\n",
    "            search_radius *= 2\n",
    "        return best_idx\n",
    "    \n",
    "    # Find points within a given radius\n",
    "    def closest_points(self, point, radius):\n",
    "        neighbors = []\n",
    "        seen = set()\n",
    "        for cell in self._get_neighboring_cells(point, radius):\n",
    "            if cell in self.grid:\n",
    "                for idx in self.grid[cell]:\n",
    "                    if idx in seen: \n",
    "                        continue  # Avoid duplicate checks\n",
    "                    seen.add(idx)\n",
    "                    if np.linalg.norm(self.points[idx] - point) <= radius + 1e-8:\n",
    "                        neighbors.append(idx)\n",
    "        return neighbors\n"
   ]
  },
  {
   "cell_type": "code",
   "execution_count": 31,
   "metadata": {},
   "outputs": [],
   "source": [
    "# Add here the code to generate the additional points and constraints\n",
    "\n",
    "# Function to find the closest point to as point in a set of points\n",
    "def find_closest_point(point, points):\n",
    "    distances = np.linalg.norm(points - point, axis=1)\n",
    "    return np.argmin(distances)\n",
    "\n",
    "# Function to build constraint equations\n",
    "def build_constraints(points, normals, epsilon_factor=0.01):\n",
    "    # Compute the bounding box diagonal\n",
    "    bbox_min  = np.min(points, axis=0)\n",
    "    bbox_max  = np.max(points, axis=0)\n",
    "    bbox_diag = np.linalg.norm(bbox_max - bbox_min)\n",
    "    # Compute epsilon\n",
    "    epsilon = epsilon_factor * bbox_diag\n",
    "\n",
    "    # Spatial Index\n",
    "    grid_resolution = 5\n",
    "    grid = SpatialIndex(points, grid_resolution)\n",
    "\n",
    "    p = np.zeros((3*len(points), 3))\n",
    "    f = np.zeros(3*len(points))\n",
    "\n",
    "    for i, pi in enumerate(points):\n",
    "        # Add constraint f(pi) = 0\n",
    "        p[3 * i] = pi\n",
    "        f[3 * i] = 0.0\n",
    "        # Add pi+N/pi+2N's constraints\n",
    "        for j, sign in enumerate([1, -1]):\n",
    "            epsilon_current = epsilon\n",
    "            while True:\n",
    "                # Compute pi+N/pi+2N\n",
    "                pi_N = pi + (sign * epsilon_current * normals[i])\n",
    "\n",
    "                # Find the closest point to pi+N/pi+2N\n",
    "                # If the point is the same, break\n",
    "                closest_index = grid.find_closest_point(pi_N)\n",
    "                debug_1 = find_closest_point(pi_N, points)\n",
    "                \n",
    "                assert (debug_1 == closest_index)\n",
    "\n",
    "                if np.array_equal(points[closest_index], pi):\n",
    "                    break\n",
    "                # Otherwise, update epsilon and repeat\n",
    "                epsilon_current /= 2\n",
    "            # Append new point and constraints\n",
    "            p[(3 * i) + j + 1] = pi_N\n",
    "            f[(3 * i) + j + 1] = sign * epsilon\n",
    "    \n",
    "    p = np.array(p)\n",
    "    f = np.array(f)\n",
    "    \n",
    "    return p, f"
   ]
  },
  {
   "cell_type": "code",
   "execution_count": 32,
   "metadata": {},
   "outputs": [],
   "source": [
    "# Generate the new points and constraints\n",
    "p, f = build_constraints(pi, ni)"
   ]
  },
  {
   "cell_type": "code",
   "execution_count": 33,
   "metadata": {},
   "outputs": [
    {
     "data": {
      "application/vnd.jupyter.widget-view+json": {
       "model_id": "f5cb94ab5c644794b1bd0b424ac326ce",
       "version_major": 2,
       "version_minor": 0
      },
      "text/plain": [
       "Renderer(camera=PerspectiveCamera(children=(DirectionalLight(color='white', intensity=0.6, position=(1.1301440…"
      ]
     },
     "metadata": {},
     "output_type": "display_data"
    },
    {
     "data": {
      "text/plain": [
       "<meshplot.Viewer.Viewer at 0x23ca4b74ac0>"
      ]
     },
     "execution_count": 33,
     "metadata": {},
     "output_type": "execute_result"
    }
   ],
   "source": [
    "# Create color vector\n",
    "colors = np.zeros((p.shape[0], 3))\n",
    "colors[0::3] = [0, 0, 1]\n",
    "colors[1::3] = [1, 0, 0]\n",
    "colors[2::3] = [0, 1, 0]\n",
    "# Visualize the new point cloud \n",
    "mp.plot(p, c=colors, shading={\"point_size\": 1})"
   ]
  },
  {
   "cell_type": "markdown",
   "metadata": {},
   "source": [
    "# MLS function"
   ]
  },
  {
   "cell_type": "code",
   "execution_count": 34,
   "metadata": {},
   "outputs": [],
   "source": [
    "def tet_grid_improved(n, points, pca_fix=False):\n",
    "    # Copy for usage with pca_fix\n",
    "    points_tmp = points.copy()\n",
    "\n",
    "    if pca_fix:\n",
    "        # Center the points\n",
    "        centroid = np.mean(points_tmp, axis=0)\n",
    "        centered = points_tmp - centroid\n",
    "\n",
    "        # Compute eigenvectors\n",
    "        cov = np.cov(centered.T)\n",
    "        eigvals, eigvecs = np.linalg.eigh(cov) \n",
    "\n",
    "        # Sort eigenvectors\n",
    "        sort_idx = np.argsort(eigvals)[::-1]\n",
    "        eigvecs = eigvecs[:, sort_idx]\n",
    "\n",
    "        # Rotate the points\n",
    "        points_tmp = centered @ eigvecs\n",
    "\n",
    "    # Compute the bounding box\n",
    "    bbox_min = np.min(points_tmp, axis=0)\n",
    "    bbox_max = np.max(points_tmp, axis=0)\n",
    "\n",
    "    # Enlarge slightly the bounding box\n",
    "    bbox_min -= 0.05 * (bbox_max - bbox_min)\n",
    "    bbox_max += 0.05 * (bbox_max - bbox_min)\n",
    "\n",
    "    # Generate the grid\n",
    "    V, T = tet_grid(n, bbox_min, bbox_max)\n",
    "\n",
    "    if pca_fix:\n",
    "        # Return to original space\n",
    "        V = V @ eigvecs.T + centroid\n",
    "\n",
    "    return V, T"
   ]
  },
  {
   "cell_type": "code",
   "execution_count": 35,
   "metadata": {
    "scrolled": true
   },
   "outputs": [],
   "source": [
    "# Resolution\n",
    "n = 40\n",
    "resolution = (n, n, n)\n",
    "\n",
    "# Generate grid n x n x n\n",
    "x, T = tet_grid_improved(resolution, p, True)"
   ]
  },
  {
   "cell_type": "code",
   "execution_count": 36,
   "metadata": {},
   "outputs": [],
   "source": [
    "# Function that retrieves the indices of all points in points \n",
    "# that are at distance less than h from point.\n",
    "def closest_points(point, points, h):\n",
    "    distances = np.linalg.norm(points - point, axis=1)\n",
    "    return np.argwhere(distances < h).flatten()\n",
    "\n",
    "def wendland_weight(p, p_i, radius):\n",
    "    # normalized distance\n",
    "    r = np.linalg.norm(p_i - p, axis=1)\n",
    "    q = r / radius\n",
    "    return (1 - q) ** 4 * (4 * q + 1) * (q < 1)\n",
    "\n",
    "# Return the polynomial basis functions\n",
    "# depending on the degree required\n",
    "def pol_basis(x, degree):\n",
    "    if degree == 0:\n",
    "        return np.array([1])\n",
    "    elif degree == 1:\n",
    "        return np.array([1, x[0], x[1], x[2]])\n",
    "    elif degree == 2:\n",
    "        return np.array([1, x[0], x[1], x[2], x[0]**2, x[1]**2, x[2]**2, \n",
    "                         x[0]*x[1], x[1]*x[2], x[2]*x[0]])\n",
    "    else:\n",
    "        raise ValueError(\"Degree must be 0, 1, or 2\")\n",
    "\n",
    "# Evaluate MLS for a given point\n",
    "def evaluate_MLS(point, points, constraints, radius, k, grid=None):\n",
    "    # Check if the grid is provided\n",
    "    # if grid is None:\n",
    "    neighbors = closest_points(point, points, radius)\n",
    "    # else:\n",
    "        #neighbors_brute = closest_points(point, points, radius)\n",
    "    #neighbors = grid.closest_points(point, radius)\n",
    "        #assert set(neighbors) == set(neighbors_brute)\n",
    "    \n",
    "    # If the number of constraint points is less than twice \n",
    "    # the number of polynomial coefficients, return a large positive value\n",
    "    if len(neighbors) < ((3/2) * k**2 + (3/2) * k + 1):\n",
    "        return 10e6 \n",
    "    \n",
    "    # Linear system components:\n",
    "    # B is the polynomial basis evaluated at the neighbors\n",
    "    B = np.array([pol_basis(points[i], k) for i in neighbors])\n",
    "    # W is the Wendland weight matrix\n",
    "    W = np.diag(wendland_weight(point, points[neighbors], radius))\n",
    "\n",
    "    A = B.T @ W @ B\n",
    "    b = B.T @ W @ constraints[neighbors]\n",
    "    \n",
    "    # Solve the linear system\n",
    "    coeffs = np.linalg.solve(A, b)\n",
    "    return pol_basis(point, k) @ coeffs\n",
    "\n",
    "def evaluate_MLS_on_grid(x, points, constraints, h, polyDegree):\n",
    "    # Build the spatial index\n",
    "    #grid = SpatialIndex(points, 5)\n",
    "\n",
    "    fx = np.array([evaluate_MLS(xi, points, constraints, h, polyDegree) for xi in x])\n",
    "    return fx"
   ]
  },
  {
   "cell_type": "code",
   "execution_count": 37,
   "metadata": {},
   "outputs": [],
   "source": [
    "# Parameters\n",
    "wendlandRadius = 1\n",
    "polyDegree = 2\n",
    "\n",
    "fx = evaluate_MLS_on_grid(x, p, f, wendlandRadius, polyDegree)"
   ]
  },
  {
   "cell_type": "code",
   "execution_count": 38,
   "metadata": {},
   "outputs": [
    {
     "data": {
      "application/vnd.jupyter.widget-view+json": {
       "model_id": "940a1856f5924411bfd6464a8c42c873",
       "version_major": 2,
       "version_minor": 0
      },
      "text/plain": [
       "Renderer(camera=PerspectiveCamera(children=(DirectionalLight(color='white', intensity=0.6, position=(1.4454464…"
      ]
     },
     "metadata": {},
     "output_type": "display_data"
    },
    {
     "data": {
      "text/plain": [
       "<meshplot.Viewer.Viewer at 0x23c85d7abc0>"
      ]
     },
     "execution_count": 38,
     "metadata": {},
     "output_type": "execute_result"
    }
   ],
   "source": [
    "# Assign colors\n",
    "grid_colors = np.zeros((len(x), 3))\n",
    "grid_colors[fx >= 0] = [1, 0, 0]  # Red = outside\n",
    "grid_colors[fx <  0] = [0, 1, 0]  # Green = inside\n",
    "\n",
    "# Visualize the grid\n",
    "mp.plot(x, c=grid_colors, shading={\"point_size\": 1})"
   ]
  },
  {
   "cell_type": "markdown",
   "metadata": {},
   "source": [
    "---"
   ]
  },
  {
   "cell_type": "markdown",
   "metadata": {},
   "source": [
    "# Marching to extract surface"
   ]
  },
  {
   "cell_type": "code",
   "execution_count": 39,
   "metadata": {},
   "outputs": [
    {
     "data": {
      "application/vnd.jupyter.widget-view+json": {
       "model_id": "6af62a398ca54d41b9c90e79bf7a031d",
       "version_major": 2,
       "version_minor": 0
      },
      "text/plain": [
       "Renderer(camera=PerspectiveCamera(children=(DirectionalLight(color='white', intensity=0.6, position=(1.0427577…"
      ]
     },
     "metadata": {},
     "output_type": "display_data"
    },
    {
     "data": {
      "text/plain": [
       "<meshplot.Viewer.Viewer at 0x23c8659b040>"
      ]
     },
     "execution_count": 39,
     "metadata": {},
     "output_type": "execute_result"
    }
   ],
   "source": [
    "# Marcing tet to extract surface\n",
    "sv, sf, _, _ = igl.marching_tets(x, T, fx, 0)\n",
    "\n",
    "# Plot noisy surface\n",
    "mp.plot(sv, sf, shading={\"wireframe\": True})"
   ]
  },
  {
   "cell_type": "code",
   "execution_count": 40,
   "metadata": {
    "scrolled": true
   },
   "outputs": [
    {
     "data": {
      "application/vnd.jupyter.widget-view+json": {
       "model_id": "78406020379b4800b77996423f53c94b",
       "version_major": 2,
       "version_minor": 0
      },
      "text/plain": [
       "Renderer(camera=PerspectiveCamera(children=(DirectionalLight(color='white', intensity=0.6, position=(1.1304398…"
      ]
     },
     "metadata": {},
     "output_type": "display_data"
    },
    {
     "data": {
      "text/plain": [
       "<meshplot.Viewer.Viewer at 0x23ca3f7feb0>"
      ]
     },
     "execution_count": 40,
     "metadata": {},
     "output_type": "execute_result"
    }
   ],
   "source": [
    "# Let's filter out smaller, noisy components\n",
    "\n",
    "# Count number of faces per component\n",
    "C = igl.face_components(sf)\n",
    "component_sizes = np.bincount(C)\n",
    "\n",
    "# Filter out components with less than min_faces\n",
    "min_faces = 20000\n",
    "sf_filtered = sf[component_sizes[C] >= min_faces]\n",
    "\n",
    "# Keep only used vertices\n",
    "used_vertices = np.unique(sf_filtered)\n",
    "# Map from old to new vertex ids\n",
    "reindex = -np.ones(sv.shape[0], dtype=int)\n",
    "reindex[used_vertices] = np.arange(len(used_vertices))\n",
    "# Remaining vertices and faces\n",
    "sv_filtered = sv[used_vertices]\n",
    "sf_filtered = reindex[sf_filtered]\n",
    "\n",
    "# Plot the cleaned surface\n",
    "mp.plot(sv_filtered, sf_filtered, shading={\"wireframe\": True})"
   ]
  },
  {
   "cell_type": "code",
   "execution_count": 41,
   "metadata": {},
   "outputs": [
    {
     "name": "stdout",
     "output_type": "stream",
     "text": [
      "Ball query matches: True\n",
      "Closest point matches: True\n"
     ]
    }
   ],
   "source": [
    "\n",
    "class SpatialHashGrid:\n",
    "    def __init__(self, points, cell_size):\n",
    "        self.points = points\n",
    "        self.cell_size = cell_size\n",
    "        self.grid = {}\n",
    "\n",
    "        for idx, point in enumerate(points):\n",
    "            cell = self._point_to_cell(point)\n",
    "            if cell not in self.grid:\n",
    "                self.grid[cell] = []\n",
    "            self.grid[cell].append(idx)\n",
    "\n",
    "    def _point_to_cell(self, point):\n",
    "        return tuple(np.floor(point / self.cell_size).astype(int))\n",
    "\n",
    "    def _get_neighboring_cells(self, point, radius):\n",
    "        cell = self._point_to_cell(point)\n",
    "        r = int(np.ceil(radius / self.cell_size))\n",
    "        ranges = [range(c - r, c + r + 1) for c in cell]\n",
    "        return [tuple(c) for c in np.array(np.meshgrid(*ranges)).T.reshape(-1, 3)]\n",
    "\n",
    "    def query_ball(self, q, h):\n",
    "        \"\"\"Return all point indices within distance h of query point q\"\"\"\n",
    "        neighbors = []\n",
    "        for cell in self._get_neighboring_cells(q, h):\n",
    "            if cell in self.grid:\n",
    "                for idx in self.grid[cell]:\n",
    "                    if np.linalg.norm(self.points[idx] - q) <= h:\n",
    "                        neighbors.append(idx)\n",
    "        return neighbors\n",
    "\n",
    "    def query_closest(self, q):\n",
    "        \"\"\"Return index of the closest point to query q\"\"\"\n",
    "        best_dist = float('inf')\n",
    "        best_idx = -1\n",
    "        search_radius = self.cell_size\n",
    "        found = False\n",
    "\n",
    "        while not found:\n",
    "            for cell in self._get_neighboring_cells(q, search_radius):\n",
    "                if cell in self.grid:\n",
    "                    for idx in self.grid[cell]:\n",
    "                        d = np.linalg.norm(self.points[idx] - q)\n",
    "                        if d < best_dist:\n",
    "                            best_dist = d\n",
    "                            best_idx = idx\n",
    "                            found = True\n",
    "            search_radius *= 2  # Expand search if nothing found\n",
    "        return best_idx\n",
    "\n",
    "if __name__ == \"__main__\":\n",
    "    np.random.seed(0)\n",
    "    points = np.random.rand(1000, 3) * 10  # Random 3D points in [0, 10)^3\n",
    "    grid = SpatialHashGrid(points, cell_size=1.0)\n",
    "\n",
    "    test_point = np.array([5.0, 5.0, 5.0])\n",
    "    h = 1.7\n",
    "\n",
    "    # Grid-based queries\n",
    "    grid_neighbors = grid.query_ball(test_point, h)\n",
    "    grid_closest = grid.query_closest(test_point)\n",
    "\n",
    "    # Brute-force queries\n",
    "    brute_neighbors = closest_points(test_point, points,  h)\n",
    "    brute_closest = find_closest_point(test_point, points)\n",
    "\n",
    "    # Comparison\n",
    "    print(\"Ball query matches:\", set(grid_neighbors) == set(brute_neighbors))\n",
    "    print(\"Closest point matches:\", grid_closest == brute_closest)"
   ]
  }
 ],
 "metadata": {
  "kernelspec": {
   "display_name": "myenv",
   "language": "python",
   "name": "python3"
  },
  "language_info": {
   "codemirror_mode": {
    "name": "ipython",
    "version": 3
   },
   "file_extension": ".py",
   "mimetype": "text/x-python",
   "name": "python",
   "nbconvert_exporter": "python",
   "pygments_lexer": "ipython3",
   "version": "3.10.16"
  }
 },
 "nbformat": 4,
 "nbformat_minor": 4
}
