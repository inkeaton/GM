{
 "cells": [
  {
   "cell_type": "code",
   "execution_count": 107,
   "metadata": {
    "scrolled": true
   },
   "outputs": [],
   "source": [
    "import numpy as np\n",
    "import igl\n",
    "import meshplot as mp"
   ]
  },
  {
   "cell_type": "code",
   "execution_count": 108,
   "metadata": {
    "scrolled": true
   },
   "outputs": [],
   "source": [
    "# Utility function to generate a tet grid\n",
    "# n is a 3-tuple with the number of cell in every direction\n",
    "# mmin/mmax are the grid bounding box corners\n",
    "\n",
    "def tet_grid(n, mmin, mmax):\n",
    "    nx = n[0]\n",
    "    ny = n[1]\n",
    "    nz = n[2]\n",
    "    \n",
    "    delta = mmax-mmin\n",
    "    \n",
    "    deltax = delta[0]/(nx-1)\n",
    "    deltay = delta[1]/(ny-1)\n",
    "    deltaz = delta[2]/(nz-1)\n",
    "    \n",
    "    T = np.zeros(((nx-1)*(ny-1)*(nz-1)*6, 4), dtype=np.int64)\n",
    "    V = np.zeros((nx*ny*nz, 3))\n",
    "\n",
    "    mapping = -np.ones((nx, ny, nz), dtype=np.int64)\n",
    "\n",
    "\n",
    "    index = 0\n",
    "    for i in range(nx):\n",
    "        for j in range(ny):\n",
    "            for k in range(nz):\n",
    "                mapping[i, j, k] = index\n",
    "                V[index, :] = [i*deltax, j*deltay, k*deltaz]\n",
    "                index += 1\n",
    "    assert(index == V.shape[0])\n",
    "    \n",
    "    tets = np.array([\n",
    "        [0,1,3,4],\n",
    "        [5,2,6,7],\n",
    "        [4,1,5,3],\n",
    "        [4,3,7,5],\n",
    "        [3,1,5,2],\n",
    "        [2,3,7,5]\n",
    "    ])\n",
    "    \n",
    "    index = 0\n",
    "    for i in range(nx-1):\n",
    "        for j in range(ny-1):\n",
    "            for k in range(nz-1):\n",
    "                indices = [\n",
    "                    (i,   j,   k),\n",
    "                    (i+1, j,   k),\n",
    "                    (i+1, j+1, k),\n",
    "                    (i,   j+1, k),\n",
    "\n",
    "                    (i,   j,   k+1),\n",
    "                    (i+1, j,   k+1),\n",
    "                    (i+1, j+1, k+1),\n",
    "                    (i,   j+1, k+1),\n",
    "                ]\n",
    "                \n",
    "                for t in range(tets.shape[0]):\n",
    "                    tmp = [mapping[indices[ii]] for ii in tets[t, :]]\n",
    "                    T[index, :]=tmp\n",
    "                    index += 1\n",
    "                    \n",
    "    assert(index == T.shape[0])\n",
    "    \n",
    "    V += mmin\n",
    "    return V, T"
   ]
  },
  {
   "cell_type": "markdown",
   "metadata": {},
   "source": [
    "# Reading point cloud"
   ]
  },
  {
   "cell_type": "code",
   "execution_count": 123,
   "metadata": {},
   "outputs": [
    {
     "data": {
      "application/vnd.jupyter.widget-view+json": {
       "model_id": "7b0fccc40b3b4da3aabb4f06e1d2151a",
       "version_major": 2,
       "version_minor": 0
      },
      "text/plain": [
       "Renderer(camera=PerspectiveCamera(children=(DirectionalLight(color='white', intensity=0.6, position=(5.0, -23.…"
      ]
     },
     "metadata": {},
     "output_type": "display_data"
    },
    {
     "data": {
      "text/plain": [
       "<meshplot.Viewer.Viewer at 0x2529061e470>"
      ]
     },
     "execution_count": 123,
     "metadata": {},
     "output_type": "execute_result"
    }
   ],
   "source": [
    "pi, v = igl.read_triangle_mesh(\"data/cat.off\")\n",
    "pi /= 10\n",
    "ni = igl.per_vertex_normals(pi, v)\n",
    "mp.plot(pi, shading={\"point_size\": 8})"
   ]
  },
  {
   "cell_type": "markdown",
   "metadata": {},
   "source": [
    "# Setting up  the constraints"
   ]
  },
  {
   "cell_type": "code",
   "execution_count": 202,
   "metadata": {},
   "outputs": [],
   "source": [
    "# Grid for point searches\n",
    "class SpatialIndex:\n",
    "    def __init__(self, points, resolution):\n",
    "        self.resolution = resolution\n",
    "        self.grid = {}\n",
    "        self.points = points\n",
    "        self._build(points)\n",
    "\n",
    "    # Return point's cell coordinates in the grid \n",
    "    def _grid_coords(self, point):\n",
    "        return tuple((point // self.resolution).astype(int))\n",
    "\n",
    "    # Assign each point to its corresponding cell\n",
    "    def _build(self, points):\n",
    "        for i, point in enumerate(points):\n",
    "            key = self._grid_coords(point)\n",
    "            if key not in self.grid:\n",
    "                self.grid[key] = []\n",
    "            self.grid[key].append(i)\n",
    "\n",
    "    # Return the neighboring cells of a point\n",
    "    # (its cell included)\n",
    "    def _neighboring_cells(self, point, radius=1):\n",
    "        base = self._grid_coords(point)\n",
    "        offsets = range(-radius, radius + 1)\n",
    "        for dx in offsets:\n",
    "            for dy in offsets:\n",
    "                for dz in offsets:\n",
    "                    yield (base[0] + dx, base[1] + dy, base[2] + dz)\n",
    "\n",
    "    # Return the closest point in the grid\n",
    "    def find_closest_point(self, query_point):\n",
    "        best_dist = float('inf')\n",
    "        best_index = -1\n",
    "        for key in self._neighboring_cells(query_point):\n",
    "            # Could be a non existing cell, so we check\n",
    "            if key in self.grid:\n",
    "                for i in self.grid[key]:\n",
    "                    dist = np.linalg.norm(self.points[i] - query_point)\n",
    "                    if np.linalg.norm(self.points[i] - query_point) < best_dist:\n",
    "                        best_dist = dist\n",
    "                        best_index = i\n",
    "        return best_index\n",
    "\n",
    "    # Return all points within a given radius\n",
    "    def closest_points(self, query_point, radius):\n",
    "        closest_points = []\n",
    "        for key in self._neighboring_cells(query_point, 2):\n",
    "            if key in self.grid:\n",
    "                for i in self.grid[key]:\n",
    "                    if np.linalg.norm(self.points[i] - query_point) < radius:\n",
    "                        closest_points.append(i)\n",
    "        return closest_points"
   ]
  },
  {
   "cell_type": "code",
   "execution_count": 193,
   "metadata": {},
   "outputs": [],
   "source": [
    "# Add here the code to generate the additional points and constraints\n",
    "\n",
    "# Function to find the closest point to as point in a set of points\n",
    "def find_closest_point(point, points):\n",
    "    distances = np.linalg.norm(points - point, axis=1)\n",
    "    return np.argmin(distances)\n",
    "\n",
    "# Function to build constraint equations\n",
    "def build_constraints(points, normals, epsilon_factor=0.01):\n",
    "    # Compute the bounding box diagonal\n",
    "    bbox_min  = np.min(points, axis=0)\n",
    "    bbox_max  = np.max(points, axis=0)\n",
    "    bbox_diag = np.linalg.norm(bbox_max - bbox_min)\n",
    "    # Compute epsilon\n",
    "    epsilon = epsilon_factor * bbox_diag\n",
    "\n",
    "    # Spatial Index\n",
    "    grid_resolution = 3\n",
    "    grid = SpatialIndex(points, grid_resolution)\n",
    "\n",
    "    p = np.zeros((3*len(points), 3))\n",
    "    f = np.zeros(3*len(points))\n",
    "\n",
    "    for i, pi in enumerate(points):\n",
    "        # Add constraint f(pi) = 0\n",
    "        p[3 * i] = pi\n",
    "        f[3 * i] = 0.0\n",
    "        # Add pi+N/pi+2N's constraints\n",
    "        for j, sign in enumerate([1, -1]):\n",
    "            epsilon_current = epsilon\n",
    "            while True:\n",
    "                # Compute pi+N/pi+2N\n",
    "                pi_N = pi + (sign * epsilon_current * normals[i])\n",
    "\n",
    "                # Find the closest point to pi+N/pi+2N\n",
    "                # If the point is the same, break\n",
    "                closest_index = grid.find_closest_point(pi_N)\n",
    "                debug_1 = find_closest_point(pi_N, points)\n",
    "                \n",
    "                assert (debug_1 == closest_index)\n",
    "\n",
    "                if np.array_equal(points[closest_index], pi):\n",
    "                    break\n",
    "                # Otherwise, update epsilon and repeat\n",
    "                epsilon_current /= 2\n",
    "            # Append new point and constraints\n",
    "            p[(3 * i) + j + 1] = pi_N\n",
    "            f[(3 * i) + j + 1] = sign * epsilon\n",
    "    \n",
    "    p = np.array(p)\n",
    "    f = np.array(f)\n",
    "    \n",
    "    return p, f"
   ]
  },
  {
   "cell_type": "code",
   "execution_count": 194,
   "metadata": {},
   "outputs": [
    {
     "data": {
      "application/vnd.jupyter.widget-view+json": {
       "model_id": "2ada881e4e584c50b5ecf084d96a18e0",
       "version_major": 2,
       "version_minor": 0
      },
      "text/plain": [
       "Renderer(camera=PerspectiveCamera(children=(DirectionalLight(color='white', intensity=0.6, position=(5.0120944…"
      ]
     },
     "metadata": {},
     "output_type": "display_data"
    },
    {
     "data": {
      "text/plain": [
       "<meshplot.Viewer.Viewer at 0x25292773760>"
      ]
     },
     "execution_count": 194,
     "metadata": {},
     "output_type": "execute_result"
    }
   ],
   "source": [
    "# Generate the new points and constraints\n",
    "p, f = build_constraints(pi, ni)\n",
    "\n",
    "# Create color vector\n",
    "colors = np.zeros((p.shape[0], 3))\n",
    "colors[0::3] = [0, 0, 1]\n",
    "colors[1::3] = [1, 0, 0]\n",
    "colors[2::3] = [0, 1, 0]\n",
    "# Visualize the new point cloud \n",
    "mp.plot(p, c=colors, shading={\"point_size\": 6})"
   ]
  },
  {
   "cell_type": "markdown",
   "metadata": {},
   "source": [
    "# MLS function"
   ]
  },
  {
   "cell_type": "code",
   "execution_count": 112,
   "metadata": {},
   "outputs": [],
   "source": [
    "# This is mockup code, generating the distance field from the surface of the unit sphere in analytic form\n",
    "# The code is provided to show the desired visualization\n",
    "# Use tet_grid to generate the grid appropriate to your data\n",
    "# Generate function fx at all nodes of the grid by evaluating the MLS function"
   ]
  },
  {
   "cell_type": "markdown",
   "metadata": {},
   "source": [
    "---"
   ]
  },
  {
   "cell_type": "code",
   "execution_count": 113,
   "metadata": {
    "scrolled": true
   },
   "outputs": [],
   "source": [
    "# Parameters\n",
    "bbox_min = np.min(p, axis=0)\n",
    "bbox_max = np.max(p, axis=0)\n",
    "bbox_diag = np.linalg.norm(bbox_max - bbox_min)\n",
    "\n",
    "# Enlarge slightly the bounding box\n",
    "bbox_min -= 0.05 * (bbox_max - bbox_min)\n",
    "bbox_max += 0.05 * (bbox_max - bbox_min)\n",
    "\n",
    "# Resolution\n",
    "n = 40\n",
    "resolution = (n, n, n)"
   ]
  },
  {
   "cell_type": "code",
   "execution_count": 114,
   "metadata": {
    "scrolled": true
   },
   "outputs": [],
   "source": [
    "# Generate grid n x n x n\n",
    "x, T = tet_grid(resolution, bbox_min, bbox_max)"
   ]
  },
  {
   "cell_type": "code",
   "execution_count": 208,
   "metadata": {},
   "outputs": [],
   "source": [
    "# Function that retrieves the indices of all points in points \n",
    "# that are at distance less than h from point.\n",
    "def closest_points(point, points, h):\n",
    "    distances = np.linalg.norm(points - point, axis=1)\n",
    "    return np.argwhere(distances < h).flatten()\n",
    "\n",
    "def wendland_weight(p, p_i, radius):\n",
    "    # normalized distance\n",
    "    r = np.linalg.norm(p_i - p, axis=1)\n",
    "    q = r / radius\n",
    "    return (1 - q) ** 4 * (4 * q + 1) * (q < 1)\n",
    "\n",
    "# Return the polynomial basis functions\n",
    "# depending on the degree required\n",
    "def pol_basis(x, degree):\n",
    "    if degree == 0:\n",
    "        return np.array([1])\n",
    "    elif degree == 1:\n",
    "        return np.array([1, x[0], x[1], x[2]])\n",
    "    elif degree == 2:\n",
    "        return np.array([1, x[0], x[1], x[2], x[0]**2, x[1]**2, x[2]**2, \n",
    "                         x[0]*x[1], x[1]*x[2], x[2]*x[0]])\n",
    "    else:\n",
    "        raise ValueError(\"Degree must be 0, 1, or 2\")\n",
    "\n",
    "# Evaluate MLS for a given point\n",
    "def evaluate_MLS(point, points, constraints, radius, k, grid=None):\n",
    "    # Check if the grid is provided\n",
    "    if grid is None:\n",
    "        neighbors = closest_points(point, points, radius)\n",
    "    else:\n",
    "        neighbors_brute = closest_points(point, points, radius)\n",
    "        neighbors = grid.closest_points(point, radius)\n",
    "        assert np.array_equal(neighbors, neighbors_brute)\n",
    "    \n",
    "    #neighbors_brute = closest_points(point, points, radius)\n",
    "    #assert np.array_equal(neighbors, neighbors_brute)\n",
    "    # If the number of constraint points is less than twice \n",
    "    # the number of polynomial coefficients, return a large positive value\n",
    "    if len(neighbors) < ((3/2) * k**2 + (3/2) * k + 1):\n",
    "        return 10e6 \n",
    "    \n",
    "    # Linear system components:\n",
    "    # B is the polynomial basis evaluated at the neighbors\n",
    "    B = np.array([pol_basis(points[i], k) for i in neighbors])\n",
    "    # W is the Wendland weight matrix\n",
    "    W = np.diag(wendland_weight(point, points[neighbors], radius))\n",
    "\n",
    "    A = B.T @ W @ B\n",
    "    b = B.T @ W @ constraints[neighbors]\n",
    "    \n",
    "    # Solve the linear system\n",
    "    coeffs = np.linalg.solve(A, b)\n",
    "    return pol_basis(point, k) @ coeffs\n",
    "\n",
    "def evaluate_MLS_on_grid(x, points, constraints, h, polyDegree):\n",
    "    # Build the spatial index\n",
    "    grid = SpatialIndex(points, 3)\n",
    "\n",
    "    fx = np.array([evaluate_MLS(xi, points, constraints, h, polyDegree) for xi in x])\n",
    "    return fx"
   ]
  },
  {
   "cell_type": "code",
   "execution_count": 209,
   "metadata": {},
   "outputs": [],
   "source": [
    "# Parameters\n",
    "wendlandRadius = 0.2 * bbox_diag\n",
    "polyDegree = 2\n",
    "\n",
    "fx = evaluate_MLS_on_grid(x, p, f, wendlandRadius, polyDegree)"
   ]
  },
  {
   "cell_type": "code",
   "execution_count": 210,
   "metadata": {},
   "outputs": [
    {
     "data": {
      "application/vnd.jupyter.widget-view+json": {
       "model_id": "477fed8847094ca69b910aeb8a92a64b",
       "version_major": 2,
       "version_minor": 0
      },
      "text/plain": [
       "Renderer(camera=PerspectiveCamera(children=(DirectionalLight(color='white', intensity=0.6, position=(5.0848894…"
      ]
     },
     "metadata": {},
     "output_type": "display_data"
    },
    {
     "data": {
      "text/plain": [
       "<meshplot.Viewer.Viewer at 0x25294118700>"
      ]
     },
     "execution_count": 210,
     "metadata": {},
     "output_type": "execute_result"
    }
   ],
   "source": [
    "# Assign colors\n",
    "grid_colors = np.zeros((len(x), 3))\n",
    "grid_colors[fx >= 0] = [1, 0, 0]  # Red = outside\n",
    "grid_colors[fx <  0] = [0, 1, 0]  # Green = inside\n",
    "\n",
    "# Visualize the grid\n",
    "mp.plot(x, c=grid_colors, shading={\"point_size\": 6})"
   ]
  },
  {
   "cell_type": "markdown",
   "metadata": {},
   "source": [
    "---"
   ]
  },
  {
   "cell_type": "markdown",
   "metadata": {},
   "source": [
    "# Marching to extract surface"
   ]
  },
  {
   "cell_type": "code",
   "execution_count": 211,
   "metadata": {},
   "outputs": [
    {
     "data": {
      "application/vnd.jupyter.widget-view+json": {
       "model_id": "a7ff615cc2c14ec28c86ef4508573f0d",
       "version_major": 2,
       "version_minor": 0
      },
      "text/plain": [
       "Renderer(camera=PerspectiveCamera(children=(DirectionalLight(color='white', intensity=0.6, position=(5.0848894…"
      ]
     },
     "metadata": {},
     "output_type": "display_data"
    },
    {
     "data": {
      "text/plain": [
       "<meshplot.Viewer.Viewer at 0x2529411ab00>"
      ]
     },
     "execution_count": 211,
     "metadata": {},
     "output_type": "execute_result"
    }
   ],
   "source": [
    "# Marcing tet to extract surface\n",
    "sv, sf, _, _ = igl.marching_tets(x, T, fx, 0)\n",
    "\n",
    "# Plot noisy surface\n",
    "mp.plot(sv, sf, shading={\"wireframe\": True})"
   ]
  },
  {
   "cell_type": "code",
   "execution_count": 212,
   "metadata": {
    "scrolled": true
   },
   "outputs": [
    {
     "data": {
      "application/vnd.jupyter.widget-view+json": {
       "model_id": "c5747543f68a485cbf56622988c5b7fc",
       "version_major": 2,
       "version_minor": 0
      },
      "text/plain": [
       "Renderer(camera=PerspectiveCamera(children=(DirectionalLight(color='white', intensity=0.6, position=(5.3654203…"
      ]
     },
     "metadata": {},
     "output_type": "display_data"
    },
    {
     "data": {
      "text/plain": [
       "<meshplot.Viewer.Viewer at 0x2529089ca30>"
      ]
     },
     "execution_count": 212,
     "metadata": {},
     "output_type": "execute_result"
    }
   ],
   "source": [
    "# Let's filter out smaller, noisy components\n",
    "\n",
    "# Count number of faces per component\n",
    "C = igl.face_components(sf)\n",
    "component_sizes = np.bincount(C)\n",
    "\n",
    "# Filter out components with less than min_faces\n",
    "min_faces = 5000\n",
    "sf_filtered = sf[component_sizes[C] >= min_faces]\n",
    "\n",
    "# Keep only used vertices\n",
    "used_vertices = np.unique(sf_filtered)\n",
    "# Map from old to new vertex ids\n",
    "reindex = -np.ones(sv.shape[0], dtype=int)\n",
    "reindex[used_vertices] = np.arange(len(used_vertices))\n",
    "# Remaining vertices and faces\n",
    "sv_filtered = sv[used_vertices]\n",
    "sf_filtered = reindex[sf_filtered]\n",
    "\n",
    "# Plot the cleaned surface\n",
    "mp.plot(sv_filtered, sf_filtered, shading={\"wireframe\": True})"
   ]
  }
 ],
 "metadata": {
  "kernelspec": {
   "display_name": "myenv",
   "language": "python",
   "name": "python3"
  },
  "language_info": {
   "codemirror_mode": {
    "name": "ipython",
    "version": 3
   },
   "file_extension": ".py",
   "mimetype": "text/x-python",
   "name": "python",
   "nbconvert_exporter": "python",
   "pygments_lexer": "ipython3",
   "version": "3.10.16"
  }
 },
 "nbformat": 4,
 "nbformat_minor": 4
}
