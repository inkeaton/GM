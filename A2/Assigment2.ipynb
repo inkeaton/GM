{
 "cells": [
  {
   "cell_type": "markdown",
   "metadata": {},
   "source": [
    "# Assignment 2: Implicit Surface Reconstruction\n",
    "## Edoardo Vassallo - S4965918"
   ]
  },
  {
   "cell_type": "code",
   "execution_count": 1,
   "metadata": {
    "scrolled": true
   },
   "outputs": [],
   "source": [
    "import numpy as np\n",
    "import igl\n",
    "import meshplot as mp"
   ]
  },
  {
   "cell_type": "code",
   "execution_count": 2,
   "metadata": {
    "scrolled": true
   },
   "outputs": [],
   "source": [
    "# Utility function to generate a tet grid\n",
    "# n is a 3-tuple with the number of cell in every direction\n",
    "# mmin/mmax are the grid bounding box corners\n",
    "\n",
    "def tet_grid(n, mmin, mmax):\n",
    "    nx = n[0]\n",
    "    ny = n[1]\n",
    "    nz = n[2]\n",
    "    \n",
    "    delta = mmax-mmin\n",
    "    \n",
    "    deltax = delta[0]/(nx-1)\n",
    "    deltay = delta[1]/(ny-1)\n",
    "    deltaz = delta[2]/(nz-1)\n",
    "    \n",
    "    T = np.zeros(((nx-1)*(ny-1)*(nz-1)*6, 4), dtype=np.int64)\n",
    "    V = np.zeros((nx*ny*nz, 3))\n",
    "\n",
    "    mapping = -np.ones((nx, ny, nz), dtype=np.int64)\n",
    "\n",
    "\n",
    "    index = 0\n",
    "    for i in range(nx):\n",
    "        for j in range(ny):\n",
    "            for k in range(nz):\n",
    "                mapping[i, j, k] = index\n",
    "                V[index, :] = [i*deltax, j*deltay, k*deltaz]\n",
    "                index += 1\n",
    "    assert(index == V.shape[0])\n",
    "    \n",
    "    tets = np.array([\n",
    "        [0,1,3,4],\n",
    "        [5,2,6,7],\n",
    "        [4,1,5,3],\n",
    "        [4,3,7,5],\n",
    "        [3,1,5,2],\n",
    "        [2,3,7,5]\n",
    "    ])\n",
    "    \n",
    "    index = 0\n",
    "    for i in range(nx-1):\n",
    "        for j in range(ny-1):\n",
    "            for k in range(nz-1):\n",
    "                indices = [\n",
    "                    (i,   j,   k),\n",
    "                    (i+1, j,   k),\n",
    "                    (i+1, j+1, k),\n",
    "                    (i,   j+1, k),\n",
    "\n",
    "                    (i,   j,   k+1),\n",
    "                    (i+1, j,   k+1),\n",
    "                    (i+1, j+1, k+1),\n",
    "                    (i,   j+1, k+1),\n",
    "                ]\n",
    "                \n",
    "                for t in range(tets.shape[0]):\n",
    "                    tmp = [mapping[indices[ii]] for ii in tets[t, :]]\n",
    "                    T[index, :]=tmp\n",
    "                    index += 1\n",
    "                    \n",
    "    assert(index == T.shape[0])\n",
    "    \n",
    "    V += mmin\n",
    "    return V, T"
   ]
  },
  {
   "cell_type": "markdown",
   "metadata": {},
   "source": [
    "# Reading point cloud"
   ]
  },
  {
   "cell_type": "code",
   "execution_count": 3,
   "metadata": {},
   "outputs": [
    {
     "data": {
      "application/vnd.jupyter.widget-view+json": {
       "model_id": "5c434cd7485d424398511314034f1756",
       "version_major": 2,
       "version_minor": 0
      },
      "text/plain": [
       "Renderer(camera=PerspectiveCamera(children=(DirectionalLight(color='white', intensity=0.6, position=(1.1287999…"
      ]
     },
     "metadata": {},
     "output_type": "display_data"
    },
    {
     "data": {
      "text/plain": [
       "<meshplot.Viewer.Viewer at 0x152af33ec20>"
      ]
     },
     "execution_count": 3,
     "metadata": {},
     "output_type": "execute_result"
    }
   ],
   "source": [
    "# Toggle to choose on which mesh to work\n",
    "working_on_luigi = True\n",
    "\n",
    "pi, v = igl.read_triangle_mesh(\"data/\" + (\"luigi\" if working_on_luigi else \"cat\") + \".off\")\n",
    "pi /= 10\n",
    "ni = igl.per_vertex_normals(pi, v)\n",
    "mp.plot(pi, shading={\"point_size\": 1 if working_on_luigi else 6})"
   ]
  },
  {
   "cell_type": "markdown",
   "metadata": {},
   "source": [
    "# Setting up  the constraints"
   ]
  },
  {
   "cell_type": "code",
   "execution_count": 4,
   "metadata": {},
   "outputs": [],
   "source": [
    "#\n",
    "# Auxillary code for distance calculations\n",
    "#\n",
    "\n",
    "# Function to find the closest point to as point in a set of points\n",
    "# Brute force implementation\n",
    "def find_closest_point(point, points):\n",
    "    distances = np.linalg.norm(points - point, axis=1)\n",
    "    return np.argmin(distances)\n",
    "\n",
    "# Function that retrieves the indices of all points in points \n",
    "# that are at distance less than h from point.\n",
    "# Brute force implementation\n",
    "def closest_points(point, points, radius):\n",
    "    distances = np.linalg.norm(points - point, axis=1)\n",
    "    return np.argwhere(distances < radius).flatten()\n",
    "\n",
    "# Class that implements a spatial index \n",
    "# for a set of points\n",
    "class SpatialIndex:\n",
    "    \n",
    "    def __init__(self, points, cell_size):\n",
    "        self.points = points\n",
    "        self.inv_cell_size = 1.0/cell_size\n",
    "        self.grid = {}\n",
    "        self._build_grid()\n",
    "\n",
    "    # Get key of a cell\n",
    "    def _get_key(self, coord):\n",
    "        return tuple(coord)\n",
    "\n",
    "    # Get the coordinates of a point in the grid\n",
    "    def _grid_coords(self, point):\n",
    "        return np.floor(point * self.inv_cell_size).astype(int)\n",
    "\n",
    "    # Build the grid\n",
    "    def _build_grid(self):\n",
    "        # For each point, compute its coordinates, key \n",
    "        # and add it to the grid\n",
    "        for idx, pt in enumerate(self.points):\n",
    "            key = self._get_key(self._grid_coords(pt))\n",
    "            if key not in self.grid:\n",
    "                self.grid[key] = []\n",
    "            self.grid[key].append(idx)\n",
    "    \n",
    "    # Find the closest point in the grid to a point\n",
    "    def find_closest_point(self, point, grid_radius=1):\n",
    "        # Get the grid coordinates of the point\n",
    "        p_cell = self._grid_coords(point)\n",
    "        # initialize\n",
    "        min_dist2 = np.inf\n",
    "        closest_idx = None\n",
    "\n",
    "        # For each cell we search in\n",
    "        for dx in [-grid_radius, 0, grid_radius]:\n",
    "            for dy in [-grid_radius, 0, grid_radius]:\n",
    "                for dz in [-grid_radius, 0, grid_radius]:\n",
    "                    # Access the cell, if it exist\n",
    "                    neighbor_key = self._get_key(p_cell + np.array([dx, dy, dz]))\n",
    "                    if neighbor_key in self.grid:\n",
    "                        # Get the points inside\n",
    "                        indices = self.grid[neighbor_key]\n",
    "                        candidates = self.points[indices]\n",
    "                        # Compute squared distances and get the nearest\n",
    "                        dists = np.sum((candidates - point)**2, axis=1)\n",
    "                        min_local_idx = np.argmin(dists)\n",
    "                        # Check if it is the nearest so far\n",
    "                        if dists[min_local_idx] < min_dist2:\n",
    "                            min_dist2 = dists[min_local_idx]\n",
    "                            closest_idx = indices[min_local_idx]\n",
    "        return closest_idx\n",
    "\n",
    "    def closest_points(self, point, radius):\n",
    "        # Get the grid coordinates of the point\n",
    "        p_cell = self._grid_coords(point)\n",
    "        # Get the grid radius in which to search\n",
    "        grid_radius = int(np.ceil(radius * self.inv_cell_size))\n",
    "        # initialize\n",
    "        radius_sq = radius * radius\n",
    "        result = []\n",
    "\n",
    "        # For each cell we search in\n",
    "        for dx in range(-grid_radius, grid_radius+1):\n",
    "            for dy in range(-grid_radius, grid_radius+1):\n",
    "                for dz in range(-grid_radius, grid_radius+1):                   \n",
    "                    # Access the cell, if it exist\n",
    "                    neighbor_key = self._get_key(p_cell + np.array([dx, dy, dz]))\n",
    "                    if neighbor_key in self.grid:\n",
    "                        # Get the points inside\n",
    "                        indices = self.grid[neighbor_key]\n",
    "                        candidates = self.points[indices]\n",
    "                        # Compute squared distances and get the nearest\n",
    "                        dists = np.sum((candidates - point)**2, axis=1)\n",
    "                        # Get points in radius and add them to the result\n",
    "                        in_radius = np.where(dists <= radius_sq)[0]\n",
    "                        result.extend([indices[i] for i in in_radius])\n",
    "        return result"
   ]
  },
  {
   "cell_type": "code",
   "execution_count": 5,
   "metadata": {},
   "outputs": [],
   "source": [
    "# Add here the code to generate the additional points and constraints\n",
    "\n",
    "# Function to build constraint equations\n",
    "def build_constraints(points, normals, epsilon, spindex=None):\n",
    "\n",
    "    # initialize the arrays\n",
    "    p = np.zeros((3*len(points), 3))\n",
    "    f = np.zeros(3*len(points))\n",
    "\n",
    "    for i, pi in enumerate(points):\n",
    "        # Add constraint f(pi) = 0\n",
    "        p[3 * i] = pi\n",
    "        f[3 * i] = 0.0\n",
    "        # Add pi+N/pi+2N's constraints\n",
    "        for j, sign in enumerate([1, -1]):\n",
    "            epsilon_current = epsilon\n",
    "            while True:\n",
    "                # Compute pi+N/pi+2N\n",
    "                pi_N = pi + (sign * epsilon_current * normals[i])\n",
    "\n",
    "                # Find the closest point to pi+N/pi+2N\n",
    "                # If we have a spatial index, use it\n",
    "                if spindex:\n",
    "                    closest_index = spindex.find_closest_point(pi_N)\n",
    "                    # DEBUG\n",
    "                    closest_index_debug = find_closest_point(pi_N, points)  \n",
    "                    assert (closest_index_debug == closest_index)\n",
    "                else:\n",
    "                    closest_index = find_closest_point(pi_N, points)\n",
    "\n",
    "                # If the point is the same, break\n",
    "                if np.array_equal(points[closest_index], pi):\n",
    "                    break\n",
    "                # Otherwise, update epsilon and repeat\n",
    "                epsilon_current /= 2\n",
    "            # Append new point and constraints\n",
    "            p[(3 * i) + j + 1] = pi_N\n",
    "            f[(3 * i) + j + 1] = sign * epsilon\n",
    "    \n",
    "    p = np.array(p)\n",
    "    f = np.array(f)\n",
    "    \n",
    "    return p, f"
   ]
  },
  {
   "cell_type": "code",
   "execution_count": 6,
   "metadata": {},
   "outputs": [],
   "source": [
    "# We'll use the bbox diagonal as reference for some of the parameters\n",
    "# as such, we define a function to compute it, considering also the alignment\n",
    "# of the cloud of points\n",
    "\n",
    "def compute_bbox_diag(points, pca_fix=False):\n",
    "    # Copy for usage with pca_fix\n",
    "    points_tmp = points.copy()\n",
    "\n",
    "    if pca_fix:\n",
    "        # Center the points\n",
    "        centroid = np.mean(points_tmp, axis=0)\n",
    "        centered = points_tmp - centroid\n",
    "\n",
    "        # Compute eigenvectors\n",
    "        cov = np.cov(centered.T)\n",
    "        eigvals, eigvecs = np.linalg.eigh(cov) \n",
    "\n",
    "        # Sort eigenvectors\n",
    "        sort_idx = np.argsort(eigvals)[::-1]\n",
    "        eigvecs = eigvecs[:, sort_idx]\n",
    "\n",
    "        # Rotate the points\n",
    "        points_tmp = centered @ eigvecs\n",
    "\n",
    "    # Compute the bounding box diagonal\n",
    "    bbox_min = np.min(points_tmp, axis=0)\n",
    "    bbox_max = np.max(points_tmp, axis=0)\n",
    "    diag = np.linalg.norm(bbox_max - bbox_min)\n",
    "    \n",
    "    return diag, np.array(points_tmp)"
   ]
  },
  {
   "cell_type": "code",
   "execution_count": 7,
   "metadata": {},
   "outputs": [
    {
     "data": {
      "application/vnd.jupyter.widget-view+json": {
       "model_id": "9de23041e7784f01a9327f160a03ad2a",
       "version_major": 2,
       "version_minor": 0
      },
      "text/plain": [
       "Renderer(camera=PerspectiveCamera(children=(DirectionalLight(color='white', intensity=0.6, position=(-0.667772…"
      ]
     },
     "metadata": {},
     "output_type": "display_data"
    },
    {
     "data": {
      "text/plain": [
       "<meshplot.Viewer.Viewer at 0x152acadf970>"
      ]
     },
     "execution_count": 7,
     "metadata": {},
     "output_type": "execute_result"
    }
   ],
   "source": [
    "# Compute the bounding box diagonal\n",
    "bbox_diag, test = compute_bbox_diag(pi, pca_fix=working_on_luigi)\n",
    "\n",
    "# Compute epsilon\n",
    "epsilon_factor = 0.01\n",
    "epsilon = epsilon_factor * bbox_diag\n",
    "\n",
    "# Spatial Index \n",
    "spindex_factor = 0.1\n",
    "spindex_resolution = spindex_factor * bbox_diag\n",
    "base_spindex = SpatialIndex(pi, cell_size=spindex_resolution)\n",
    "\n",
    "# Generate the new pi and constraints\n",
    "p, f = build_constraints(pi, ni, epsilon, base_spindex)\n",
    "\n",
    "mp.plot(test, shading={\"point_size\": 1 if working_on_luigi else 6})"
   ]
  },
  {
   "cell_type": "code",
   "execution_count": 8,
   "metadata": {},
   "outputs": [
    {
     "data": {
      "application/vnd.jupyter.widget-view+json": {
       "model_id": "bcf9b34b2b0441199dbfff1b8e6dcb62",
       "version_major": 2,
       "version_minor": 0
      },
      "text/plain": [
       "Renderer(camera=PerspectiveCamera(children=(DirectionalLight(color='white', intensity=0.6, position=(1.1301333…"
      ]
     },
     "metadata": {},
     "output_type": "display_data"
    },
    {
     "data": {
      "text/plain": [
       "<meshplot.Viewer.Viewer at 0x152af2f3280>"
      ]
     },
     "execution_count": 8,
     "metadata": {},
     "output_type": "execute_result"
    }
   ],
   "source": [
    "# Create color vector\n",
    "colors = np.zeros((p.shape[0], 3))\n",
    "colors[0::3] = [0, 0, 1]\n",
    "colors[1::3] = [1, 0, 0]\n",
    "colors[2::3] = [0, 1, 0]\n",
    "# Visualize the new point cloud \n",
    "mp.plot(p, c=colors, shading={\"point_size\": 1 if working_on_luigi else 6})"
   ]
  },
  {
   "cell_type": "markdown",
   "metadata": {},
   "source": [
    "# MLS function"
   ]
  },
  {
   "cell_type": "code",
   "execution_count": 9,
   "metadata": {},
   "outputs": [],
   "source": [
    "def tet_grid_improved(n, points, pca_fix=False):\n",
    "    # Copy for usage with pca_fix\n",
    "    points_tmp = points.copy()\n",
    "\n",
    "    if pca_fix:\n",
    "        # Center the points\n",
    "        centroid = np.mean(points_tmp, axis=0)\n",
    "        centered = points_tmp - centroid\n",
    "\n",
    "        # Compute eigenvectors\n",
    "        cov = np.cov(centered.T)\n",
    "        eigvals, eigvecs = np.linalg.eigh(cov) \n",
    "\n",
    "        # Sort eigenvectors\n",
    "        sort_idx = np.argsort(eigvals)[::-1]\n",
    "        eigvecs = eigvecs[:, sort_idx]\n",
    "\n",
    "        # Rotate the points\n",
    "        points_tmp = centered @ eigvecs\n",
    "\n",
    "    # Compute the bounding box\n",
    "    bbox_min = np.min(points_tmp, axis=0)\n",
    "    bbox_max = np.max(points_tmp, axis=0)\n",
    "\n",
    "    # Enlarge slightly the bounding box\n",
    "    bbox_min -= 0.05 * (bbox_max - bbox_min)\n",
    "    bbox_max += 0.05 * (bbox_max - bbox_min)\n",
    "\n",
    "    # Generate the grid\n",
    "    V, T = tet_grid(n, bbox_min, bbox_max)\n",
    "\n",
    "    if pca_fix:\n",
    "        # Return to original space\n",
    "        V = V @ eigvecs.T + centroid\n",
    "\n",
    "    return V, T"
   ]
  },
  {
   "cell_type": "code",
   "execution_count": 10,
   "metadata": {
    "scrolled": true
   },
   "outputs": [],
   "source": [
    "# Resolution\n",
    "nx = 40\n",
    "ny = 40\n",
    "nz = 40\n",
    "\n",
    "grid_resolution = (nx, ny, nz)\n",
    "\n",
    "# Generate grid n x n x n\n",
    "x, T = tet_grid_improved(grid_resolution, p, working_on_luigi)"
   ]
  },
  {
   "cell_type": "code",
   "execution_count": 11,
   "metadata": {},
   "outputs": [],
   "source": [
    "def wendland_weight(p, p_i, radius):\n",
    "    # normalized distance\n",
    "    r = np.linalg.norm(p_i - p, axis=1)\n",
    "    q = r / radius\n",
    "    return (1 - q) ** 4 * (4 * q + 1) * (q < 1)\n",
    "\n",
    "# Return the polynomial basis functions\n",
    "# depending on the degree required\n",
    "def pol_basis(x, degree):\n",
    "    if degree == 0:\n",
    "        return np.array([1])\n",
    "    elif degree == 1:\n",
    "        return np.array([1, x[0], x[1], x[2]])\n",
    "    elif degree == 2:\n",
    "        return np.array([1, x[0], x[1], x[2], x[0]**2, x[1]**2, x[2]**2, \n",
    "                         x[0]*x[1], x[1]*x[2], x[2]*x[0]])\n",
    "    else:\n",
    "        raise ValueError(\"Degree must be 0, 1, or 2\")\n",
    "\n",
    "# Evaluate MLS for a given point\n",
    "def evaluate_MLS(point, points, constraints, radius, pol_degree, spindex=None):\n",
    "    # Check if the spindex is provided\n",
    "    if spindex:\n",
    "        neighbors = spindex.closest_points(point, radius)        \n",
    "        # DEBUG\n",
    "        neighbors_brute = closest_points(point, points, radius)\n",
    "        assert set(neighbors) == set(neighbors_brute)\n",
    "    else:\n",
    "        neighbors = closest_points(point, points, radius)\n",
    "    \n",
    "    # If the number of constraint points is less than twice \n",
    "    # the number of polynomial coefficients, return a large positive value\n",
    "    if len(neighbors) < ((3/2) * pol_degree**2 + (3/2) * pol_degree + 1):\n",
    "        return 10e6 \n",
    "    \n",
    "    # Linear system components:\n",
    "    # B is the polynomial basis evaluated at the neighbors\n",
    "    B = np.array([pol_basis(points[i], pol_degree) for i in neighbors])\n",
    "    # W is the Wendland weight matrix\n",
    "    W = np.diag(wendland_weight(point, points[neighbors], radius))\n",
    "\n",
    "    A = B.T @ W @ B\n",
    "    b = B.T @ W @ constraints[neighbors]\n",
    "    \n",
    "    # Solve the linear system\n",
    "    coeffs = np.linalg.solve(A, b)\n",
    "    return pol_basis(point, pol_degree) @ coeffs\n",
    "\n",
    "def evaluate_MLS_on_grid(x, points, constraints, radius, pol_degree, spindex):\n",
    "    # Evaluate the MLS function on a grid of points\n",
    "    fx = np.array([evaluate_MLS(xi, points, constraints, radius, pol_degree, spindex) for xi in x])\n",
    "    return fx"
   ]
  },
  {
   "cell_type": "code",
   "execution_count": 12,
   "metadata": {},
   "outputs": [],
   "source": [
    "# Parameters\n",
    "wendland_factor = 0.1\n",
    "wendlandRadius = wendland_factor * bbox_diag\n",
    "polyDegree = 2\n",
    "\n",
    "# Rebuild the spatial index with the new points\n",
    "full_spindex = SpatialIndex(p, cell_size=spindex_resolution)\n",
    "\n",
    "# Evaluate the MLS function on the grid\n",
    "fx = evaluate_MLS_on_grid(x, p, f, wendlandRadius, polyDegree, full_spindex)"
   ]
  },
  {
   "cell_type": "code",
   "execution_count": 13,
   "metadata": {},
   "outputs": [
    {
     "data": {
      "application/vnd.jupyter.widget-view+json": {
       "model_id": "584d51d5b3f049899256a15a51cf9279",
       "version_major": 2,
       "version_minor": 0
      },
      "text/plain": [
       "Renderer(camera=PerspectiveCamera(children=(DirectionalLight(color='white', intensity=0.6, position=(1.4454481…"
      ]
     },
     "metadata": {},
     "output_type": "display_data"
    },
    {
     "data": {
      "text/plain": [
       "<meshplot.Viewer.Viewer at 0x152acadf850>"
      ]
     },
     "execution_count": 13,
     "metadata": {},
     "output_type": "execute_result"
    }
   ],
   "source": [
    "# Assign colors\n",
    "grid_colors = np.zeros((len(x), 3))\n",
    "grid_colors[fx >= 0] = [1, 0, 0]  # Red = outside\n",
    "grid_colors[fx <  0] = [0, 1, 0]  # Green = inside\n",
    "\n",
    "# Visualize the grid\n",
    "mp.plot(x, c=grid_colors, shading={\"point_size\": 1 if working_on_luigi else 6})"
   ]
  },
  {
   "cell_type": "markdown",
   "metadata": {},
   "source": [
    "---"
   ]
  },
  {
   "cell_type": "markdown",
   "metadata": {},
   "source": [
    "# Marching to extract surface"
   ]
  },
  {
   "cell_type": "code",
   "execution_count": 14,
   "metadata": {},
   "outputs": [
    {
     "data": {
      "application/vnd.jupyter.widget-view+json": {
       "model_id": "a97d40314ea84909a4f78103941c7a18",
       "version_major": 2,
       "version_minor": 0
      },
      "text/plain": [
       "Renderer(camera=PerspectiveCamera(children=(DirectionalLight(color='white', intensity=0.6, position=(1.1191837…"
      ]
     },
     "metadata": {},
     "output_type": "display_data"
    },
    {
     "data": {
      "text/plain": [
       "<meshplot.Viewer.Viewer at 0x152ae3956c0>"
      ]
     },
     "execution_count": 14,
     "metadata": {},
     "output_type": "execute_result"
    }
   ],
   "source": [
    "# Marcing tet to extract surface\n",
    "sv, sf, _, _ = igl.marching_tets(x, T, fx, 0)\n",
    "\n",
    "# Plot noisy surface\n",
    "mp.plot(sv, sf, shading={\"wireframe\": True})"
   ]
  },
  {
   "cell_type": "code",
   "execution_count": 16,
   "metadata": {
    "scrolled": true
   },
   "outputs": [
    {
     "data": {
      "application/vnd.jupyter.widget-view+json": {
       "model_id": "fac21aa90b8542c291b663be5bf59d84",
       "version_major": 2,
       "version_minor": 0
      },
      "text/plain": [
       "Renderer(camera=PerspectiveCamera(children=(DirectionalLight(color='white', intensity=0.6, position=(1.1313529…"
      ]
     },
     "metadata": {},
     "output_type": "display_data"
    },
    {
     "data": {
      "text/plain": [
       "<meshplot.Viewer.Viewer at 0x152ae9a3280>"
      ]
     },
     "execution_count": 16,
     "metadata": {},
     "output_type": "execute_result"
    }
   ],
   "source": [
    "# Let's filter out smaller, noisy components\n",
    "\n",
    "# Count number of faces per component\n",
    "C = igl.face_components(sf)\n",
    "component_sizes = np.bincount(C)\n",
    "\n",
    "# Filter out components with less than min_faces\n",
    "min_faces = 30000\n",
    "sf_filtered = sf[component_sizes[C] <= min_faces]\n",
    "\n",
    "# Keep only used vertices\n",
    "used_vertices = np.unique(sf_filtered)\n",
    "# Map from old to new vertex ids\n",
    "reindex = -np.ones(sv.shape[0], dtype=int)\n",
    "reindex[used_vertices] = np.arange(len(used_vertices))\n",
    "# Remaining vertices and faces\n",
    "sv_filtered = sv[used_vertices]\n",
    "sf_filtered = reindex[sf_filtered]\n",
    "\n",
    "# Plot the cleaned surface\n",
    "mp.plot(sv_filtered, sf_filtered, shading={\"wireframe\": True})"
   ]
  }
 ],
 "metadata": {
  "kernelspec": {
   "display_name": "myenv",
   "language": "python",
   "name": "python3"
  },
  "language_info": {
   "codemirror_mode": {
    "name": "ipython",
    "version": 3
   },
   "file_extension": ".py",
   "mimetype": "text/x-python",
   "name": "python",
   "nbconvert_exporter": "python",
   "pygments_lexer": "ipython3",
   "version": "3.10.16"
  }
 },
 "nbformat": 4,
 "nbformat_minor": 4
}
