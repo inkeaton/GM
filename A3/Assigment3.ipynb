{
 "cells": [
  {
   "cell_type": "markdown",
   "metadata": {},
   "source": [
    "# Assigment 3 - DDG\n",
    "## Edoardo Vassallo - S4965918\n",
    "### Done on igl 2.2.1"
   ]
  },
  {
   "cell_type": "code",
   "execution_count": 130,
   "metadata": {},
   "outputs": [],
   "source": [
    "import igl\n",
    "import numpy as np\n",
    "import meshplot as mp\n",
    "from collections import deque\n",
    "from scipy.sparse.linalg import spsolve\n",
    "import scipy.sparse as sp"
   ]
  },
  {
   "cell_type": "markdown",
   "metadata": {},
   "source": [
    "## 0 - Load and Display Mesh"
   ]
  },
  {
   "cell_type": "code",
   "execution_count": 131,
   "metadata": {
    "scrolled": true
   },
   "outputs": [
    {
     "data": {
      "application/vnd.jupyter.widget-view+json": {
       "model_id": "9aca8a571e1a47848ea8e79c58dfdca7",
       "version_major": 2,
       "version_minor": 0
      },
      "text/plain": [
       "Renderer(camera=PerspectiveCamera(children=(DirectionalLight(color='white', intensity=0.6, position=(-0.016860…"
      ]
     },
     "metadata": {},
     "output_type": "display_data"
    },
    {
     "data": {
      "text/plain": [
       "<meshplot.Viewer.Viewer at 0x1ae74cd3820>"
      ]
     },
     "execution_count": 131,
     "metadata": {},
     "output_type": "execute_result"
    }
   ],
   "source": [
    "v, f = igl.read_triangle_mesh(\"data/bunny.off\")\n",
    "mp.plot(v, f, shading={\"wireframe\": True})"
   ]
  },
  {
   "cell_type": "markdown",
   "metadata": {},
   "source": [
    "## 1 - Vertex Normals"
   ]
  },
  {
   "cell_type": "markdown",
   "metadata": {},
   "source": [
    "### 1.1 - Standard Vertex Normals"
   ]
  },
  {
   "cell_type": "code",
   "execution_count": 132,
   "metadata": {},
   "outputs": [
    {
     "data": {
      "application/vnd.jupyter.widget-view+json": {
       "model_id": "3d581abecdec48248d013cc8bc1bf007",
       "version_major": 2,
       "version_minor": 0
      },
      "text/plain": [
       "Renderer(camera=PerspectiveCamera(children=(DirectionalLight(color='white', intensity=0.6, position=(-0.016860…"
      ]
     },
     "metadata": {},
     "output_type": "display_data"
    },
    {
     "data": {
      "text/plain": [
       "<meshplot.Viewer.Viewer at 0x1ae74cd3550>"
      ]
     },
     "execution_count": 132,
     "metadata": {},
     "output_type": "execute_result"
    }
   ],
   "source": [
    "#Standard face normal\n",
    "n = np.zeros_like(v)\n",
    "\n",
    "# by default computes as uniform, specified just for clarity\n",
    "n = igl.per_vertex_normals(v, f, weighting=igl.PER_VERTEX_NORMALS_WEIGHTING_TYPE_UNIFORM)\n",
    "\n",
    "# compute normals for each face\n",
    "# accumulate the normal to the entries of n corresponding to the face's vertices\n",
    "# normalize all entries\n",
    "# save for later use\n",
    "\n",
    "mp.plot(v, f, n=n, shading={\"flat\": False})"
   ]
  },
  {
   "cell_type": "markdown",
   "metadata": {},
   "source": [
    "### 1.2 - Area Weighted Normals"
   ]
  },
  {
   "cell_type": "code",
   "execution_count": 133,
   "metadata": {},
   "outputs": [
    {
     "data": {
      "application/vnd.jupyter.widget-view+json": {
       "model_id": "edfbc89084ba4f6b86e6c585d48495ea",
       "version_major": 2,
       "version_minor": 0
      },
      "text/plain": [
       "Renderer(camera=PerspectiveCamera(children=(DirectionalLight(color='white', intensity=0.6, position=(-0.016860…"
      ]
     },
     "metadata": {},
     "output_type": "display_data"
    },
    {
     "data": {
      "text/plain": [
       "<meshplot.Viewer.Viewer at 0x1ae74cd28f0>"
      ]
     },
     "execution_count": 133,
     "metadata": {},
     "output_type": "execute_result"
    }
   ],
   "source": [
    "#Area-weighted face normal\n",
    "n = np.zeros_like(v)\n",
    "\n",
    "n = igl.per_vertex_normals(v, f, weighting=igl.PER_VERTEX_NORMALS_WEIGHTING_TYPE_AREA)\n",
    "\n",
    "#same as above, but faces' normals shall not be normalized prior to accumulate (cross product includes area)\n",
    "\n",
    "mp.plot(v, f, n=n, shading={\"flat\": False})"
   ]
  },
  {
   "cell_type": "markdown",
   "metadata": {},
   "source": [
    "### 1.3 - Mean Curvature Normals"
   ]
  },
  {
   "cell_type": "code",
   "execution_count": 134,
   "metadata": {},
   "outputs": [],
   "source": [
    "#Compute Laplacian matrix\n",
    "#Compute normal direction from mean curvature formula\n",
    "#If the norm if smaller then eps, substitute with the saved standard normal\n",
    "#Normalize\n",
    "#Adjust directions by using dot product with standard normal\n",
    "\n",
    "\n",
    "def compute_mean_curvature_normals(v, f, eps=1e-6):\n",
    "    # Compute cotangent-weighted Laplacian matrix\n",
    "    L = igl.cotmatrix(v, f)\n",
    "    # Compute mass matrix\n",
    "    M = igl.massmatrix(v, f, igl.MASSMATRIX_TYPE_VORONOI)\n",
    "    # Compute mean curvature normals HN = inv(M) * (L.dot(v)) \n",
    "    # [https://libigl.github.io/libigl-python-bindings/tut-chapter1/#curvature-directions]\n",
    "    minv = sp.diags(1 / M.diagonal())\n",
    "    HN = -minv.dot(L.dot(v))\n",
    "    \n",
    "    # Prepare fallback area-weighted normals\n",
    "    fallback = igl.per_vertex_normals(v, f, weighting=igl.PER_VERTEX_NORMALS_WEIGHTING_TYPE_AREA)\n",
    "    # Normalize and threshold\n",
    "    N = np.zeros_like(HN)\n",
    "    lengths = np.linalg.norm(HN, axis=1)\n",
    "    for i in range(HN.shape[0]):\n",
    "        if lengths[i] > eps:\n",
    "            N[i] = HN[i] / lengths[i]\n",
    "        else:\n",
    "            N[i] = fallback[i]\n",
    "        \n",
    "    # fix signs\n",
    "    sign_flip = np.sign((N * fallback).sum(axis=1))[:, None]\n",
    "    return sign_flip * N"
   ]
  },
  {
   "cell_type": "code",
   "execution_count": 135,
   "metadata": {},
   "outputs": [
    {
     "data": {
      "application/vnd.jupyter.widget-view+json": {
       "model_id": "54d44dbebdbc4715adb91d47b252e614",
       "version_major": 2,
       "version_minor": 0
      },
      "text/plain": [
       "Renderer(camera=PerspectiveCamera(children=(DirectionalLight(color='white', intensity=0.6, position=(-0.016860…"
      ]
     },
     "metadata": {},
     "output_type": "display_data"
    },
    {
     "data": {
      "text/plain": [
       "<meshplot.Viewer.Viewer at 0x1ae74cd26e0>"
      ]
     },
     "execution_count": 135,
     "metadata": {},
     "output_type": "execute_result"
    }
   ],
   "source": [
    "#Mean-curvature normal\n",
    "n = np.zeros_like(v)\n",
    "\n",
    "# The result is very noisy\n",
    "n = compute_mean_curvature_normals(v, f)\n",
    "mp.plot(v, f, n=n, shading={\"flat\": False})"
   ]
  },
  {
   "cell_type": "markdown",
   "metadata": {},
   "source": [
    "### 1.4 - PCA Normals"
   ]
  },
  {
   "cell_type": "code",
   "execution_count": 136,
   "metadata": {},
   "outputs": [],
   "source": [
    "## AUXILLARY FUNCTION:\n",
    "# Compute k-ring for each vertex\n",
    "def compute_vertex_k_ring(V, F, k = 5):\n",
    "\n",
    "    n = V.shape[0]\n",
    "    # initialize output\n",
    "    nbrs: [[int]] = [[] for _ in range(n)]\n",
    "\n",
    "    # Get vertex-triangle adjacency\n",
    "    v2t_flat, v2t_ptr = igl.vertex_triangle_adjacency(F, n)\n",
    "\n",
    "    # for each vertex\n",
    "    for vi in range(n):\n",
    "        # use BFS to find k-ring neighbors\n",
    "        seen = {vi}\n",
    "        queue = deque([(vi, 0)])\n",
    "        \n",
    "        while queue:\n",
    "            vj, d = queue.popleft()\n",
    "            # if we are inside the k-ring,\n",
    "            if d < k:\n",
    "                #  we add new neighbors to the set\n",
    "                s, e = v2t_ptr[vj], v2t_ptr[vj+1]\n",
    "                for t in v2t_flat[s:e]:\n",
    "                    for vk in F[t]:\n",
    "                        if vk not in seen:\n",
    "                            seen.add(vk)\n",
    "                            queue.append((vk, d+1))\n",
    "        nbrs[vi] = list(seen)\n",
    "\n",
    "    return nbrs"
   ]
  },
  {
   "cell_type": "code",
   "execution_count": 137,
   "metadata": {},
   "outputs": [],
   "source": [
    "def compute_pca_normals(v, f, k=16):\n",
    "\n",
    "    N = np.zeros_like(v)\n",
    "    all_neighbours = compute_vertex_k_ring(v, f, k=k)\n",
    "    # for each vertex\n",
    "    for i, vi in enumerate(v):\n",
    "\n",
    "        # get neighbours\n",
    "        nbrs = all_neighbours[i]\n",
    "        if len(nbrs) < 3:\n",
    "            N[i] = np.array([0.0, 0.0, 1.0])\n",
    "            continue\n",
    "        pts = v[nbrs]\n",
    "\n",
    "        # center the points\n",
    "        pts -= pts.mean(axis=0)\n",
    "\n",
    "        # compute PCA\n",
    "        cov = np.cov(pts.T)\n",
    "        eigvals, eigvecs = np.linalg.eigh(cov)\n",
    "        \n",
    "        # smallest eigenvector is the normal\n",
    "        normal = eigvecs[:, np.argmin(eigvals)]\n",
    "        N[i] = normal\n",
    "\n",
    "    # fix signs\n",
    "    stdN = igl.per_vertex_normals(v, f)\n",
    "    sign_flip = np.sign((N * stdN).sum(axis=1))[:, None]\n",
    "    return sign_flip * N"
   ]
  },
  {
   "cell_type": "code",
   "execution_count": 138,
   "metadata": {},
   "outputs": [
    {
     "data": {
      "application/vnd.jupyter.widget-view+json": {
       "model_id": "d01aa6e2395349ad8a39e157ebb554bf",
       "version_major": 2,
       "version_minor": 0
      },
      "text/plain": [
       "Renderer(camera=PerspectiveCamera(children=(DirectionalLight(color='white', intensity=0.6, position=(-0.016860…"
      ]
     },
     "metadata": {},
     "output_type": "display_data"
    },
    {
     "data": {
      "text/plain": [
       "<meshplot.Viewer.Viewer at 0x1ae74cd06d0>"
      ]
     },
     "execution_count": 138,
     "metadata": {},
     "output_type": "execute_result"
    }
   ],
   "source": [
    "#PCA normal\n",
    "\n",
    "n = np.zeros_like(v)\n",
    "k = 3\n",
    "\n",
    "n = compute_pca_normals(v, f, k)\n",
    "#Define function to find kNN of a vertex (either by breadth-first expansion, or by exhaustive search)\n",
    "\n",
    "#For each vertex:\n",
    "#   find its kNN's\n",
    "#   build the covariance matrix\n",
    "#   find its eigenvectors by eigen decomposition\n",
    "#   set normal from eigenvector corresponding to minimum eigenvalue\n",
    "#   Adjust directions as above\n",
    "\n",
    "# Very smooth result, apart from the ears\n",
    "mp.plot(v, f, n=n, shading={\"flat\": False})"
   ]
  },
  {
   "cell_type": "markdown",
   "metadata": {},
   "source": [
    "### 1.5 - Quadric Fitting Normals"
   ]
  },
  {
   "cell_type": "code",
   "execution_count": 139,
   "metadata": {},
   "outputs": [],
   "source": [
    "def compute_quadratic_normals(V, F, k=16):\n",
    "    N = np.zeros_like(V)\n",
    "    stdN = igl.per_vertex_normals(V, F)\n",
    "    all_neighbours = compute_vertex_k_ring(V, F, k=k)\n",
    "    # for each vertex\n",
    "    for i, vi in enumerate(V):\n",
    "\n",
    "        # get neighbours\n",
    "        nbrs = all_neighbours[i]\n",
    "\n",
    "        if len(nbrs) < 3:\n",
    "            N[i] = np.array([0.0, 0.0, 1.0])\n",
    "            continue\n",
    "\n",
    "        pts = V[nbrs]\n",
    "        \n",
    "        # center points to mean of the neighbourhood\n",
    "        pts -= pts.mean(axis=0)\n",
    "\n",
    "        # compute PCA\n",
    "        cov = np.cov(pts.T)\n",
    "        eigvals, eigvecs = np.linalg.eigh(cov)\n",
    "        e1, e2 = eigvecs[:, 1], eigvecs[:, 2]\n",
    "        e3 = eigvecs[:, 0] # smallest eigenvector is the height\n",
    "\n",
    "        # compute coordinates (u, v, h) in the local frame\n",
    "        coords = np.dot(pts, np.vstack([e1, e2, e3]).T)\n",
    "        u, v, h = coords[:,0], coords[:,1], coords[:,2]\n",
    "\n",
    "        # we'll use as quadratic function h = a*u^2 + b*u*v + c*v^2 + d*u + e*v + f\n",
    "        A = np.column_stack([u*u, u*v, v*v, u, v, np.ones_like(u)])\n",
    "        # we want to fit the quadratic function to the height h\n",
    "        coeffs, *_ = np.linalg.lstsq(A, h, rcond=None)\n",
    "        # coeffs = [a, b, c, d, e, f]\n",
    "        # we only care about d and e, because they are \n",
    "        # the derivatives in (0, 0), the vertex\n",
    "        _, _, _, fu, fv, _ = coeffs\n",
    "\n",
    "        # compute the tangent plane basis\n",
    "        tu = e1 + fu * e3\n",
    "        tv = e2 + fv * e3\n",
    "        # the normal is the cross product of the tangent basis\n",
    "        N[i] = np.cross(tu, tv)\n",
    "        N[i] /= np.linalg.norm(N[i])\n",
    "\n",
    "    # fix signs\n",
    "    sign_flip = np.sign((N * stdN).sum(axis=1))[:, None]\n",
    "    return sign_flip * N"
   ]
  },
  {
   "cell_type": "code",
   "execution_count": 140,
   "metadata": {},
   "outputs": [
    {
     "data": {
      "application/vnd.jupyter.widget-view+json": {
       "model_id": "c8289be93377458eaf800f89b0936f32",
       "version_major": 2,
       "version_minor": 0
      },
      "text/plain": [
       "Renderer(camera=PerspectiveCamera(children=(DirectionalLight(color='white', intensity=0.6, position=(-0.016860…"
      ]
     },
     "metadata": {},
     "output_type": "display_data"
    },
    {
     "data": {
      "text/plain": [
       "<meshplot.Viewer.Viewer at 0x1ae737ac430>"
      ]
     },
     "execution_count": 140,
     "metadata": {},
     "output_type": "execute_result"
    }
   ],
   "source": [
    "#Quadratic fitting normal\n",
    "\n",
    "n = np.zeros_like(v)\n",
    "k = 3\n",
    "\n",
    "\n",
    "n = compute_quadratic_normals(v, f, k)\n",
    "\n",
    "#For each vertex:\n",
    "#   find kNN's and compute PCA as before\n",
    "#   express all neighbors in a local ref framewith origin at the vertex and axes aligned to the PCA\n",
    "#   fit a quadratic polynomial to such data\n",
    "#   compute the components of the Jacobian at the origin and express them in the global coordinate system\n",
    "#   compute the normal as orthogonal to the Jacobian's components\n",
    "#Adjust directions as above\n",
    "\n",
    "# similar result to the previous one\n",
    "mp.plot(v, f, n=n, shading={\"flat\": False})\n"
   ]
  },
  {
   "cell_type": "markdown",
   "metadata": {},
   "source": [
    "## 2 - Curvature"
   ]
  },
  {
   "cell_type": "markdown",
   "metadata": {},
   "source": [
    "### 2.1 - From Gaussian Curvature"
   ]
  },
  {
   "cell_type": "code",
   "execution_count": 141,
   "metadata": {},
   "outputs": [
    {
     "data": {
      "application/vnd.jupyter.widget-view+json": {
       "model_id": "92be1113d501465b89a4f6a42cae4edf",
       "version_major": 2,
       "version_minor": 0
      },
      "text/plain": [
       "Renderer(camera=PerspectiveCamera(children=(DirectionalLight(color='white', intensity=0.6, position=(-0.016860…"
      ]
     },
     "metadata": {},
     "output_type": "display_data"
    },
    {
     "data": {
      "application/vnd.jupyter.widget-view+json": {
       "model_id": "be6430b223bf47c0a41cd6fb8656b024",
       "version_major": 2,
       "version_minor": 0
      },
      "text/plain": [
       "Renderer(camera=PerspectiveCamera(children=(DirectionalLight(color='white', intensity=0.6, position=(-0.016860…"
      ]
     },
     "metadata": {},
     "output_type": "display_data"
    },
    {
     "data": {
      "application/vnd.jupyter.widget-view+json": {
       "model_id": "c1afecc999ba4ff589df8d7cef7e13c1",
       "version_major": 2,
       "version_minor": 0
      },
      "text/plain": [
       "Renderer(camera=PerspectiveCamera(children=(DirectionalLight(color='white', intensity=0.6, position=(-0.016860…"
      ]
     },
     "metadata": {},
     "output_type": "display_data"
    },
    {
     "data": {
      "application/vnd.jupyter.widget-view+json": {
       "model_id": "0d9a2acf47084205b5f65a5836ce1116",
       "version_major": 2,
       "version_minor": 0
      },
      "text/plain": [
       "Renderer(camera=PerspectiveCamera(children=(DirectionalLight(color='white', intensity=0.6, position=(-0.016860…"
      ]
     },
     "metadata": {},
     "output_type": "display_data"
    },
    {
     "data": {
      "text/plain": [
       "<meshplot.Viewer.Viewer at 0x1ae73b08dc0>"
      ]
     },
     "execution_count": 141,
     "metadata": {},
     "output_type": "execute_result"
    }
   ],
   "source": [
    "#Obtain Gaussian curvature k from related igl function \n",
    "k = igl.gaussian_curvature(v, f)          # integrated K\n",
    "# K      = Minv @ K_int   \n",
    "\n",
    "#Compute mean curvature h from Laplacian as above\n",
    "L = igl.cotmatrix(v, f)\n",
    "M      = igl.massmatrix(v, f, igl.MASSMATRIX_TYPE_VORONOI)\n",
    "Minv   = sp.diags(1.0 / M.diagonal())\n",
    "hn = -Minv.dot(L.dot(v))\n",
    "h = np.linalg.norm(hn, axis=1)\n",
    "\n",
    "#Compute principal curvatures k1 and k2 from k and h\n",
    "sqrt = np.sqrt(np.maximum(h*h - k, 0.0))\n",
    "k1 = h - sqrt\n",
    "k2 = h + sqrt\n",
    "\n",
    "# Results are very noisy, almost unrecognizable\n",
    "# different colormaps have been used for each variable\n",
    "# they are kept the same with the next section for comparison\n",
    "mp.plot(v, f, k,  shading={\"flat\": False, \"colormap\" : \"brg\"})\n",
    "mp.plot(v, f, h,  shading={\"flat\": False, \"colormap\" : \"cubehelix\"})\n",
    "mp.plot(v, f, k1, shading={\"flat\": False, \"colormap\" : \"hsv\"})\n",
    "mp.plot(v, f, k2, shading={\"flat\": False, \"colormap\" : \"binary\"})"
   ]
  },
  {
   "cell_type": "markdown",
   "metadata": {},
   "source": [
    "### 2.2 - From Principal Curvatures"
   ]
  },
  {
   "cell_type": "code",
   "execution_count": 142,
   "metadata": {},
   "outputs": [
    {
     "data": {
      "application/vnd.jupyter.widget-view+json": {
       "model_id": "d0570f71064942eeaa5b45dfdb04c6bf",
       "version_major": 2,
       "version_minor": 0
      },
      "text/plain": [
       "Renderer(camera=PerspectiveCamera(children=(DirectionalLight(color='white', intensity=0.6, position=(-0.016860…"
      ]
     },
     "metadata": {},
     "output_type": "display_data"
    },
    {
     "data": {
      "application/vnd.jupyter.widget-view+json": {
       "model_id": "7f3809a148a342bc8e687464f8b4c610",
       "version_major": 2,
       "version_minor": 0
      },
      "text/plain": [
       "Renderer(camera=PerspectiveCamera(children=(DirectionalLight(color='white', intensity=0.6, position=(-0.016860…"
      ]
     },
     "metadata": {},
     "output_type": "display_data"
    },
    {
     "data": {
      "application/vnd.jupyter.widget-view+json": {
       "model_id": "2d8c5c06711343b4ba262747fcd5ab87",
       "version_major": 2,
       "version_minor": 0
      },
      "text/plain": [
       "Renderer(camera=PerspectiveCamera(children=(DirectionalLight(color='white', intensity=0.6, position=(-0.016860…"
      ]
     },
     "metadata": {},
     "output_type": "display_data"
    },
    {
     "data": {
      "application/vnd.jupyter.widget-view+json": {
       "model_id": "e4abadea22d144ee9e102102c97a5867",
       "version_major": 2,
       "version_minor": 0
      },
      "text/plain": [
       "Renderer(camera=PerspectiveCamera(children=(DirectionalLight(color='white', intensity=0.6, position=(-0.016860…"
      ]
     },
     "metadata": {},
     "output_type": "display_data"
    },
    {
     "data": {
      "text/plain": [
       "2"
      ]
     },
     "execution_count": 142,
     "metadata": {},
     "output_type": "execute_result"
    }
   ],
   "source": [
    "#Obtain principal curvatures k1 and k2 and their directions v1 and v2 from related igl function\n",
    "v1, v2, k1, k2 = igl.principal_curvature(v, f)\n",
    "#Compute Gaussian curvature k and mean curvature h from k1 and k2\n",
    "k = k1 * k2\n",
    "h = 0.5*(k1 + k2)\n",
    "\n",
    "# plot Gaussian curvature\n",
    "mp.plot(v, f, k, shading={\"wireframe\": False, \"colormap\" : \"brg\"})\n",
    "\n",
    "# plot Mean Curvature\n",
    "mp.plot(v, f, h, shading={\"wireframe\": False, \"colormap\" : \"cubehelix\"})\n",
    "\n",
    "# plot Principal Curvatures\n",
    "p = mp.plot(v, f, k1, shading={\"wireframe\": False, \"colormap\" : \"hsv\"}, return_plot=True)\n",
    "avg = igl.avg_edge_length(v, f) / 2.0\n",
    "p.add_lines(v + v1 * avg, v - v1 * avg, shading={\"line_color\": \"red\"})\n",
    "p.add_lines(v + v2 * avg, v - v2 * avg, shading={\"line_color\": \"yellow\"})\n",
    "\n",
    "p = mp.plot(v, f, k2, shading={\"wireframe\": False, \"colormap\" : \"binary\"}, return_plot=True)\n",
    "avg = igl.avg_edge_length(v, f) / 2.0\n",
    "p.add_lines(v + v1 * avg, v - v1 * avg, shading={\"line_color\": \"red\"})\n",
    "p.add_lines(v + v2 * avg, v - v2 * avg, shading={\"line_color\": \"green\"})"
   ]
  },
  {
   "cell_type": "markdown",
   "metadata": {},
   "source": [
    "## 3 - Smoothing with the Laplacian"
   ]
  },
  {
   "cell_type": "markdown",
   "metadata": {},
   "source": [
    "### 3.1 Explicit Smoothing"
   ]
  },
  {
   "cell_type": "code",
   "execution_count": 143,
   "metadata": {},
   "outputs": [],
   "source": [
    "## AUXILLARY FUNCTION\n",
    "\n",
    "# compute uniform Laplacian matrix\n",
    "def uniform_laplacian(f):\n",
    "    # WARNING: This function follows the construction shown\n",
    "    # in the docs, at link [https://libigl.github.io/libigl-python-bindings/igl_docs/#adjacency_matrix]\n",
    "    # it doesn't seem to work correctly in the smoothing\n",
    "    # other constructions were tried, and they seemed to all yield the same result\n",
    "\n",
    "    a = igl.adjacency_matrix(f)\n",
    "    # Sum each row\n",
    "    a_sum = np.sum(a, axis=1)\n",
    "    # Convert row sums into diagonal of sparse matrix\n",
    "    a_diag = np.diag(a_sum)\n",
    "    # Build uniform laplacian\n",
    "    L_uni = a - a_diag\n",
    "\n",
    "    return L_uni\n",
    "\n",
    "# compute cotangent Laplacian matrix\n",
    "def cotan_laplacian(v, f):\n",
    "    # Compute stiffness matrix (cotmatrix) and mass matrix\n",
    "    L_w = igl.cotmatrix(v, f)\n",
    "    m = igl.massmatrix(v, f, igl.MASSMATRIX_TYPE_VORONOI)\n",
    "    # Invert the diagonal of the mass matrix\n",
    "    # Minv = m^-1\n",
    "    Minv = sp.diags(1 / m.diagonal())\n",
    "    # Build the operator \n",
    "    # M^-1 * L\n",
    "    L_tan = Minv @ L_w\n",
    "\n",
    "    return L_tan"
   ]
  },
  {
   "cell_type": "code",
   "execution_count": 144,
   "metadata": {
    "scrolled": true
   },
   "outputs": [
    {
     "data": {
      "application/vnd.jupyter.widget-view+json": {
       "model_id": "85d626e8a0ba4db9a6258953511d4613",
       "version_major": 2,
       "version_minor": 0
      },
      "text/plain": [
       "Renderer(camera=PerspectiveCamera(children=(DirectionalLight(color='white', intensity=0.6, position=(-0.018144…"
      ]
     },
     "metadata": {},
     "output_type": "display_data"
    }
   ],
   "source": [
    "# Explicit laplacian\n",
    "ll = 1e-7  # speed factor\n",
    "it = 1000      # iterations\n",
    "\n",
    "# MAIN FORMULA\n",
    "# p_t+1 = (I + ll * L )p_t\n",
    "\n",
    "# Uniform weights\n",
    "# WARNING: work incorrectly, seems like it\n",
    "# crumples the mesh instead of smoothing it\n",
    "#L = uniform_laplacian(f)\n",
    "\n",
    "# Cotangent weights\n",
    "# seem to work correctly\n",
    "L = cotan_laplacian(v, f)\n",
    "\n",
    "# Run forward Euler on a copy vi of v\n",
    "vi = v.copy()\n",
    "\n",
    "for _ in range(it):\n",
    "    #vi += ll * (L_uni @ vi)\n",
    "    vi += ll * (L @ vi)\n",
    "\n",
    "# Plot the result\n",
    "p = mp.plot(vi, f)\n",
    "\n",
    "# Experiment with different speeds and iterations"
   ]
  },
  {
   "cell_type": "markdown",
   "metadata": {},
   "source": [
    "### 3.2 - Implicit Smoothing"
   ]
  },
  {
   "cell_type": "code",
   "execution_count": 145,
   "metadata": {},
   "outputs": [
    {
     "data": {
      "application/vnd.jupyter.widget-view+json": {
       "model_id": "33cc4dfad040444689a633d7d8628417",
       "version_major": 2,
       "version_minor": 0
      },
      "text/plain": [
       "Renderer(camera=PerspectiveCamera(children=(DirectionalLight(color='white', intensity=0.6, position=(-0.020321…"
      ]
     },
     "metadata": {},
     "output_type": "display_data"
    }
   ],
   "source": [
    "# Implicit laplacian\n",
    "\n",
    "ll = 1e-3  # speed factor\n",
    "\n",
    "# MAIN FORMULA\n",
    "# (I - ll * L ) p_t+1 = p_t \n",
    "\n",
    "# Uniform weights\n",
    "# WARNING: works incorrectly, similarly to above\n",
    "#L = uniform_laplacian(f)\n",
    "\n",
    "# Cotangent weights\n",
    "L = cotan_laplacian(v, f)\n",
    "\n",
    "# Build matrix and right hand side for backward Euler\n",
    "\n",
    "# Left hand side\n",
    "# A = I - ll * L\n",
    "A = sp.eye(len(v)) - ll * L\n",
    "A = sp.csr_matrix(A)\n",
    "\n",
    "# Solve the linear system \n",
    "# A * vi = v\n",
    "vi = spsolve(A, v)\n",
    "\n",
    "# Plot the result\n",
    "p = mp.plot(vi, f)\n",
    "\n",
    "# Experiment with different parameters"
   ]
  }
 ],
 "metadata": {
  "kernelspec": {
   "display_name": "myenv",
   "language": "python",
   "name": "python3"
  },
  "language_info": {
   "codemirror_mode": {
    "name": "ipython",
    "version": 3
   },
   "file_extension": ".py",
   "mimetype": "text/x-python",
   "name": "python",
   "nbconvert_exporter": "python",
   "pygments_lexer": "ipython3",
   "version": "3.10.16"
  }
 },
 "nbformat": 4,
 "nbformat_minor": 4
}
