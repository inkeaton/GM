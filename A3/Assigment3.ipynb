{
 "cells": [
  {
   "cell_type": "markdown",
   "metadata": {},
   "source": [
    "# Assigment 3 - DDG\n",
    "## Edoardo Vassallo - S4965918"
   ]
  },
  {
   "cell_type": "code",
   "execution_count": 464,
   "metadata": {},
   "outputs": [],
   "source": [
    "import igl\n",
    "import numpy as np\n",
    "import meshplot as mp\n",
    "from collections import deque\n",
    "from typing import List\n",
    "from scipy.sparse.linalg import spsolve\n",
    "import scipy.sparse as sp"
   ]
  },
  {
   "cell_type": "markdown",
   "metadata": {},
   "source": [
    "## 0 - Load and Display Mesh"
   ]
  },
  {
   "cell_type": "code",
   "execution_count": 465,
   "metadata": {
    "scrolled": true
   },
   "outputs": [
    {
     "data": {
      "application/vnd.jupyter.widget-view+json": {
       "model_id": "c319c1df0a6241c1931fc78113550a6d",
       "version_major": 2,
       "version_minor": 0
      },
      "text/plain": [
       "Renderer(camera=PerspectiveCamera(children=(DirectionalLight(color='white', intensity=0.6, position=(-0.016860…"
      ]
     },
     "metadata": {},
     "output_type": "display_data"
    },
    {
     "data": {
      "text/plain": [
       "<meshplot.Viewer.Viewer at 0x215203f36d0>"
      ]
     },
     "execution_count": 465,
     "metadata": {},
     "output_type": "execute_result"
    }
   ],
   "source": [
    "v, f = igl.read_triangle_mesh(\"data/bunny.off\")\n",
    "mp.plot(v, f, shading={\"wireframe\": True})"
   ]
  },
  {
   "cell_type": "markdown",
   "metadata": {},
   "source": [
    "## 1 - Vertex Normals"
   ]
  },
  {
   "cell_type": "markdown",
   "metadata": {},
   "source": [
    "### 1.1 - Standard Vertex Normals"
   ]
  },
  {
   "cell_type": "code",
   "execution_count": 466,
   "metadata": {},
   "outputs": [
    {
     "data": {
      "application/vnd.jupyter.widget-view+json": {
       "model_id": "cf30b5106a7942e5982a166db82006a3",
       "version_major": 2,
       "version_minor": 0
      },
      "text/plain": [
       "Renderer(camera=PerspectiveCamera(children=(DirectionalLight(color='white', intensity=0.6, position=(-0.016860…"
      ]
     },
     "metadata": {},
     "output_type": "display_data"
    },
    {
     "data": {
      "text/plain": [
       "<meshplot.Viewer.Viewer at 0x2151f732470>"
      ]
     },
     "execution_count": 466,
     "metadata": {},
     "output_type": "execute_result"
    }
   ],
   "source": [
    "#Standard face normal\n",
    "n = np.zeros_like(v)\n",
    "\n",
    "# by default computes as uniform, specified just for clarity\n",
    "n = igl.per_vertex_normals(v, f, weighting=igl.PER_VERTEX_NORMALS_WEIGHTING_TYPE_UNIFORM)\n",
    "\n",
    "# compute normals for each face\n",
    "# accumulate the normal to the entries of n corresponding to the face's vertices\n",
    "# normalize all entries\n",
    "# save for later use\n",
    "\n",
    "mp.plot(v, f, n=n, shading={\"flat\": False})"
   ]
  },
  {
   "cell_type": "markdown",
   "metadata": {},
   "source": [
    "### 1.2 - Area Weighted Normals"
   ]
  },
  {
   "cell_type": "code",
   "execution_count": 467,
   "metadata": {},
   "outputs": [
    {
     "data": {
      "application/vnd.jupyter.widget-view+json": {
       "model_id": "d3bab29eaac1452892650d6902722113",
       "version_major": 2,
       "version_minor": 0
      },
      "text/plain": [
       "Renderer(camera=PerspectiveCamera(children=(DirectionalLight(color='white', intensity=0.6, position=(-0.016860…"
      ]
     },
     "metadata": {},
     "output_type": "display_data"
    },
    {
     "data": {
      "text/plain": [
       "<meshplot.Viewer.Viewer at 0x215203f35b0>"
      ]
     },
     "execution_count": 467,
     "metadata": {},
     "output_type": "execute_result"
    }
   ],
   "source": [
    "#Area-weighted face normal\n",
    "n = np.zeros_like(v)\n",
    "\n",
    "n = igl.per_vertex_normals(v, f, weighting=igl.PER_VERTEX_NORMALS_WEIGHTING_TYPE_AREA)\n",
    "\n",
    "#same as above, but faces' normals shall not be normalized prior to accumulate (cross product includes area)\n",
    "\n",
    "mp.plot(v, f, n=n, shading={\"flat\": False})"
   ]
  },
  {
   "cell_type": "markdown",
   "metadata": {},
   "source": [
    "### 1.3 - Mean Curvature Normals"
   ]
  },
  {
   "cell_type": "code",
   "execution_count": 468,
   "metadata": {},
   "outputs": [],
   "source": [
    "#Compute Laplacian matrix\n",
    "#Compute normal direction from mean curvature formula\n",
    "#If the norm if smaller then eps, substitute with the saved standard normal\n",
    "#Normalize\n",
    "#Adjust directions by using dot product with standard normal\n",
    "\n",
    "\n",
    "def compute_mean_curvature_normals(v, f, eps=1e-6):\n",
    "    # Compute cotangent-weighted Laplacian matrix\n",
    "    L = igl.cotmatrix(v, f)\n",
    "    # Compute mass matrix\n",
    "    M = igl.massmatrix(v, f, igl.MASSMATRIX_TYPE_VORONOI)\n",
    "    # Compute mean curvature normals HN = inv(M) * (L.dot(v)) \n",
    "    # [https://libigl.github.io/libigl-python-bindings/tut-chapter1/#curvature-directions]\n",
    "    minv = sp.diags(1 / M.diagonal())\n",
    "    HN = -minv.dot(L.dot(v))\n",
    "    \n",
    "    # Prepare fallback area-weighted normals\n",
    "    fallback = igl.per_vertex_normals(v, f, weighting=igl.PER_VERTEX_NORMALS_WEIGHTING_TYPE_AREA)\n",
    "    # Normalize and threshold\n",
    "    N = np.zeros_like(HN)\n",
    "    lengths = np.linalg.norm(HN, axis=1)\n",
    "    for i in range(HN.shape[0]):\n",
    "        if lengths[i] > eps:\n",
    "            N[i] = HN[i] / lengths[i]\n",
    "        else:\n",
    "            N[i] = fallback[i]\n",
    "        \n",
    "    # fix signs\n",
    "    sign_flip = np.sign((N * fallback).sum(axis=1))[:, None]\n",
    "    return sign_flip * N"
   ]
  },
  {
   "cell_type": "code",
   "execution_count": 469,
   "metadata": {},
   "outputs": [
    {
     "data": {
      "application/vnd.jupyter.widget-view+json": {
       "model_id": "a27ab48f82834cc6ac68fc35bf724824",
       "version_major": 2,
       "version_minor": 0
      },
      "text/plain": [
       "Renderer(camera=PerspectiveCamera(children=(DirectionalLight(color='white', intensity=0.6, position=(-0.016860…"
      ]
     },
     "metadata": {},
     "output_type": "display_data"
    },
    {
     "data": {
      "text/plain": [
       "<meshplot.Viewer.Viewer at 0x2152035a170>"
      ]
     },
     "execution_count": 469,
     "metadata": {},
     "output_type": "execute_result"
    }
   ],
   "source": [
    "#Mean-curvature normal\n",
    "n = np.zeros_like(v)\n",
    "\n",
    "n = compute_mean_curvature_normals(v, f)\n",
    "mp.plot(v, f, n=n, shading={\"flat\": False})"
   ]
  },
  {
   "cell_type": "markdown",
   "metadata": {},
   "source": [
    "### 1.4 - PCA Normals"
   ]
  },
  {
   "cell_type": "code",
   "execution_count": 470,
   "metadata": {},
   "outputs": [],
   "source": [
    "## AUXILLARY FUNCTION:\n",
    "# Compute k-ring for each vertex\n",
    "def compute_vertex_k_ring(V, F, k = 5):\n",
    "\n",
    "    n = V.shape[0]\n",
    "    # initialize output\n",
    "    nbrs: List[List[int]] = [[] for _ in range(n)]\n",
    "\n",
    "    # Get vertex-triangle adjacency\n",
    "    v2t_flat, v2t_ptr = igl.vertex_triangle_adjacency(F, n)\n",
    "\n",
    "    # for each vertex\n",
    "    for vi in range(n):\n",
    "        # use BFS to find k-ring neighbors\n",
    "        seen = {vi}\n",
    "        queue = deque([(vi, 0)])\n",
    "        \n",
    "        while queue:\n",
    "            vj, d = queue.popleft()\n",
    "            # if we are inside the k-ring,\n",
    "            if d < k:\n",
    "                #  we add new neighbors to the set\n",
    "                s, e = v2t_ptr[vj], v2t_ptr[vj+1]\n",
    "                for t in v2t_flat[s:e]:\n",
    "                    for vk in F[t]:\n",
    "                        if vk not in seen:\n",
    "                            seen.add(vk)\n",
    "                            queue.append((vk, d+1))\n",
    "        nbrs[vi] = list(seen)\n",
    "\n",
    "    return nbrs"
   ]
  },
  {
   "cell_type": "code",
   "execution_count": 471,
   "metadata": {},
   "outputs": [],
   "source": [
    "def compute_pca_normals(v, f, k=16):\n",
    "\n",
    "    N = np.zeros_like(v)\n",
    "    all_neighbours = compute_vertex_k_ring(v, f, k=k)\n",
    "    # for each vertex\n",
    "    for i, vi in enumerate(v):\n",
    "\n",
    "        # get neighbours\n",
    "        nbrs = all_neighbours[i]\n",
    "        if len(nbrs) < 3:\n",
    "            N[i] = np.array([0.0, 0.0, 1.0])\n",
    "            continue\n",
    "        pts = v[nbrs]\n",
    "\n",
    "        # center the points\n",
    "        pts -= pts.mean(axis=0)\n",
    "\n",
    "        # compute PCA\n",
    "        cov = np.cov(pts.T)\n",
    "        eigvals, eigvecs = np.linalg.eigh(cov)\n",
    "        \n",
    "        # smallest eigenvector is the normal\n",
    "        normal = eigvecs[:, np.argmin(eigvals)]\n",
    "        N[i] = normal\n",
    "\n",
    "    # fix signs\n",
    "    stdN = igl.per_vertex_normals(v, f)\n",
    "    sign_flip = np.sign((N * stdN).sum(axis=1))[:, None]\n",
    "    return sign_flip * N"
   ]
  },
  {
   "cell_type": "code",
   "execution_count": 472,
   "metadata": {},
   "outputs": [
    {
     "data": {
      "application/vnd.jupyter.widget-view+json": {
       "model_id": "3c21b881b6a240d3ab9ed9fd99f7db7a",
       "version_major": 2,
       "version_minor": 0
      },
      "text/plain": [
       "Renderer(camera=PerspectiveCamera(children=(DirectionalLight(color='white', intensity=0.6, position=(-0.016860…"
      ]
     },
     "metadata": {},
     "output_type": "display_data"
    },
    {
     "data": {
      "text/plain": [
       "<meshplot.Viewer.Viewer at 0x2151f733700>"
      ]
     },
     "execution_count": 472,
     "metadata": {},
     "output_type": "execute_result"
    }
   ],
   "source": [
    "#PCA normal\n",
    "\n",
    "n = np.zeros_like(v)\n",
    "k = 3\n",
    "\n",
    "n = compute_pca_normals(v, f, k)\n",
    "#Define function to find kNN of a vertex (either by breadth-first expansion, or by exhaustive search)\n",
    "\n",
    "#For each vertex:\n",
    "#   find its kNN's\n",
    "#   build the covariance matrix\n",
    "#   find its eigenvectors by eigen decomposition\n",
    "#   set normal from eigenvector corresponding to minimum eigenvalue\n",
    "#Adjust directions as above\n",
    "\n",
    "mp.plot(v, f, n=n, shading={\"flat\": False})"
   ]
  },
  {
   "cell_type": "markdown",
   "metadata": {},
   "source": [
    "### 1.5 - Quadric Fitting Normals"
   ]
  },
  {
   "cell_type": "code",
   "execution_count": 473,
   "metadata": {},
   "outputs": [],
   "source": [
    "def compute_quadratic_normals(V, F, k=16):\n",
    "    N = np.zeros_like(V)\n",
    "    stdN = igl.per_vertex_normals(V, F)\n",
    "    all_neighbours = compute_vertex_k_ring(V, F, k=k)\n",
    "    # for each vertex\n",
    "    for i, vi in enumerate(V):\n",
    "\n",
    "        # get neighbours\n",
    "        nbrs = all_neighbours[i]\n",
    "\n",
    "        if len(nbrs) < 3:\n",
    "            N[i] = np.array([0.0, 0.0, 1.0])\n",
    "            continue\n",
    "\n",
    "        pts = V[nbrs]\n",
    "        \n",
    "        # center points to mean of the neighbourhood\n",
    "        pts -= pts.mean(axis=0)\n",
    "\n",
    "        # compute PCA\n",
    "        cov = np.cov(pts.T)\n",
    "        eigvals, eigvecs = np.linalg.eigh(cov)\n",
    "        e1, e2 = eigvecs[:, 1], eigvecs[:, 2]\n",
    "        e3 = eigvecs[:, 0] # smallest eigenvector is the height\n",
    "\n",
    "        # compute coordinates (u, v, h) in the local frame\n",
    "        coords = np.dot(pts, np.vstack([e1, e2, e3]).T)\n",
    "        u, v, h = coords[:,0], coords[:,1], coords[:,2]\n",
    "\n",
    "        # we'll use as quadratic function h = a*u^2 + b*u*v + c*v^2 + d*u + e*v + f\n",
    "        A = np.column_stack([u*u, u*v, v*v, u, v, np.ones_like(u)])\n",
    "        # we want to fit the quadratic function to the height h\n",
    "        coeffs, *_ = np.linalg.lstsq(A, h, rcond=None)\n",
    "        # coeffs = [a, b, c, d, e, f]\n",
    "        # we only care about d and e, because they are \n",
    "        # the derivatives in (0, 0), the vertex\n",
    "        _, _, _, fu, fv, _ = coeffs\n",
    "\n",
    "        # compute the tangent plane basis\n",
    "        tu = e1 + fu * e3\n",
    "        tv = e2 + fv * e3\n",
    "        # the normal is the cross product of the tangent basis\n",
    "        N[i] = np.cross(tu, tv)\n",
    "        N[i] /= np.linalg.norm(N[i])\n",
    "\n",
    "    # fix signs\n",
    "    sign_flip = np.sign((N * stdN).sum(axis=1))[:, None]\n",
    "    return sign_flip * N"
   ]
  },
  {
   "cell_type": "code",
   "execution_count": 474,
   "metadata": {},
   "outputs": [
    {
     "data": {
      "application/vnd.jupyter.widget-view+json": {
       "model_id": "b601508f10054333bf4c8182b515540d",
       "version_major": 2,
       "version_minor": 0
      },
      "text/plain": [
       "Renderer(camera=PerspectiveCamera(children=(DirectionalLight(color='white', intensity=0.6, position=(-0.016860…"
      ]
     },
     "metadata": {},
     "output_type": "display_data"
    },
    {
     "data": {
      "text/plain": [
       "<meshplot.Viewer.Viewer at 0x2151f733ac0>"
      ]
     },
     "execution_count": 474,
     "metadata": {},
     "output_type": "execute_result"
    }
   ],
   "source": [
    "#Quadratic fitting normal\n",
    "\n",
    "n = np.zeros_like(v)\n",
    "k = 3\n",
    "\n",
    "\n",
    "n = compute_quadratic_normals(v, f, k)\n",
    "\n",
    "#For each vertex:\n",
    "#   find kNN's and compute PCA as before\n",
    "#   express all neighbors in a local ref framewith origin at the vertex and axes aligned to the PCA\n",
    "#   fit a quadratic polynomial to such data\n",
    "#   compute the components of the Jacobian at the origin and express them in the global coordinate system\n",
    "#   compute the normal as orthogonal to the Jacobian's components\n",
    "#Adjust directions as above\n",
    "\n",
    "mp.plot(v, f, n=n, shading={\"flat\": False})\n"
   ]
  },
  {
   "cell_type": "markdown",
   "metadata": {},
   "source": [
    "## 2 - Curvature"
   ]
  },
  {
   "cell_type": "markdown",
   "metadata": {},
   "source": [
    "### 2.1 - From Gaussian Curvature"
   ]
  },
  {
   "cell_type": "code",
   "execution_count": 475,
   "metadata": {},
   "outputs": [],
   "source": [
    "# compute principal curvatures and directions\n",
    "# using quadric fitting with scaling to simplify\n",
    "def my_principal_curvature(V, F, radius = 5, reg = 1e-8):\n",
    "    # n of vertices \n",
    "    n = V.shape[0]\n",
    "\n",
    "    # prepare outputs\n",
    "    Pd1 = np.zeros_like(V)\n",
    "    Pd2 = np.zeros_like(V)\n",
    "    Pk1 = np.zeros(n)\n",
    "    Pk2 = np.zeros(n)\n",
    "\n",
    "    # compute per-vertex normals\n",
    "    N = igl.per_vertex_normals(V, F)\n",
    "\n",
    "    # compute scale for radius\n",
    "    edge_lengths = np.linalg.norm(V[F[:,1]] - V[F[:,0]], axis=1)\n",
    "    edge_scale = np.mean(edge_lengths)\n",
    "\n",
    "    # compute voronoi areas\n",
    "    # we'll use them as weights for least squares\n",
    "    M = igl.massmatrix(V, F, igl.MASSMATRIX_TYPE_VORONOI)\n",
    "    vertex_area = np.array(M.diagonal()).flatten()\n",
    "\n",
    "    # compute tangent frames for each vertex\n",
    "    T1 = np.zeros_like(V)\n",
    "    T2 = np.zeros_like(V)\n",
    "\n",
    "    for i in range(n):\n",
    "        ni = N[i]\n",
    "        # choose an arbitrary axis that is not aligned with the normal\n",
    "        axis = np.array([1.0, 0.0, 0.0])\n",
    "        if abs(ni @ axis) > 0.9:\n",
    "            axis = np.array([0.0, 1.0, 0.0])\n",
    "        t1 = np.cross(ni, axis)\n",
    "        t1 /= np.linalg.norm(t1)\n",
    "        T1[i] = t1\n",
    "        # compute the second tangent vector based on the two\n",
    "        T2[i] = np.cross(ni, t1)\n",
    "\n",
    "    # compute vertex neighborhoods\n",
    "    nbrs = compute_vertex_k_ring(V, F, k=radius)\n",
    "\n",
    "    # quadric fitting\n",
    "    scale = radius * edge_scale\n",
    "    for i in range(n):\n",
    "        ids = nbrs[i]\n",
    "        if len(ids) < 3:\n",
    "            # not enough neighbors\n",
    "            Pk1[i] = Pk2[i] = 0.0\n",
    "            continue\n",
    "        \n",
    "        # centered vertices\n",
    "        pts = V[ids] - V[i]\n",
    "        # tangent frame\n",
    "        t1, t2, ni = T1[i], T2[i], N[i]\n",
    "\n",
    "        # project into tangent frame\n",
    "        xy = pts @ np.vstack((t1, t2)).T\n",
    "        z  = pts @ ni\n",
    "\n",
    "        # normalize to unit disk\n",
    "        xy /= scale\n",
    "        z /= scale\n",
    "\n",
    "        # matrix for quadric:\n",
    "        # [1/2x^2, xy, 1/2y^2, x, y, 1]\n",
    "        X = np.column_stack((\n",
    "            0.5 * xy[:, 0]**2,\n",
    "            xy[:, 0] * xy[:, 1],\n",
    "            0.5 * xy[:, 1]**2,\n",
    "            xy[:, 0],\n",
    "            xy[:, 1],\n",
    "            np.ones_like(z)\n",
    "        ))\n",
    "\n",
    "        # area weights\n",
    "        W = np.sqrt(vertex_area[ids])\n",
    "        Xw = X * W[:, None]\n",
    "        zw = z * W\n",
    "\n",
    "        # construct linear system (A + reg*I)x = h\n",
    "        A = Xw.T @ Xw\n",
    "        A[:3, :3] += reg * np.eye(3)\n",
    "        h = Xw.T @ zw\n",
    "\n",
    "        # solve it\n",
    "        coeffs = np.linalg.solve(A, h)\n",
    "        a, b, c = coeffs[:3]\n",
    "\n",
    "        # since we scaled, I ~ identity, the shape operator is given by \n",
    "        # only the second fundemental form\n",
    "        S = -np.array([[a, b],\n",
    "                       [b, c]])\n",
    "\n",
    "        # compute eigenvalues and eigenvectors\n",
    "        ev, evec = np.linalg.eigh(S)\n",
    "        idx = np.argsort(ev)\n",
    "\n",
    "        # compute principal curvatures\n",
    "        k1, k2 = ev[idx[0]], ev[idx[1]]\n",
    "        # scale back to original space\n",
    "        Pk1[i], Pk2[i] = k1 / scale, k2 / scale\n",
    "\n",
    "        # compute principal directions\n",
    "        e1, e2 = evec[:, idx[0]], evec[:, idx[1]]\n",
    "        # lift it to 3d\n",
    "        Pd1[i] = e1[0] * t1 + e1[1] * t2  # min\n",
    "        Pd2[i] = e2[0] * t1 + e2[1] * t2  # max\n",
    "\n",
    "    return Pd1, Pd2, Pk1, Pk2\n"
   ]
  },
  {
   "cell_type": "code",
   "execution_count": 476,
   "metadata": {},
   "outputs": [
    {
     "name": "stdout",
     "output_type": "stream",
     "text": [
      "Invalid color array given! Supported are numpy arrays. <class 'int'>\n"
     ]
    },
    {
     "data": {
      "application/vnd.jupyter.widget-view+json": {
       "model_id": "77b89fd549a644bbad4b6a5b33280345",
       "version_major": 2,
       "version_minor": 0
      },
      "text/plain": [
       "Renderer(camera=PerspectiveCamera(children=(DirectionalLight(color='white', intensity=0.6, position=(-0.016860…"
      ]
     },
     "metadata": {},
     "output_type": "display_data"
    },
    {
     "data": {
      "application/vnd.jupyter.widget-view+json": {
       "model_id": "73ca0ef1d9e64cf4b79588b5e273a51d",
       "version_major": 2,
       "version_minor": 0
      },
      "text/plain": [
       "Renderer(camera=PerspectiveCamera(children=(DirectionalLight(color='white', intensity=0.6, position=(-0.016860…"
      ]
     },
     "metadata": {},
     "output_type": "display_data"
    },
    {
     "data": {
      "application/vnd.jupyter.widget-view+json": {
       "model_id": "d13f45eada52433087e49d3363df4fe6",
       "version_major": 2,
       "version_minor": 0
      },
      "text/plain": [
       "Renderer(camera=PerspectiveCamera(children=(DirectionalLight(color='white', intensity=0.6, position=(-0.016860…"
      ]
     },
     "metadata": {},
     "output_type": "display_data"
    },
    {
     "data": {
      "application/vnd.jupyter.widget-view+json": {
       "model_id": "32368e2dce724ab49cef935431284c92",
       "version_major": 2,
       "version_minor": 0
      },
      "text/plain": [
       "Renderer(camera=PerspectiveCamera(children=(DirectionalLight(color='white', intensity=0.6, position=(-0.016860…"
      ]
     },
     "metadata": {},
     "output_type": "display_data"
    },
    {
     "data": {
      "text/plain": [
       "<meshplot.Viewer.Viewer at 0x215203f3250>"
      ]
     },
     "execution_count": 476,
     "metadata": {},
     "output_type": "execute_result"
    }
   ],
   "source": [
    "#Obtain Gaussian curvature k from related igl function \n",
    "K_int = igl.gaussian_curvature(v, f)          # integrated K\n",
    "M      = igl.massmatrix(v, f, igl.MASSMATRIX_TYPE_VORONOI)\n",
    "Minv   = sp.diags(1.0 / M.diagonal())\n",
    "K      = Minv @ K_int   \n",
    "\n",
    "#Compute mean curvature h from Laplacian as above\n",
    "L = igl.cotmatrix(v, f)\n",
    "hn = -Minv.dot(L.dot(v))\n",
    "h = np.linalg.norm(hn, axis=1)\n",
    "\n",
    "#Compute principal curvatures k1 and k2 from k and h\n",
    "sqrt = np.sqrt(np.maximum(h*h - k, 0.0))\n",
    "k1 = h - sqrt\n",
    "k2 = h + sqrt\n",
    "\n",
    "mp.plot(v, f, k, shading={\"flat\": False})\n",
    "mp.plot(v, f, h, shading={\"flat\": False})\n",
    "mp.plot(v, f, k1, shading={\"flat\": False})\n",
    "mp.plot(v, f, k2, shading={\"flat\": False})\n",
    "#Experiment with different color maps"
   ]
  },
  {
   "cell_type": "code",
   "execution_count": 477,
   "metadata": {},
   "outputs": [
    {
     "name": "stdout",
     "output_type": "stream",
     "text": [
      "Mean-curvature reconstruction error: 2.27e-13\n"
     ]
    }
   ],
   "source": [
    "recovered_H = 0.5 * (k1 + k2)\n",
    "err = np.abs(recovered_H - h).max()\n",
    "print(f\"Mean-curvature reconstruction error: {err:.2e}\")"
   ]
  },
  {
   "cell_type": "markdown",
   "metadata": {},
   "source": [
    "### 2.2 - From Principal Curvatures"
   ]
  },
  {
   "cell_type": "code",
   "execution_count": 478,
   "metadata": {},
   "outputs": [
    {
     "data": {
      "application/vnd.jupyter.widget-view+json": {
       "model_id": "a37a398624d943c8871f90c957bf5af2",
       "version_major": 2,
       "version_minor": 0
      },
      "text/plain": [
       "Renderer(camera=PerspectiveCamera(children=(DirectionalLight(color='white', intensity=0.6, position=(-0.016860…"
      ]
     },
     "metadata": {},
     "output_type": "display_data"
    },
    {
     "data": {
      "text/plain": [
       "2"
      ]
     },
     "execution_count": 478,
     "metadata": {},
     "output_type": "execute_result"
    }
   ],
   "source": [
    "#Obtain principal curvatures k1 and k2 and their directions v1 and v2 from related igl function\n",
    "v1, v2, k1, k2 = igl.principal_curvature(v, f)\n",
    "#Compute Gaussian curvature k and mean curvature h from k1 and k2\n",
    "k = k1 * k2\n",
    "h = 0.5*(k1 + k2)\n",
    "\n",
    "# The following plots principal directions on top of a mesh colored with one of the curvatures\n",
    "p = mp.plot(v, f, h, shading={\"wireframe\": False}, return_plot=True)\n",
    "avg = igl.avg_edge_length(v, f) / 2.0\n",
    "p.add_lines(v + v1 * avg, v - v1 * avg, shading={\"line_color\": \"red\"})\n",
    "p.add_lines(v + v2 * avg, v - v2 * avg, shading={\"line_color\": \"green\"})\n",
    "#Experiment with colormaps for k2, k and h, too"
   ]
  },
  {
   "cell_type": "code",
   "execution_count": 405,
   "metadata": {},
   "outputs": [],
   "source": []
  },
  {
   "cell_type": "code",
   "execution_count": 479,
   "metadata": {},
   "outputs": [
    {
     "data": {
      "application/vnd.jupyter.widget-view+json": {
       "model_id": "4d97c8bebb284cc7ace562672305501a",
       "version_major": 2,
       "version_minor": 0
      },
      "text/plain": [
       "Renderer(camera=PerspectiveCamera(children=(DirectionalLight(color='white', intensity=0.6, position=(-0.016860…"
      ]
     },
     "metadata": {},
     "output_type": "display_data"
    },
    {
     "data": {
      "text/plain": [
       "2"
      ]
     },
     "execution_count": 479,
     "metadata": {},
     "output_type": "execute_result"
    }
   ],
   "source": [
    "#Obtain principal curvatures k1 and k2 and their directions v1 and v2 from related igl function\n",
    "v1, v2, k1, k2 = principal_curvature_py(v, f)\n",
    "#Compute Gaussian curvature k and mean curvature h from k1 and k2\n",
    "k = k1 * k2\n",
    "h = (k1 + k2) / 2.0\n",
    "\n",
    "# The following plots principal directions on top of a mesh colored with one of the curvatures\n",
    "p = mp.plot(v, f, k1, shading={\"wireframe\": False}, return_plot=True)\n",
    "avg = igl.avg_edge_length(v, f) / 2.0\n",
    "p.add_lines(v + v1 * avg, v - v1 * avg, shading={\"line_color\": \"red\"})\n",
    "p.add_lines(v + v2 * avg, v - v2 * avg, shading={\"line_color\": \"green\"})\n",
    "#Experiment with colormaps for k2, k and h, too"
   ]
  },
  {
   "cell_type": "markdown",
   "metadata": {},
   "source": [
    "## 3 - Smoothing with the Laplacian"
   ]
  },
  {
   "cell_type": "markdown",
   "metadata": {},
   "source": [
    "### 3.1 Explicit Smoothing"
   ]
  },
  {
   "cell_type": "code",
   "execution_count": 480,
   "metadata": {},
   "outputs": [],
   "source": [
    "## AUXILLARY FUNCTION\n",
    "\n",
    "# compute uniform Laplacian matrix\n",
    "def normalized_uniform_laplacian(f):\n",
    "    # build unweighted adjacency A\n",
    "    A = igl.adjacency_matrix(f)\n",
    "\n",
    "    # degree per vertex\n",
    "    deg = np.array(A.sum(axis=1)).ravel()\n",
    "    # Build W where W[i,j] = 1/deg(i) if A[i,j]==1\n",
    "    inv_deg = 1.0 / deg\n",
    "    D_inv = sp.diags(inv_deg)  \n",
    "    # each row i of A scaled by 1/deg(i)\n",
    "    W = D_inv @ A                                  \n",
    "    # Now set diagonal entries to -1\n",
    "    n = A.shape[0]\n",
    "    L_uni = W - sp.eye(n)\n",
    "\n",
    "    return L_uni"
   ]
  },
  {
   "cell_type": "code",
   "execution_count": 481,
   "metadata": {
    "scrolled": true
   },
   "outputs": [
    {
     "data": {
      "application/vnd.jupyter.widget-view+json": {
       "model_id": "775678dccb45494d9ade5bd865304302",
       "version_major": 2,
       "version_minor": 0
      },
      "text/plain": [
       "Renderer(camera=PerspectiveCamera(children=(DirectionalLight(color='white', intensity=0.6, position=(-0.020215…"
      ]
     },
     "metadata": {},
     "output_type": "display_data"
    }
   ],
   "source": [
    "# Explicit laplacian\n",
    "ll = 0.1  # speed factor\n",
    "it = 1000      # iterations\n",
    "\n",
    "# MAIN FORMULA\n",
    "# p_t+1 = (I + ll * m^-1 x L )p_t\n",
    "\n",
    "# Uniform weights\n",
    "L_uni = normalized_uniform_laplacian(f)\n",
    "\n",
    "# Cotangent weights\n",
    "# Compute stiffness matrix (cotmatrix) and mass matrix\n",
    "L = igl.cotmatrix(v, f)\n",
    "m = igl.massmatrix(v, f, igl.MASSMATRIX_TYPE_VORONOI)\n",
    "\n",
    "# Build matrix for forward Euler\n",
    "\n",
    "# Invert the diagonal of the mass matrix\n",
    "# Minv = m^-1\n",
    "Minv = sp.diags(1 / m.diagonal())\n",
    "\n",
    "# Build the operator \n",
    "# M^-1 * L\n",
    "L_tan = Minv @ L\n",
    "\n",
    "# Run forward Euler on a copy vi of v\n",
    "vi = v.copy()\n",
    "\n",
    "# Run forward Euler iterations\n",
    "# WARN: choose between L_uni and L_tan\n",
    "for _ in range(it):\n",
    "    vi += ll * (L_uni @ vi)\n",
    "    #vi += ll * (L_tan @ vi)\n",
    "\n",
    "# Plot the result\n",
    "p = mp.plot(vi, f)\n",
    "\n",
    "# Experiment with different speeds and iterations"
   ]
  },
  {
   "cell_type": "markdown",
   "metadata": {},
   "source": [
    "### 3.2 - Implicit Smoothing"
   ]
  },
  {
   "cell_type": "code",
   "execution_count": 482,
   "metadata": {},
   "outputs": [
    {
     "data": {
      "application/vnd.jupyter.widget-view+json": {
       "model_id": "e42288c827b94f0fb832d0f9c9776b71",
       "version_major": 2,
       "version_minor": 0
      },
      "text/plain": [
       "Renderer(camera=PerspectiveCamera(children=(DirectionalLight(color='white', intensity=0.6, position=(-0.017820…"
      ]
     },
     "metadata": {},
     "output_type": "display_data"
    }
   ],
   "source": [
    "# Implicit laplacian\n",
    "\n",
    "ll = 0.0001  # speed factor\n",
    "\n",
    "# MAIN FORMULA\n",
    "# (m - ll * L ) p_t+1 = m * p_t \n",
    "\n",
    "# Compute stiffness matrix (cotmatrix) and mass matrix\n",
    "L = igl.cotmatrix(v, f)\n",
    "m = igl.massmatrix(v, f, igl.MASSMATRIX_TYPE_VORONOI)\n",
    "\n",
    "# Build matrix and right hand side for backward Euler\n",
    "\n",
    "# Left hand side\n",
    "# A = M - ll * L\n",
    "A = m - ll * L\n",
    "\n",
    "# Right-hand side: \n",
    "# B = M * v\n",
    "B = m @ v\n",
    "\n",
    "# Solve the linear system \n",
    "# A * vi = B\n",
    "vi = spsolve(A, B)\n",
    "\n",
    "# Plot the result\n",
    "p = mp.plot(vi, f)\n",
    "\n",
    "# Experiment with different parameters"
   ]
  }
 ],
 "metadata": {
  "kernelspec": {
   "display_name": "myenv",
   "language": "python",
   "name": "python3"
  },
  "language_info": {
   "codemirror_mode": {
    "name": "ipython",
    "version": 3
   },
   "file_extension": ".py",
   "mimetype": "text/x-python",
   "name": "python",
   "nbconvert_exporter": "python",
   "pygments_lexer": "ipython3",
   "version": "3.10.16"
  }
 },
 "nbformat": 4,
 "nbformat_minor": 4
}
