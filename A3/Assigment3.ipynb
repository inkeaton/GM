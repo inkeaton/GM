{
 "cells": [
  {
   "cell_type": "markdown",
   "metadata": {},
   "source": [
    "# Assigment 3"
   ]
  },
  {
   "cell_type": "code",
   "execution_count": 1,
   "metadata": {},
   "outputs": [],
   "source": [
    "import igl\n",
    "import numpy as np\n",
    "import meshplot as mp"
   ]
  },
  {
   "cell_type": "code",
   "execution_count": 2,
   "metadata": {
    "scrolled": true
   },
   "outputs": [
    {
     "data": {
      "application/vnd.jupyter.widget-view+json": {
       "model_id": "46880648e71041959bc68a1ccb1ce575",
       "version_major": 2,
       "version_minor": 0
      },
      "text/plain": [
       "Renderer(camera=PerspectiveCamera(children=(DirectionalLight(color='white', intensity=0.6, position=(-0.016860…"
      ]
     },
     "metadata": {},
     "output_type": "display_data"
    },
    {
     "data": {
      "text/plain": [
       "<meshplot.Viewer.Viewer at 0x252ab0c0b80>"
      ]
     },
     "execution_count": 2,
     "metadata": {},
     "output_type": "execute_result"
    }
   ],
   "source": [
    "v, f = igl.read_triangle_mesh(\"data/bunny.off\")\n",
    "mp.plot(v, f, shading={\"wireframe\": True})"
   ]
  },
  {
   "cell_type": "markdown",
   "metadata": {},
   "source": [
    "# Vertex normal"
   ]
  },
  {
   "cell_type": "code",
   "execution_count": 3,
   "metadata": {},
   "outputs": [
    {
     "data": {
      "application/vnd.jupyter.widget-view+json": {
       "model_id": "487ebd47c11e4849a1ef47a5e8c1b26b",
       "version_major": 2,
       "version_minor": 0
      },
      "text/plain": [
       "Renderer(camera=PerspectiveCamera(children=(DirectionalLight(color='white', intensity=0.6, position=(-0.016860…"
      ]
     },
     "metadata": {},
     "output_type": "display_data"
    },
    {
     "data": {
      "text/plain": [
       "<meshplot.Viewer.Viewer at 0x252ac07ddb0>"
      ]
     },
     "execution_count": 3,
     "metadata": {},
     "output_type": "execute_result"
    }
   ],
   "source": [
    "#Standard face normal\n",
    "n = np.zeros_like(v)\n",
    "\n",
    "# compute normals for each face\n",
    "# accumulate the normal to the entries of n corresponding to the face's vertices\n",
    "# normalize all entries\n",
    "# save for later use\n",
    "\n",
    "mp.plot(v, f, n=n, shading={\"flat\": False})"
   ]
  },
  {
   "cell_type": "code",
   "execution_count": 4,
   "metadata": {},
   "outputs": [
    {
     "data": {
      "application/vnd.jupyter.widget-view+json": {
       "model_id": "36d5500494c74583a16385d7a34962e0",
       "version_major": 2,
       "version_minor": 0
      },
      "text/plain": [
       "Renderer(camera=PerspectiveCamera(children=(DirectionalLight(color='white', intensity=0.6, position=(-0.016860…"
      ]
     },
     "metadata": {},
     "output_type": "display_data"
    },
    {
     "data": {
      "text/plain": [
       "<meshplot.Viewer.Viewer at 0x252a9893040>"
      ]
     },
     "execution_count": 4,
     "metadata": {},
     "output_type": "execute_result"
    }
   ],
   "source": [
    "#Area-weighted face normal\n",
    "n = np.zeros_like(v)\n",
    "\n",
    "#same as above, but faces' normals shall not be normalized prior to accumulate (cross product includes area)\n",
    "\n",
    "mp.plot(v, f, n=n, shading={\"flat\": False})"
   ]
  },
  {
   "cell_type": "code",
   "execution_count": 5,
   "metadata": {},
   "outputs": [
    {
     "data": {
      "application/vnd.jupyter.widget-view+json": {
       "model_id": "b8ae2ae1a55548e9868b4d403476ae27",
       "version_major": 2,
       "version_minor": 0
      },
      "text/plain": [
       "Renderer(camera=PerspectiveCamera(children=(DirectionalLight(color='white', intensity=0.6, position=(-0.016860…"
      ]
     },
     "metadata": {},
     "output_type": "display_data"
    },
    {
     "data": {
      "text/plain": [
       "<meshplot.Viewer.Viewer at 0x252ac07ebf0>"
      ]
     },
     "execution_count": 5,
     "metadata": {},
     "output_type": "execute_result"
    }
   ],
   "source": [
    "#Mean-curvature normal\n",
    "n = np.zeros_like(v)\n",
    "\n",
    "#Compute Laplacian matrix\n",
    "#Compute normal direction from mean curvature formula\n",
    "#If the norm if smaller then eps, substitute with the saved standard normal\n",
    "#Normalize\n",
    "#Adjust directions by using dot product with standard normal\n",
    "\n",
    "mp.plot(v, f, n=n, shading={\"flat\": False})"
   ]
  },
  {
   "cell_type": "code",
   "execution_count": 6,
   "metadata": {},
   "outputs": [
    {
     "data": {
      "application/vnd.jupyter.widget-view+json": {
       "model_id": "5794c8436d2249d8982a73fc4d136286",
       "version_major": 2,
       "version_minor": 0
      },
      "text/plain": [
       "Renderer(camera=PerspectiveCamera(children=(DirectionalLight(color='white', intensity=0.6, position=(-0.016860…"
      ]
     },
     "metadata": {},
     "output_type": "display_data"
    },
    {
     "data": {
      "text/plain": [
       "<meshplot.Viewer.Viewer at 0x252ac105450>"
      ]
     },
     "execution_count": 6,
     "metadata": {},
     "output_type": "execute_result"
    }
   ],
   "source": [
    "#PCA normal\n",
    "\n",
    "n = np.zeros_like(v)\n",
    "k = 10\n",
    "\n",
    "#Define function to find kNN of a vertex (either by breadth-first expansion, or by exhaustive search)\n",
    "\n",
    "#For each vertex:\n",
    "#   find its kNN's\n",
    "#   build the covariance matrix\n",
    "#   find its eigenvectors by eigen decomposition\n",
    "#   set normal from eigenvector corresponding to minimum eigenvalue\n",
    "#Adjust directions as above\n",
    "\n",
    "mp.plot(v, f, n=n, shading={\"flat\": False})"
   ]
  },
  {
   "cell_type": "code",
   "execution_count": 7,
   "metadata": {},
   "outputs": [
    {
     "data": {
      "application/vnd.jupyter.widget-view+json": {
       "model_id": "a162f7bd831d4e4389b3c184e1e69dfe",
       "version_major": 2,
       "version_minor": 0
      },
      "text/plain": [
       "Renderer(camera=PerspectiveCamera(children=(DirectionalLight(color='white', intensity=0.6, position=(-0.016860…"
      ]
     },
     "metadata": {},
     "output_type": "display_data"
    },
    {
     "data": {
      "text/plain": [
       "<meshplot.Viewer.Viewer at 0x252ac106650>"
      ]
     },
     "execution_count": 7,
     "metadata": {},
     "output_type": "execute_result"
    }
   ],
   "source": [
    "#Quadratic fitting normal\n",
    "\n",
    "n = np.zeros_like(v)\n",
    "k = 10\n",
    "\n",
    "#For each vertex:\n",
    "#   find kNN's and compute PCA as before\n",
    "#   express all neighbors in a local ref framewith origin at the vertex and axes aligned to the PCA\n",
    "#   fit a quadratic polynomial to such data\n",
    "#   compute the components of the Jacobian at the origin and express them in the global coordinate system\n",
    "#   compute the normal as orthogonal to the Jacobian's components\n",
    "#Adjust directions as above\n",
    "\n",
    "mp.plot(v, f, n=n, shading={\"flat\": False})\n"
   ]
  },
  {
   "cell_type": "markdown",
   "metadata": {},
   "source": [
    "# Curvature"
   ]
  },
  {
   "cell_type": "code",
   "execution_count": 38,
   "metadata": {},
   "outputs": [
    {
     "data": {
      "application/vnd.jupyter.widget-view+json": {
       "model_id": "ed0092c3b7824f16b3577d33724b7488",
       "version_major": 2,
       "version_minor": 0
      },
      "text/plain": [
       "Renderer(camera=PerspectiveCamera(children=(DirectionalLight(color='white', intensity=0.6, position=(-0.016860…"
      ]
     },
     "metadata": {},
     "output_type": "display_data"
    },
    {
     "data": {
      "text/plain": [
       "<meshplot.Viewer.Viewer at 0x7f9b14c1ec70>"
      ]
     },
     "execution_count": 38,
     "metadata": {},
     "output_type": "execute_result"
    }
   ],
   "source": [
    "#Obtain Gaussian curvature k from related igl function \n",
    "#Compute mean curvature h from Laplacian as above\n",
    "#Compute principal curvatures k1 and k2 from k and h\n",
    "mp.plot(v, f, k)\n",
    "mp.plot(v, f, h)\n",
    "mp.plot(v, f, k1)\n",
    "mp.plot(v, f, k2)\n",
    "#Experiment with different color maps"
   ]
  },
  {
   "cell_type": "code",
   "execution_count": 39,
   "metadata": {},
   "outputs": [
    {
     "data": {
      "application/vnd.jupyter.widget-view+json": {
       "model_id": "66287745ad26475584fd907705e43b39",
       "version_major": 2,
       "version_minor": 0
      },
      "text/plain": [
       "Renderer(camera=PerspectiveCamera(children=(DirectionalLight(color='white', intensity=0.6, position=(-0.016860…"
      ]
     },
     "metadata": {},
     "output_type": "display_data"
    },
    {
     "data": {
      "text/plain": [
       "2"
      ]
     },
     "execution_count": 39,
     "metadata": {},
     "output_type": "execute_result"
    }
   ],
   "source": [
    "#Obtain principal curvatures k1 and k2 and their directions v1 and v2 from related igl function\n",
    "#Compute Gaussian curvature k and mean curvature h from k1 and k2\n",
    "\n",
    "# The following plots principal directions on top of a mesh colored with one of the curvatures\n",
    "p = mp.plot(v, f, k1, shading={\"wireframe\": False}, return_plot=True)\n",
    "avg = igl.avg_edge_length(v, f) / 2.0\n",
    "p.add_lines(v + v1 * avg, v - v1 * avg, shading={\"line_color\": \"red\"})\n",
    "p.add_lines(v + v2 * avg, v - v2 * avg, shading={\"line_color\": \"green\"})\n",
    "#Experiment with colormaps for k2, k and h, too"
   ]
  },
  {
   "cell_type": "markdown",
   "metadata": {},
   "source": [
    "# Smoothing with the Laplacian"
   ]
  },
  {
   "cell_type": "code",
   "execution_count": 40,
   "metadata": {},
   "outputs": [],
   "source": [
    "from scipy.sparse.linalg import spsolve\n",
    "import scipy.sparse as sp"
   ]
  },
  {
   "cell_type": "code",
   "execution_count": 47,
   "metadata": {
    "scrolled": true
   },
   "outputs": [],
   "source": [
    "# Explicit laplacian\n",
    "ll = 0.0000001  # speed factor\n",
    "it = 1000       # iterations\n",
    "\n",
    "# Compute stiffness matrix (cotmatrix) and mass matrix\n",
    "# Build matrix for forward Euler\n",
    "# Run forward Euler on a copy vi of v\n",
    "\n",
    "p = mp.plot(vi, f)\n",
    "\n",
    "# Experiment with different speeds and iterations"
   ]
  },
  {
   "cell_type": "code",
   "execution_count": 51,
   "metadata": {},
   "outputs": [
    {
     "data": {
      "application/vnd.jupyter.widget-view+json": {
       "model_id": "228c2295a7294e8980632fb44d1e8313",
       "version_major": 2,
       "version_minor": 0
      },
      "text/plain": [
       "Renderer(camera=PerspectiveCamera(children=(DirectionalLight(color='white', intensity=0.6, position=(-0.020334…"
      ]
     },
     "metadata": {},
     "output_type": "display_data"
    }
   ],
   "source": [
    "# Implicit laplacian\n",
    "\n",
    "# Compute stiffness matrix (cotmatrix) and mass matrix\n",
    "# Build matrix and right hand side for backward Euler\n",
    "# Solve by scipy solver and save result in vi\n",
    "\n",
    "p = mp.plot(vi, f)\n",
    "\n",
    "# Experiment with different parameters"
   ]
  }
 ],
 "metadata": {
  "kernelspec": {
   "display_name": "myenv",
   "language": "python",
   "name": "python3"
  },
  "language_info": {
   "codemirror_mode": {
    "name": "ipython",
    "version": 3
   },
   "file_extension": ".py",
   "mimetype": "text/x-python",
   "name": "python",
   "nbconvert_exporter": "python",
   "pygments_lexer": "ipython3",
   "version": "3.10.16"
  }
 },
 "nbformat": 4,
 "nbformat_minor": 4
}
