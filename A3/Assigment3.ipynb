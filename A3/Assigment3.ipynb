{
 "cells": [
  {
   "cell_type": "markdown",
   "metadata": {},
   "source": [
    "# Assigment 3"
   ]
  },
  {
   "cell_type": "code",
   "execution_count": 1,
   "metadata": {},
   "outputs": [],
   "source": [
    "import igl\n",
    "import numpy as np\n",
    "import meshplot as mp"
   ]
  },
  {
   "cell_type": "code",
   "execution_count": 2,
   "metadata": {
    "scrolled": true
   },
   "outputs": [
    {
     "data": {
      "application/vnd.jupyter.widget-view+json": {
       "model_id": "a49ce944d881475cb553e397bc267df6",
       "version_major": 2,
       "version_minor": 0
      },
      "text/plain": [
       "Renderer(camera=PerspectiveCamera(children=(DirectionalLight(color='white', intensity=0.6, position=(-0.016860…"
      ]
     },
     "metadata": {},
     "output_type": "display_data"
    },
    {
     "data": {
      "text/plain": [
       "<meshplot.Viewer.Viewer at 0x2365a8a8b80>"
      ]
     },
     "execution_count": 2,
     "metadata": {},
     "output_type": "execute_result"
    }
   ],
   "source": [
    "v, f = igl.read_triangle_mesh(\"data/bunny.off\")\n",
    "mp.plot(v, f, shading={\"wireframe\": True})"
   ]
  },
  {
   "cell_type": "markdown",
   "metadata": {},
   "source": [
    "# Vertex normal"
   ]
  },
  {
   "cell_type": "code",
   "execution_count": 3,
   "metadata": {},
   "outputs": [
    {
     "data": {
      "application/vnd.jupyter.widget-view+json": {
       "model_id": "f6b02b4b7c4d43bbb5c8a487b0964f25",
       "version_major": 2,
       "version_minor": 0
      },
      "text/plain": [
       "Renderer(camera=PerspectiveCamera(children=(DirectionalLight(color='white', intensity=0.6, position=(-0.016860…"
      ]
     },
     "metadata": {},
     "output_type": "display_data"
    },
    {
     "data": {
      "text/plain": [
       "<meshplot.Viewer.Viewer at 0x2365b84ebf0>"
      ]
     },
     "execution_count": 3,
     "metadata": {},
     "output_type": "execute_result"
    }
   ],
   "source": [
    "#Standard face normal\n",
    "n = np.zeros_like(v)\n",
    "\n",
    "# by default computes as uniform, specified just for clarity\n",
    "n = igl.per_vertex_normals(v, f, weighting=igl.PER_VERTEX_NORMALS_WEIGHTING_TYPE_UNIFORM)\n",
    "\n",
    "# compute normals for each face\n",
    "# accumulate the normal to the entries of n corresponding to the face's vertices\n",
    "# normalize all entries\n",
    "# save for later use\n",
    "\n",
    "mp.plot(v, f, n=n, shading={\"flat\": False})"
   ]
  },
  {
   "cell_type": "code",
   "execution_count": 4,
   "metadata": {},
   "outputs": [
    {
     "data": {
      "application/vnd.jupyter.widget-view+json": {
       "model_id": "0aebe68814d24038856884b6547d5b8c",
       "version_major": 2,
       "version_minor": 0
      },
      "text/plain": [
       "Renderer(camera=PerspectiveCamera(children=(DirectionalLight(color='white', intensity=0.6, position=(-0.016860…"
      ]
     },
     "metadata": {},
     "output_type": "display_data"
    },
    {
     "data": {
      "text/plain": [
       "<meshplot.Viewer.Viewer at 0x23659063a90>"
      ]
     },
     "execution_count": 4,
     "metadata": {},
     "output_type": "execute_result"
    }
   ],
   "source": [
    "#Area-weighted face normal\n",
    "n = np.zeros_like(v)\n",
    "\n",
    "n = igl.per_vertex_normals(v, f, weighting=igl.PER_VERTEX_NORMALS_WEIGHTING_TYPE_AREA)\n",
    "\n",
    "#same as above, but faces' normals shall not be normalized prior to accumulate (cross product includes area)\n",
    "\n",
    "mp.plot(v, f, n=n, shading={\"flat\": False})"
   ]
  },
  {
   "cell_type": "code",
   "execution_count": 18,
   "metadata": {},
   "outputs": [],
   "source": [
    "# TBD: find right threshold\n",
    "\n",
    "#Compute Laplacian matrix\n",
    "#Compute normal direction from mean curvature formula\n",
    "#If the norm if smaller then eps, substitute with the saved standard normal\n",
    "#Normalize\n",
    "#Adjust directions by using dot product with standard normal\n",
    "\n",
    "\n",
    "def compute_mean_curvature_normals(v, f, eps=1e-6):\n",
    "    # Compute cotangent-weighted Laplacian matrix\n",
    "    L = igl.cotmatrix(v, f)\n",
    "    # Compute mass matrix\n",
    "    M = igl.massmatrix(v, f, igl.MASSMATRIX_TYPE_VORONOI)\n",
    "    # Compute mean curvature normals HN = inv(M) * (L.dot(v)) \n",
    "    # [https://libigl.github.io/tutorial/#curvature-directions]\n",
    "    HN = -np.linalg.solve(M.toarray(), L.dot(v))  # shape (n,3)\n",
    "    \n",
    "    # Prepare fallback area-weighted normals\n",
    "    fallback = igl.per_vertex_normals(v, f, weighting=igl.PER_VERTEX_NORMALS_WEIGHTING_TYPE_AREA)\n",
    "    # Normalize and threshold\n",
    "    N = np.zeros_like(HN)\n",
    "    lengths = np.linalg.norm(HN, axis=1)\n",
    "    for i in range(HN.shape[0]):\n",
    "        if lengths[i] > eps:\n",
    "            N[i] = HN[i] / lengths[i]\n",
    "        else:\n",
    "            N[i] = fallback[i]\n",
    "        \n",
    "    # fix signs\n",
    "    sign_flip = np.sign((N * fallback).sum(axis=1))[:, None]\n",
    "    return sign_flip * N"
   ]
  },
  {
   "cell_type": "code",
   "execution_count": 21,
   "metadata": {},
   "outputs": [
    {
     "data": {
      "application/vnd.jupyter.widget-view+json": {
       "model_id": "543e8f7253e542f288bbcf821677d85b",
       "version_major": 2,
       "version_minor": 0
      },
      "text/plain": [
       "Renderer(camera=PerspectiveCamera(children=(DirectionalLight(color='white', intensity=0.6, position=(-0.016860…"
      ]
     },
     "metadata": {},
     "output_type": "display_data"
    },
    {
     "data": {
      "text/plain": [
       "<meshplot.Viewer.Viewer at 0x2365b94a6e0>"
      ]
     },
     "execution_count": 21,
     "metadata": {},
     "output_type": "execute_result"
    }
   ],
   "source": [
    "#Mean-curvature normal\n",
    "n = np.zeros_like(v)\n",
    "\n",
    "n = compute_mean_curvature_normals(v, f)\n",
    "mp.plot(v, f, n=n, shading={\"flat\": False})"
   ]
  },
  {
   "cell_type": "code",
   "execution_count": 24,
   "metadata": {},
   "outputs": [],
   "source": [
    "from collections import deque\n",
    "\n",
    "# This class is used to create an adjacency list for the vertices of a mesh\n",
    "# we use it to find neighbours for PCA and quadratic fitting\n",
    "class VertexAdjacencyList:\n",
    "    def __init__(self, V, F):\n",
    "        self.V = V\n",
    "        self.F = F\n",
    "        self.adjacency = [[] for _ in range(len(V))]\n",
    "        self._build_adjacency()\n",
    "\n",
    "    def _build_adjacency(self):\n",
    "        for face in self.F:\n",
    "            for i in range(3):\n",
    "                v0, v1 = face[i], face[(i + 1) % 3]\n",
    "                self.adjacency[v0].append(v1)\n",
    "                self.adjacency[v1].append(v0)\n",
    "\n",
    "    # Akin to k-nearest neighbors, but in the context of the mesh\n",
    "    def k_nn(self, start_idx, k):\n",
    "        visited = set([start_idx])\n",
    "        queue = deque([start_idx])\n",
    "        neighbors = []\n",
    "        \n",
    "        while queue and len(neighbors) < k:\n",
    "            current = queue.popleft()\n",
    "            for nbr in self.adjacency[current]:\n",
    "                if nbr not in visited:\n",
    "                    visited.add(nbr)\n",
    "                    neighbors.append(nbr)\n",
    "                    queue.append(nbr)\n",
    "                    if len(neighbors) >= k:\n",
    "                        break\n",
    "        return neighbors\n",
    "    \n",
    "    # Akin to a k-ring, but in the context of the mesh\n",
    "    def k_ring(self, start_idx, k):\n",
    "        if k < 1:\n",
    "            return set()\n",
    "\n",
    "        visited = {start_idx}\n",
    "        queue = deque([(start_idx, 0)])\n",
    "        result = set()\n",
    "\n",
    "        while queue:\n",
    "            current, depth = queue.popleft()\n",
    "            # Stop exploring deeper once we hit ring k\n",
    "            if depth == k:\n",
    "                continue\n",
    "\n",
    "            for nbr in self.adjacency[current]:\n",
    "                if nbr not in visited:\n",
    "                    visited.add(nbr)\n",
    "                    result.add(nbr)\n",
    "                    queue.append((nbr, depth + 1))\n",
    "\n",
    "        return list(result)"
   ]
  },
  {
   "cell_type": "code",
   "execution_count": 25,
   "metadata": {},
   "outputs": [],
   "source": [
    "# TBD: analyze and refactor if needed, seems fine right now\n",
    "\n",
    "def compute_pca_normals(v, f, k=16, adj=None):\n",
    "    if adj is None:\n",
    "        adj = VertexAdjacencyList(v, f)\n",
    "\n",
    "    N = np.zeros_like(v)\n",
    "    # for each vertex\n",
    "    for i, vi in enumerate(v):\n",
    "\n",
    "        # get neighbours\n",
    "        neighbors = adj.k_ring(i, k)\n",
    "        if len(neighbors) < 3:\n",
    "            N[i] = np.array([0.0, 0.0, 1.0])\n",
    "            continue\n",
    "        pts = v[neighbors]\n",
    "\n",
    "        # center the points\n",
    "        pts -= pts.mean(axis=0)\n",
    "\n",
    "        # compute PCA\n",
    "        cov = np.cov(pts.T)\n",
    "        eigvals, eigvecs = np.linalg.eigh(cov)\n",
    "        \n",
    "        # smallest eighenvector is the normal\n",
    "        normal = eigvecs[:, np.argmin(eigvals)]\n",
    "        N[i] = normal\n",
    "\n",
    "    # fix signs\n",
    "    stdN = igl.per_vertex_normals(v, f)\n",
    "    sign_flip = np.sign((N * stdN).sum(axis=1))[:, None]\n",
    "    return sign_flip * N"
   ]
  },
  {
   "cell_type": "code",
   "execution_count": 27,
   "metadata": {},
   "outputs": [
    {
     "data": {
      "application/vnd.jupyter.widget-view+json": {
       "model_id": "c38f4afff6264d3aa417c6b56c843eea",
       "version_major": 2,
       "version_minor": 0
      },
      "text/plain": [
       "Renderer(camera=PerspectiveCamera(children=(DirectionalLight(color='white', intensity=0.6, position=(-0.016860…"
      ]
     },
     "metadata": {},
     "output_type": "display_data"
    },
    {
     "data": {
      "text/plain": [
       "<meshplot.Viewer.Viewer at 0x2365b94b6a0>"
      ]
     },
     "execution_count": 27,
     "metadata": {},
     "output_type": "execute_result"
    }
   ],
   "source": [
    "#PCA normal\n",
    "\n",
    "n = np.zeros_like(v)\n",
    "k = 3\n",
    "\n",
    "n = compute_pca_normals(v, f, k)\n",
    "#Define function to find kNN of a vertex (either by breadth-first expansion, or by exhaustive search)\n",
    "\n",
    "#For each vertex:\n",
    "#   find its kNN's\n",
    "#   build the covariance matrix\n",
    "#   find its eigenvectors by eigen decomposition\n",
    "#   set normal from eigenvector corresponding to minimum eigenvalue\n",
    "#Adjust directions as above\n",
    "\n",
    "mp.plot(v, f, n=n, shading={\"flat\": False})"
   ]
  },
  {
   "cell_type": "code",
   "execution_count": 28,
   "metadata": {},
   "outputs": [],
   "source": [
    "# TBD: analyze and refactor if needed, seems fine right now\n",
    "\n",
    "def compute_quadratic_normals(V, F, k=16, adj=None):\n",
    "    if adj is None:\n",
    "        adj = VertexAdjacencyList(V, F)\n",
    "\n",
    "    N = np.zeros_like(V)\n",
    "    stdN = igl.per_vertex_normals(V, F)\n",
    "\n",
    "    # for each vertex\n",
    "    for i, vi in enumerate(V):\n",
    "        \n",
    "        # get k neighbors\n",
    "        neighbors = adj.k_ring(i, k)\n",
    "        if len(neighbors) < 3:\n",
    "            N[i] = np.array([0.0, 0.0, 1.0])\n",
    "            continue\n",
    "\n",
    "        pts = V[neighbors]\n",
    "        \n",
    "        # center points to mean of the neighbourhood\n",
    "        pts -= pts.mean(axis=0)\n",
    "\n",
    "        # compute PCA\n",
    "        cov = np.cov(pts.T)\n",
    "        eigvals, eigvecs = np.linalg.eigh(cov)\n",
    "        e1, e2 = eigvecs[:, 1], eigvecs[:, 2]\n",
    "        e3 = eigvecs[:, 0] # smallest eigenvector is the height\n",
    "\n",
    "        # compute coordinates (u, v, h) in the local frame\n",
    "        coords = np.dot(pts, np.vstack([e1, e2, e3]).T)\n",
    "        u, v, h = coords[:,0], coords[:,1], coords[:,2]\n",
    "\n",
    "        # we'll use as quadratic function h = a*u^2 + b*u*v + c*v^2 + d*u + e*v + f\n",
    "        A = np.column_stack([u*u, u*v, v*v, u, v, np.ones_like(u)])\n",
    "        # we want to fit the quadratic function to the height h\n",
    "        coeffs, *_ = np.linalg.lstsq(A, h, rcond=None)\n",
    "        # coeffs = [a, b, c, d, e, f]\n",
    "        # we only care about d and e, because they are \n",
    "        # the derivatives in (0, 0), the vertex\n",
    "        _, _, _, fu, fv, _ = coeffs\n",
    "\n",
    "        # compute the tangent plane basis\n",
    "        tu = e1 + fu * e3\n",
    "        tv = e2 + fv * e3\n",
    "        # the normal is the cross product of the tangent basis\n",
    "        N[i] = np.cross(tu, tv)\n",
    "        N[i] /= np.linalg.norm(N[i])\n",
    "\n",
    "    # fix signs\n",
    "    sign_flip = np.sign((N * stdN).sum(axis=1))[:, None]\n",
    "    return sign_flip * N"
   ]
  },
  {
   "cell_type": "code",
   "execution_count": 30,
   "metadata": {},
   "outputs": [
    {
     "data": {
      "application/vnd.jupyter.widget-view+json": {
       "model_id": "07dd4114a49447d487011021142daaad",
       "version_major": 2,
       "version_minor": 0
      },
      "text/plain": [
       "Renderer(camera=PerspectiveCamera(children=(DirectionalLight(color='white', intensity=0.6, position=(-0.016860…"
      ]
     },
     "metadata": {},
     "output_type": "display_data"
    },
    {
     "data": {
      "text/plain": [
       "<meshplot.Viewer.Viewer at 0x2365ba1d510>"
      ]
     },
     "execution_count": 30,
     "metadata": {},
     "output_type": "execute_result"
    }
   ],
   "source": [
    "#Quadratic fitting normal\n",
    "\n",
    "n = np.zeros_like(v)\n",
    "k = 3\n",
    "\n",
    "\n",
    "n = compute_quadratic_normals(v, f, k)\n",
    "\n",
    "#For each vertex:\n",
    "#   find kNN's and compute PCA as before\n",
    "#   express all neighbors in a local ref framewith origin at the vertex and axes aligned to the PCA\n",
    "#   fit a quadratic polynomial to such data\n",
    "#   compute the components of the Jacobian at the origin and express them in the global coordinate system\n",
    "#   compute the normal as orthogonal to the Jacobian's components\n",
    "#Adjust directions as above\n",
    "\n",
    "mp.plot(v, f, n=n, shading={\"flat\": False})\n"
   ]
  },
  {
   "cell_type": "markdown",
   "metadata": {},
   "source": [
    "# Curvature"
   ]
  },
  {
   "cell_type": "code",
   "execution_count": 12,
   "metadata": {},
   "outputs": [
    {
     "data": {
      "application/vnd.jupyter.widget-view+json": {
       "model_id": "6ba842a88672474eae4f1dde1ea66b28",
       "version_major": 2,
       "version_minor": 0
      },
      "text/plain": [
       "Renderer(camera=PerspectiveCamera(children=(DirectionalLight(color='white', intensity=0.6, position=(-0.016860…"
      ]
     },
     "metadata": {},
     "output_type": "display_data"
    },
    {
     "data": {
      "application/vnd.jupyter.widget-view+json": {
       "model_id": "f217ce73613c44c1bb2060e95d70a138",
       "version_major": 2,
       "version_minor": 0
      },
      "text/plain": [
       "Renderer(camera=PerspectiveCamera(children=(DirectionalLight(color='white', intensity=0.6, position=(-0.016860…"
      ]
     },
     "metadata": {},
     "output_type": "display_data"
    },
    {
     "data": {
      "application/vnd.jupyter.widget-view+json": {
       "model_id": "bbd45d9b54024a1b8250b676c519f8f8",
       "version_major": 2,
       "version_minor": 0
      },
      "text/plain": [
       "Renderer(camera=PerspectiveCamera(children=(DirectionalLight(color='white', intensity=0.6, position=(-0.016860…"
      ]
     },
     "metadata": {},
     "output_type": "display_data"
    },
    {
     "data": {
      "application/vnd.jupyter.widget-view+json": {
       "model_id": "60d3a5285bb146aa9b17333bb8dab06c",
       "version_major": 2,
       "version_minor": 0
      },
      "text/plain": [
       "Renderer(camera=PerspectiveCamera(children=(DirectionalLight(color='white', intensity=0.6, position=(-0.016860…"
      ]
     },
     "metadata": {},
     "output_type": "display_data"
    },
    {
     "data": {
      "text/plain": [
       "<meshplot.Viewer.Viewer at 0x2365b911c30>"
      ]
     },
     "execution_count": 12,
     "metadata": {},
     "output_type": "execute_result"
    }
   ],
   "source": [
    "# TBD: try different color maps\n",
    "# CHECK HOW PRINCIPAL CURVATURES ARE COMPUTED\n",
    "\n",
    "#Obtain Gaussian curvature k from related igl function \n",
    "k = igl.gaussian_curvature(v, f)\n",
    "#Compute mean curvature h from Laplacian as above\n",
    "L = igl.cotmatrix(v, f)\n",
    "m = igl.massmatrix(v, f, igl.MASSMATRIX_TYPE_VORONOI)\n",
    "hn = -np.linalg.solve(m.toarray(), L.dot(v))\n",
    "h = np.linalg.norm(hn, axis=1)\n",
    "#Compute principal curvatures k1 and k2 from k and h\n",
    "k1 = h - np.sqrt(h*h - k)\n",
    "k2 = h + np.sqrt(h*h - k)\n",
    "\n",
    "mp.plot(v, f, k, shading={\"flat\": False})\n",
    "mp.plot(v, f, h, shading={\"flat\": False})\n",
    "mp.plot(v, f, k1, shading={\"flat\": False})\n",
    "mp.plot(v, f, k2, shading={\"flat\": False})\n",
    "#Experiment with different color maps"
   ]
  },
  {
   "cell_type": "code",
   "execution_count": 13,
   "metadata": {},
   "outputs": [
    {
     "data": {
      "application/vnd.jupyter.widget-view+json": {
       "model_id": "a418f43814f74f6abca19845c11e7ffe",
       "version_major": 2,
       "version_minor": 0
      },
      "text/plain": [
       "Renderer(camera=PerspectiveCamera(children=(DirectionalLight(color='white', intensity=0.6, position=(-0.016860…"
      ]
     },
     "metadata": {},
     "output_type": "display_data"
    },
    {
     "data": {
      "text/plain": [
       "2"
      ]
     },
     "execution_count": 13,
     "metadata": {},
     "output_type": "execute_result"
    }
   ],
   "source": [
    "#Obtain principal curvatures k1 and k2 and their directions v1 and v2 from related igl function\n",
    "v1, v2, k1, k2 = igl.principal_curvature(v, f)\n",
    "#Compute Gaussian curvature k and mean curvature h from k1 and k2\n",
    "k = k1 * k2\n",
    "h = (k1 + k2) / 2.0\n",
    "\n",
    "# The following plots principal directions on top of a mesh colored with one of the curvatures\n",
    "p = mp.plot(v, f, k1, shading={\"wireframe\": False}, return_plot=True)\n",
    "avg = igl.avg_edge_length(v, f) / 2.0\n",
    "p.add_lines(v + v1 * avg, v - v1 * avg, shading={\"line_color\": \"red\"})\n",
    "p.add_lines(v + v2 * avg, v - v2 * avg, shading={\"line_color\": \"green\"})\n",
    "#Experiment with colormaps for k2, k and h, too"
   ]
  },
  {
   "cell_type": "markdown",
   "metadata": {},
   "source": [
    "# Smoothing with the Laplacian"
   ]
  },
  {
   "cell_type": "code",
   "execution_count": 14,
   "metadata": {},
   "outputs": [],
   "source": [
    "from scipy.sparse.linalg import spsolve\n",
    "import scipy.sparse as sp"
   ]
  },
  {
   "cell_type": "code",
   "execution_count": 15,
   "metadata": {
    "scrolled": true
   },
   "outputs": [
    {
     "data": {
      "application/vnd.jupyter.widget-view+json": {
       "model_id": "33528681b6f341c8923a959bb31c4af9",
       "version_major": 2,
       "version_minor": 0
      },
      "text/plain": [
       "Renderer(camera=PerspectiveCamera(children=(DirectionalLight(color='white', intensity=0.6, position=(-0.018144…"
      ]
     },
     "metadata": {},
     "output_type": "display_data"
    }
   ],
   "source": [
    "# TBD: use uniform laplacian\n",
    "\n",
    "# Explicit laplacian\n",
    "ll = 0.0000001  # speed factor\n",
    "it = 1000       # iterations\n",
    "\n",
    "# MAIN FORMULA\n",
    "# p_t+1 = (I + ll * m^-1 x L )p_t\n",
    "\n",
    "# Compute stiffness matrix (cotmatrix) and mass matrix\n",
    "L = igl.cotmatrix(v, f)\n",
    "m = igl.massmatrix(v, f, igl.MASSMATRIX_TYPE_VORONOI)\n",
    "\n",
    "# Build matrix for forward Euler\n",
    "\n",
    "# Invert the diagonal of the mass matrix\n",
    "# Minv = m^-1\n",
    "Minv = sp.diags(1 / m.diagonal())\n",
    "\n",
    "# Build the operator \n",
    "# M^-1 * L\n",
    "Euler_op = Minv @ L\n",
    "\n",
    "# Run forward Euler on a copy vi of v\n",
    "vi = v.copy()\n",
    "\n",
    "# Run forward Euler iterations\n",
    "for _ in range(it):\n",
    "    vi += ll * (Euler_op @ vi)\n",
    "\n",
    "# Plot the result\n",
    "p = mp.plot(vi, f)\n",
    "\n",
    "# Experiment with different speeds and iterations"
   ]
  },
  {
   "cell_type": "code",
   "execution_count": 16,
   "metadata": {},
   "outputs": [
    {
     "data": {
      "application/vnd.jupyter.widget-view+json": {
       "model_id": "aba7b469a4404a22b059fc605c80eb42",
       "version_major": 2,
       "version_minor": 0
      },
      "text/plain": [
       "Renderer(camera=PerspectiveCamera(children=(DirectionalLight(color='white', intensity=0.6, position=(-0.020321…"
      ]
     },
     "metadata": {},
     "output_type": "display_data"
    }
   ],
   "source": [
    "# Implicit laplacian\n",
    "\n",
    "ll = 0.001  # speed factor\n",
    "\n",
    "# MAIN FORMULA\n",
    "# (m - ll * L ) p_t+1 = m * p_t \n",
    "\n",
    "# Compute stiffness matrix (cotmatrix) and mass matrix\n",
    "L = igl.cotmatrix(v, f)\n",
    "m = igl.massmatrix(v, f, igl.MASSMATRIX_TYPE_VORONOI)\n",
    "\n",
    "# Build matrix and right hand side for backward Euler\n",
    "\n",
    "# Left hand side\n",
    "# A = M - ll * L\n",
    "A = m - ll * L\n",
    "\n",
    "# Right-hand side: \n",
    "# B = M * v\n",
    "B = m @ v\n",
    "\n",
    "# Solve the linear system \n",
    "# A * vi = B\n",
    "vi = spsolve(A, B)\n",
    "\n",
    "# Plot the result\n",
    "p = mp.plot(vi, f)\n",
    "\n",
    "# Experiment with different parameters"
   ]
  }
 ],
 "metadata": {
  "kernelspec": {
   "display_name": "myenv",
   "language": "python",
   "name": "python3"
  },
  "language_info": {
   "codemirror_mode": {
    "name": "ipython",
    "version": 3
   },
   "file_extension": ".py",
   "mimetype": "text/x-python",
   "name": "python",
   "nbconvert_exporter": "python",
   "pygments_lexer": "ipython3",
   "version": "3.10.16"
  }
 },
 "nbformat": 4,
 "nbformat_minor": 4
}
