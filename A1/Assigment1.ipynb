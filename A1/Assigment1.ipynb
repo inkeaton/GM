{
 "cells": [
  {
   "cell_type": "markdown",
   "metadata": {},
   "source": [
    "# Assignment 1: Hello World\n",
    "## Edoardo Vassallo - S4965918"
   ]
  },
  {
   "cell_type": "markdown",
   "metadata": {},
   "source": [
    "# 1 - Load and display meshes\n",
    "Code in this section should run out-of-the-box and show you the three meshes in input. "
   ]
  },
  {
   "cell_type": "code",
   "execution_count": 1,
   "metadata": {},
   "outputs": [],
   "source": [
    "import numpy as np\n",
    "import igl\n",
    "import meshplot"
   ]
  },
  {
   "cell_type": "code",
   "execution_count": 2,
   "metadata": {},
   "outputs": [],
   "source": [
    "bunny_v, bunny_f    = igl.read_triangle_mesh(\"data/bunny.off\")\n",
    "cube_v, cube_f      = igl.read_triangle_mesh(\"data/cube.obj\")\n",
    "sphere_v, sphere_f  = igl.read_triangle_mesh(\"data/sphere.obj\")"
   ]
  },
  {
   "cell_type": "code",
   "execution_count": 3,
   "metadata": {},
   "outputs": [
    {
     "data": {
      "application/vnd.jupyter.widget-view+json": {
       "model_id": "6de98c6ffa504ca78b5946a52357137e",
       "version_major": 2,
       "version_minor": 0
      },
      "text/plain": [
       "Renderer(camera=PerspectiveCamera(children=(DirectionalLight(color='white', intensity=0.6, position=(-0.016860…"
      ]
     },
     "metadata": {},
     "output_type": "display_data"
    },
    {
     "data": {
      "text/plain": [
       "<meshplot.Viewer.Viewer at 0x203fe6ccee0>"
      ]
     },
     "execution_count": 3,
     "metadata": {},
     "output_type": "execute_result"
    }
   ],
   "source": [
    "meshplot.plot(bunny_v, bunny_f, shading={\"wireframe\": True})"
   ]
  },
  {
   "cell_type": "code",
   "execution_count": 4,
   "metadata": {},
   "outputs": [
    {
     "data": {
      "application/vnd.jupyter.widget-view+json": {
       "model_id": "229f3c8f021d435d9f1e8d99e9075084",
       "version_major": 2,
       "version_minor": 0
      },
      "text/plain": [
       "Renderer(camera=PerspectiveCamera(children=(DirectionalLight(color='white', intensity=0.6, position=(0.0, 0.0,…"
      ]
     },
     "metadata": {},
     "output_type": "display_data"
    },
    {
     "data": {
      "text/plain": [
       "<meshplot.Viewer.Viewer at 0x20380f2e380>"
      ]
     },
     "execution_count": 4,
     "metadata": {},
     "output_type": "execute_result"
    }
   ],
   "source": [
    "meshplot.plot(cube_v, cube_f, shading={\"wireframe\": True})"
   ]
  },
  {
   "cell_type": "code",
   "execution_count": 5,
   "metadata": {},
   "outputs": [
    {
     "data": {
      "application/vnd.jupyter.widget-view+json": {
       "model_id": "76c757326d814d86ad11343812a27ea9",
       "version_major": 2,
       "version_minor": 0
      },
      "text/plain": [
       "Renderer(camera=PerspectiveCamera(children=(DirectionalLight(color='white', intensity=0.6, position=(0.0, 0.0,…"
      ]
     },
     "metadata": {},
     "output_type": "display_data"
    },
    {
     "data": {
      "text/plain": [
       "<meshplot.Viewer.Viewer at 0x20380f2f6a0>"
      ]
     },
     "execution_count": 5,
     "metadata": {},
     "output_type": "execute_result"
    }
   ],
   "source": [
    "meshplot.plot(sphere_v, sphere_f, shading={\"wireframe\": True})"
   ]
  },
  {
   "cell_type": "markdown",
   "metadata": {},
   "source": [
    "# 2. - Neighbourhood Computations"
   ]
  },
  {
   "cell_type": "markdown",
   "metadata": {},
   "source": [
    "## 2.1 - Vertex-to-Face Relations"
   ]
  },
  {
   "cell_type": "code",
   "execution_count": 6,
   "metadata": {},
   "outputs": [
    {
     "name": "stdout",
     "output_type": "stream",
     "text": [
      "Vertex 0: Faces [0, 6, 7, 10, 11]\n",
      "Vertex 1: Faces [0, 1, 7, 8]\n",
      "Vertex 2: Faces [0, 1, 2, 11]\n",
      "Vertex 3: Faces [1, 2, 3, 8, 9]\n",
      "Vertex 4: Faces [2, 3, 4, 10, 11]\n",
      "Vertex 5: Faces [3, 4, 5, 9]\n",
      "Vertex 6: Faces [4, 5, 6, 10]\n",
      "Vertex 7: Faces [5, 6, 7, 8, 9]\n"
     ]
    }
   ],
   "source": [
    "def VF_list(v, f):\n",
    "    # Compute the following:\n",
    "    # VF: vertex to face adjacency list\n",
    "    # NI: vertex to face adjacency list offsets\n",
    "    vf, ni = igl.vertex_triangle_adjacency(f, v.shape[0])\n",
    "    # Create an actual list from the previous step\n",
    "    adjacency_list = []\n",
    "    for i in range(v.shape[0]):\n",
    "        adjacency_list.append(vf[ni[i]:ni[i+1]])\n",
    "    return adjacency_list\n",
    "\n",
    "cube_adjacency_list = VF_list(cube_v, cube_f)\n",
    "\n",
    "# Print and text dump the adjacency list\n",
    "with open(\"./output/text_dumps/cube_VF_list.txt\", \"w\") as file:\n",
    "    for v_idx, face_indices in enumerate(cube_adjacency_list):\n",
    "        print(f\"Vertex {v_idx}: Faces {list(face_indices)}\")\n",
    "        file.write(f\"Vertex {v_idx}: Faces {list(face_indices)}\\n\")"
   ]
  },
  {
   "cell_type": "markdown",
   "metadata": {},
   "source": [
    "## 2.2 - Vertex-to-Vertex Relations"
   ]
  },
  {
   "cell_type": "code",
   "execution_count": 7,
   "metadata": {},
   "outputs": [
    {
     "name": "stdout",
     "output_type": "stream",
     "text": [
      "Vertex 0: Neighbors [1, 2, 4, 6, 7]\n",
      "Vertex 1: Neighbors [0, 2, 3, 7]\n",
      "Vertex 2: Neighbors [0, 1, 3, 4]\n",
      "Vertex 3: Neighbors [1, 2, 4, 5, 7]\n",
      "Vertex 4: Neighbors [0, 2, 3, 5, 6]\n",
      "Vertex 5: Neighbors [3, 4, 6, 7]\n",
      "Vertex 6: Neighbors [0, 4, 5, 7]\n",
      "Vertex 7: Neighbors [0, 1, 3, 5, 6]\n"
     ]
    }
   ],
   "source": [
    "# Compute VV: vertex-vertex adjacency list\n",
    "VV = igl.adjacency_list(cube_f)\n",
    "\n",
    "# Print and text dump the adjacency list\n",
    "with open(\"./output/text_dumps/cube_VV_list.txt\", \"w\") as file:\n",
    "    for v_idx, neighbors in enumerate(VV):\n",
    "        print(f\"Vertex {v_idx}: Neighbors {list(neighbors)}\")\n",
    "        file.write(f\"Vertex {v_idx}: Neighbors {list(neighbors)}\\n\")"
   ]
  },
  {
   "cell_type": "markdown",
   "metadata": {},
   "source": [
    "## 2.3 - Visualizing the Neighborhood Relations"
   ]
  },
  {
   "cell_type": "code",
   "execution_count": 8,
   "metadata": {},
   "outputs": [
    {
     "name": "stdout",
     "output_type": "stream",
     "text": [
      "[[0 1 2]\n",
      " [2 1 3]\n",
      " [2 3 4]\n",
      " [4 3 5]\n",
      " [4 5 6]\n",
      " [6 5 7]\n",
      " [6 7 0]\n",
      " [0 7 1]\n",
      " [1 7 3]\n",
      " [3 7 5]\n",
      " [6 0 4]\n",
      " [4 0 2]]\n",
      "[[-0.5 -0.5  0.5]\n",
      " [ 0.5 -0.5  0.5]\n",
      " [-0.5  0.5  0.5]\n",
      " [ 0.5  0.5  0.5]\n",
      " [-0.5  0.5 -0.5]\n",
      " [ 0.5  0.5 -0.5]\n",
      " [-0.5 -0.5 -0.5]\n",
      " [ 0.5 -0.5 -0.5]]\n"
     ]
    }
   ],
   "source": [
    "# Print cube contents to compare with previous output\n",
    "print(cube_f)\n",
    "print(cube_v)"
   ]
  },
  {
   "cell_type": "markdown",
   "metadata": {},
   "source": [
    "# 3 - Shading\n",
    "\n",
    "Meshplot requires per vertex normals. \n",
    "Smooth (per-vertex) shading is easy and can be done directly from the input mesh. \n",
    "For flat shading and per-corner shading, we need to \"explode\" the mesh, as if it were a triangle soup. \n",
    "Per-face and per-corner normals are computed by igl from the input mesh, but must be adapted later to apply them to the exploded mesh. "
   ]
  },
  {
   "cell_type": "code",
   "execution_count": 9,
   "metadata": {},
   "outputs": [],
   "source": [
    "# Explode the mesh\n",
    "def explode_mesh(V, F):\n",
    "    # get list of duplicated vertexes in faces order\n",
    "    V_exploded = V[F].reshape(-1, 3)\n",
    "    # create list of faces with indexes of exploded vertexes\n",
    "    F_exploded = np.arange(len(V_exploded)).reshape(-1, 3)\n",
    "    return V_exploded, F_exploded\n",
    "\n",
    "# Explode the mesh for visualization of per-face and per-corner normals\n",
    "bunny_exp_v, bunny_exp_f    = explode_mesh(bunny_v, bunny_f)\n",
    "sphere_exp_v, sphere_exp_f  = explode_mesh(sphere_v, sphere_f)\n",
    "cube_exp_v, cube_exp_f      = explode_mesh(cube_v, cube_f)\n"
   ]
  },
  {
   "cell_type": "markdown",
   "metadata": {},
   "source": [
    "### 3.1 - Flat Shading"
   ]
  },
  {
   "cell_type": "code",
   "execution_count": 10,
   "metadata": {},
   "outputs": [
    {
     "data": {
      "application/vnd.jupyter.widget-view+json": {
       "model_id": "fe8fbd776dd24896a2fe25e5e9893837",
       "version_major": 2,
       "version_minor": 0
      },
      "text/plain": [
       "Renderer(camera=PerspectiveCamera(children=(DirectionalLight(color='white', intensity=0.6, position=(-0.016860…"
      ]
     },
     "metadata": {},
     "output_type": "display_data"
    },
    {
     "data": {
      "application/vnd.jupyter.widget-view+json": {
       "model_id": "c33def9475514a4abc0d30e7dc663557",
       "version_major": 2,
       "version_minor": 0
      },
      "text/plain": [
       "Renderer(camera=PerspectiveCamera(children=(DirectionalLight(color='white', intensity=0.6, position=(0.0, 0.0,…"
      ]
     },
     "metadata": {},
     "output_type": "display_data"
    },
    {
     "data": {
      "application/vnd.jupyter.widget-view+json": {
       "model_id": "b7648fdbafb44bdab088712ef748acc4",
       "version_major": 2,
       "version_minor": 0
      },
      "text/plain": [
       "Renderer(camera=PerspectiveCamera(children=(DirectionalLight(color='white', intensity=0.6, position=(0.0, 0.0,…"
      ]
     },
     "metadata": {},
     "output_type": "display_data"
    },
    {
     "data": {
      "text/plain": [
       "<meshplot.Viewer.Viewer at 0x20380fb1900>"
      ]
     },
     "execution_count": 10,
     "metadata": {},
     "output_type": "execute_result"
    }
   ],
   "source": [
    "# Compute per-face normals\n",
    "n_faces_bunny   = igl.per_face_normals(bunny_v, bunny_f, np.array([0.0, 0.0, 1.0]))\n",
    "n_faces_cube    = igl.per_face_normals(cube_v, cube_f, np.array([0.0, 0.0, 1.0]))\n",
    "n_faces_sphere  = igl.per_face_normals(sphere_v, sphere_f, np.array([0.0, 0.0, 1.0]))\n",
    "\n",
    "# Display flat shading\n",
    "meshplot.plot(bunny_exp_v, bunny_exp_f,     n = n_faces_bunny)\n",
    "meshplot.plot(cube_exp_v, cube_exp_f,       n = n_faces_cube)\n",
    "meshplot.plot(sphere_exp_v, sphere_exp_f,   n = n_faces_sphere)\n"
   ]
  },
  {
   "cell_type": "markdown",
   "metadata": {},
   "source": [
    "### 3.2 - Per-vertex Shading"
   ]
  },
  {
   "cell_type": "code",
   "execution_count": 11,
   "metadata": {},
   "outputs": [
    {
     "data": {
      "application/vnd.jupyter.widget-view+json": {
       "model_id": "45dc6b402ebf42cf8ba4e57ed4118786",
       "version_major": 2,
       "version_minor": 0
      },
      "text/plain": [
       "Renderer(camera=PerspectiveCamera(children=(DirectionalLight(color='white', intensity=0.6, position=(-0.016860…"
      ]
     },
     "metadata": {},
     "output_type": "display_data"
    },
    {
     "data": {
      "application/vnd.jupyter.widget-view+json": {
       "model_id": "5da1f552ea4d4b1cb4461eff08246b9f",
       "version_major": 2,
       "version_minor": 0
      },
      "text/plain": [
       "Renderer(camera=PerspectiveCamera(children=(DirectionalLight(color='white', intensity=0.6, position=(0.0, 0.0,…"
      ]
     },
     "metadata": {},
     "output_type": "display_data"
    },
    {
     "data": {
      "application/vnd.jupyter.widget-view+json": {
       "model_id": "fa1211ed27ce4edeba6cc0e518bca914",
       "version_major": 2,
       "version_minor": 0
      },
      "text/plain": [
       "Renderer(camera=PerspectiveCamera(children=(DirectionalLight(color='white', intensity=0.6, position=(0.0, 0.0,…"
      ]
     },
     "metadata": {},
     "output_type": "display_data"
    },
    {
     "data": {
      "text/plain": [
       "<meshplot.Viewer.Viewer at 0x20380fb1210>"
      ]
     },
     "execution_count": 11,
     "metadata": {},
     "output_type": "execute_result"
    }
   ],
   "source": [
    "# Compute per-vertex normals\n",
    "n_vertex_bunny  = igl.per_vertex_normals(bunny_v, bunny_f)\n",
    "n_vertex_cube   = igl.per_vertex_normals(cube_v, cube_f)\n",
    "n_vertex_sphere = igl.per_vertex_normals(sphere_v, sphere_f)\n",
    "\n",
    "# Display smooth shading\n",
    "meshplot.plot(bunny_v, bunny_f, n=n_vertex_bunny, shading={\"flat\": False})\n",
    "meshplot.plot(cube_v, cube_f, n=n_vertex_cube, shading={\"flat\": False})\n",
    "meshplot.plot(sphere_v, sphere_f, n=n_vertex_sphere, shading={\"flat\": False})"
   ]
  },
  {
   "cell_type": "markdown",
   "metadata": {},
   "source": [
    "### 3.3 - Per-corner Shading"
   ]
  },
  {
   "cell_type": "code",
   "execution_count": 12,
   "metadata": {},
   "outputs": [
    {
     "data": {
      "application/vnd.jupyter.widget-view+json": {
       "model_id": "eef02044b9244930980b090f8cf12986",
       "version_major": 2,
       "version_minor": 0
      },
      "text/plain": [
       "Renderer(camera=PerspectiveCamera(children=(DirectionalLight(color='white', intensity=0.6, position=(-0.016860…"
      ]
     },
     "metadata": {},
     "output_type": "display_data"
    },
    {
     "data": {
      "application/vnd.jupyter.widget-view+json": {
       "model_id": "942b092860264a4aa37a81c7b7043221",
       "version_major": 2,
       "version_minor": 0
      },
      "text/plain": [
       "Renderer(camera=PerspectiveCamera(children=(DirectionalLight(color='white', intensity=0.6, position=(0.0, 0.0,…"
      ]
     },
     "metadata": {},
     "output_type": "display_data"
    },
    {
     "data": {
      "application/vnd.jupyter.widget-view+json": {
       "model_id": "ee1af6e9e3774b2f8f1ad4046d7c1e09",
       "version_major": 2,
       "version_minor": 0
      },
      "text/plain": [
       "Renderer(camera=PerspectiveCamera(children=(DirectionalLight(color='white', intensity=0.6, position=(0.0, 0.0,…"
      ]
     },
     "metadata": {},
     "output_type": "display_data"
    },
    {
     "data": {
      "text/plain": [
       "<meshplot.Viewer.Viewer at 0x20380fb1db0>"
      ]
     },
     "execution_count": 12,
     "metadata": {},
     "output_type": "execute_result"
    }
   ],
   "source": [
    "# Compute per-corner normals for per-corner shading\n",
    "n_corner_bunny  = igl.per_corner_normals(bunny_v, bunny_f, 45)\n",
    "n_corner_cube   = igl.per_corner_normals(cube_v, cube_f, 45)\n",
    "n_corner_sphere = igl.per_corner_normals(sphere_v, sphere_f, 45)\n",
    "\n",
    "# Display per-corner shading\n",
    "meshplot.plot(bunny_exp_v, bunny_exp_f, n=n_corner_bunny, shading={\"flat\": False})\n",
    "meshplot.plot(cube_exp_v, cube_exp_f, n=n_corner_cube, shading={\"flat\": False})\n",
    "meshplot.plot(sphere_exp_v, sphere_exp_f, n=n_corner_sphere, shading={\"flat\": False})"
   ]
  },
  {
   "cell_type": "markdown",
   "metadata": {},
   "source": [
    "# 4. - A simple subdivision scheme"
   ]
  },
  {
   "cell_type": "code",
   "execution_count": 13,
   "metadata": {},
   "outputs": [],
   "source": [
    "def subdivide_sq3(V, F):\n",
    "\n",
    "    old_v = len(V) \n",
    "    V_N = V\n",
    "    F_N = []\n",
    "\n",
    "    # Compute new vertices\n",
    "    for face in F:\n",
    "        vertices = V[face]\n",
    "        new_vertex = np.mean(vertices, axis=0)\n",
    "        V_N = np.vstack([V_N, new_vertex])\n",
    "\n",
    "    # Compute new faces\n",
    "    F_N1, F_N2, F_N3= [], [], []\n",
    "    for i, face in enumerate(F):\n",
    "        v1, v2, v3 = face\n",
    "        v4 = old_v + i\n",
    "        F_N1.append([v4, v2, v3])\n",
    "        F_N2.append([v1, v4, v3])\n",
    "        F_N3.append([v1, v2, v4])\n",
    "    F_N = np.vstack([F_N1, F_N2, F_N3])\n",
    "\n",
    "    # Update old vertices\n",
    "    neighbors = igl.adjacency_list(F)\n",
    "    for i in range(old_v):\n",
    "        n = len(neighbors[i])\n",
    "        a_n = (4 - 2 * np.cos((2*np.pi)/n))/9\n",
    "        V_N[i] = (1 - a_n) * V[i] + (a_n/n) * np.sum(V[neighbors[i]], axis=0)\n",
    "\n",
    "    # Using the second suggested approach:\n",
    "    # Compute edges and connected faces\n",
    "    E, _, EF = igl.edge_topology(V_N, F_N)\n",
    "\n",
    "    # Flip each old edge if it is not on the boundary\n",
    "    for edge, (v1, v2) in enumerate(E):\n",
    "        if v1 < old_v and v2 < old_v:\n",
    "            f_1, f_2 = EF[edge]\n",
    "            # If the edge is not on the boundary\n",
    "            if f_1 != -1 and f_2 != -1:\n",
    "                # flip the edge\n",
    "                v3 = [v for v in F_N[f_1] if v not in (v1, v2)][0]\n",
    "                v4 = [v for v in F_N[f_2] if v not in (v1, v2)][0]\n",
    "                F_N[f_1] = [v1, v3, v4]\n",
    "                F_N[f_2] = [v2, v3, v4]\n",
    "\n",
    "    return np.array(V_N), np.array(F_N)\n",
    "\n",
    "# Subdivide multiple times\n",
    "def subdivide_sq3_iterative(V, F, n_iter):\n",
    "    results = []\n",
    "    V_N, F_N = V, F\n",
    "    for i in range(n_iter):\n",
    "        V_N, F_N = subdivide_sq3(V_N, F_N)\n",
    "        meshplot.plot(V_N, F_N, shading={\"wireframe\": True})\n",
    "        results.append([V_N, F_N])\n",
    "    return results"
   ]
  },
  {
   "cell_type": "code",
   "execution_count": 14,
   "metadata": {},
   "outputs": [
    {
     "data": {
      "application/vnd.jupyter.widget-view+json": {
       "model_id": "0b6f8676f55f404cb07c3db81dd70c07",
       "version_major": 2,
       "version_minor": 0
      },
      "text/plain": [
       "Renderer(camera=PerspectiveCamera(children=(DirectionalLight(color='white', intensity=0.6, position=(-0.016826…"
      ]
     },
     "metadata": {},
     "output_type": "display_data"
    },
    {
     "data": {
      "application/vnd.jupyter.widget-view+json": {
       "model_id": "2f30da5169774a0da20077008a0c6525",
       "version_major": 2,
       "version_minor": 0
      },
      "text/plain": [
       "Renderer(camera=PerspectiveCamera(children=(DirectionalLight(color='white', intensity=0.6, position=(0.0, 0.0,…"
      ]
     },
     "metadata": {},
     "output_type": "display_data"
    },
    {
     "data": {
      "application/vnd.jupyter.widget-view+json": {
       "model_id": "a98b960eff3d4e88a6a2a73c39e61b81",
       "version_major": 2,
       "version_minor": 0
      },
      "text/plain": [
       "Renderer(camera=PerspectiveCamera(children=(DirectionalLight(color='white', intensity=0.6, position=(2.9802322…"
      ]
     },
     "metadata": {},
     "output_type": "display_data"
    },
    {
     "data": {
      "text/plain": [
       "<meshplot.Viewer.Viewer at 0x20381066020>"
      ]
     },
     "execution_count": 14,
     "metadata": {},
     "output_type": "execute_result"
    }
   ],
   "source": [
    "# Subdivide bunny, cube, and sphere\n",
    "sub_bunny_v, sub_bunny_f = subdivide_sq3(bunny_v, bunny_f)\n",
    "sub_cube_v, sub_cube_f = subdivide_sq3(cube_v, cube_f)\n",
    "sub_sphere_v, sub_sphere_f = subdivide_sq3(sphere_v, sphere_f)\n",
    "\n",
    "# Display the results\n",
    "meshplot.plot(sub_bunny_v, sub_bunny_f, shading={\"wireframe\": True})\n",
    "meshplot.plot(sub_cube_v, sub_cube_f, shading={\"wireframe\": True})\n",
    "meshplot.plot(sub_sphere_v, sub_sphere_f, shading={\"wireframe\": True})"
   ]
  },
  {
   "cell_type": "code",
   "execution_count": 15,
   "metadata": {},
   "outputs": [
    {
     "data": {
      "application/vnd.jupyter.widget-view+json": {
       "model_id": "72fbb03d586e43dbb731c364911fb5d9",
       "version_major": 2,
       "version_minor": 0
      },
      "text/plain": [
       "Renderer(camera=PerspectiveCamera(children=(DirectionalLight(color='white', intensity=0.6, position=(0.0, 0.0,…"
      ]
     },
     "metadata": {},
     "output_type": "display_data"
    },
    {
     "data": {
      "application/vnd.jupyter.widget-view+json": {
       "model_id": "1fc1589ba87740da84be7aba355c9908",
       "version_major": 2,
       "version_minor": 0
      },
      "text/plain": [
       "Renderer(camera=PerspectiveCamera(children=(DirectionalLight(color='white', intensity=0.6, position=(0.0, 0.0,…"
      ]
     },
     "metadata": {},
     "output_type": "display_data"
    },
    {
     "data": {
      "application/vnd.jupyter.widget-view+json": {
       "model_id": "3ae5b83cc8ff49b88a3033bb467d1ef2",
       "version_major": 2,
       "version_minor": 0
      },
      "text/plain": [
       "Renderer(camera=PerspectiveCamera(children=(DirectionalLight(color='white', intensity=0.6, position=(0.0, 0.0,…"
      ]
     },
     "metadata": {},
     "output_type": "display_data"
    },
    {
     "data": {
      "application/vnd.jupyter.widget-view+json": {
       "model_id": "8bfb0b793af34f7ebc7125b05a0aa831",
       "version_major": 2,
       "version_minor": 0
      },
      "text/plain": [
       "Renderer(camera=PerspectiveCamera(children=(DirectionalLight(color='white', intensity=0.6, position=(0.0, 0.0,…"
      ]
     },
     "metadata": {},
     "output_type": "display_data"
    },
    {
     "data": {
      "application/vnd.jupyter.widget-view+json": {
       "model_id": "4aca84d2972944fba19e952bb09956de",
       "version_major": 2,
       "version_minor": 0
      },
      "text/plain": [
       "Renderer(camera=PerspectiveCamera(children=(DirectionalLight(color='white', intensity=0.6, position=(0.0, 0.0,…"
      ]
     },
     "metadata": {},
     "output_type": "display_data"
    },
    {
     "data": {
      "application/vnd.jupyter.widget-view+json": {
       "model_id": "a6c079373b484d1b874d5f439f059bed",
       "version_major": 2,
       "version_minor": 0
      },
      "text/plain": [
       "Renderer(camera=PerspectiveCamera(children=(DirectionalLight(color='white', intensity=0.6, position=(0.0, 0.0,…"
      ]
     },
     "metadata": {},
     "output_type": "display_data"
    },
    {
     "data": {
      "application/vnd.jupyter.widget-view+json": {
       "model_id": "c66a3539bc3f4d06babbd7759075dec4",
       "version_major": 2,
       "version_minor": 0
      },
      "text/plain": [
       "Renderer(camera=PerspectiveCamera(children=(DirectionalLight(color='white', intensity=0.6, position=(0.0, 0.0,…"
      ]
     },
     "metadata": {},
     "output_type": "display_data"
    },
    {
     "data": {
      "application/vnd.jupyter.widget-view+json": {
       "model_id": "b53f3f598e9847e88803945ffaa55968",
       "version_major": 2,
       "version_minor": 0
      },
      "text/plain": [
       "Renderer(camera=PerspectiveCamera(children=(DirectionalLight(color='white', intensity=0.6, position=(0.0, 0.0,…"
      ]
     },
     "metadata": {},
     "output_type": "display_data"
    }
   ],
   "source": [
    "# Example of iterative subdivision\n",
    "meshplot.plot(cube_v, cube_f, shading={\"wireframe\": True})\n",
    "iterations = subdivide_sq3_iterative(cube_v, cube_f, 7)"
   ]
  }
 ],
 "metadata": {
  "kernelspec": {
   "display_name": "myenv",
   "language": "python",
   "name": "python3"
  },
  "language_info": {
   "codemirror_mode": {
    "name": "ipython",
    "version": 3
   },
   "file_extension": ".py",
   "mimetype": "text/x-python",
   "name": "python",
   "nbconvert_exporter": "python",
   "pygments_lexer": "ipython3",
   "version": "3.10.16"
  }
 },
 "nbformat": 4,
 "nbformat_minor": 4
}
