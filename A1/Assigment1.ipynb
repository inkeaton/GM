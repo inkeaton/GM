{
 "cells": [
  {
   "cell_type": "markdown",
   "metadata": {},
   "source": [
    "# Assignment 1: Hello World\n",
    "## Edoardo Vassallo - S4965918"
   ]
  },
  {
   "cell_type": "markdown",
   "metadata": {},
   "source": [
    "# 1 - Load and display meshes\n",
    "Code in this section should run out-of-the-box and show you the three meshes in input. "
   ]
  },
  {
   "cell_type": "code",
   "execution_count": 14,
   "metadata": {},
   "outputs": [],
   "source": [
    "import numpy as np\n",
    "import igl\n",
    "import meshplot"
   ]
  },
  {
   "cell_type": "code",
   "execution_count": 15,
   "metadata": {},
   "outputs": [],
   "source": [
    "bunny_v, bunny_f    = igl.read_triangle_mesh(\"data/bunny.off\")\n",
    "cube_v, cube_f      = igl.read_triangle_mesh(\"data/cube.obj\")\n",
    "sphere_v, sphere_f  = igl.read_triangle_mesh(\"data/sphere.obj\")"
   ]
  },
  {
   "cell_type": "code",
   "execution_count": 16,
   "metadata": {},
   "outputs": [
    {
     "data": {
      "application/vnd.jupyter.widget-view+json": {
       "model_id": "9c1f0b07d70d4d429c59c4d9857f68c1",
       "version_major": 2,
       "version_minor": 0
      },
      "text/plain": [
       "Renderer(camera=PerspectiveCamera(children=(DirectionalLight(color='white', intensity=0.6, position=(-0.016860…"
      ]
     },
     "metadata": {},
     "output_type": "display_data"
    },
    {
     "data": {
      "text/plain": [
       "<meshplot.Viewer.Viewer at 0x1a7b6d53400>"
      ]
     },
     "execution_count": 16,
     "metadata": {},
     "output_type": "execute_result"
    }
   ],
   "source": [
    "meshplot.plot(bunny_v, bunny_f, shading={\"wireframe\": True})"
   ]
  },
  {
   "cell_type": "code",
   "execution_count": 17,
   "metadata": {},
   "outputs": [
    {
     "data": {
      "application/vnd.jupyter.widget-view+json": {
       "model_id": "5e32b847064746778439d947e9bb13ab",
       "version_major": 2,
       "version_minor": 0
      },
      "text/plain": [
       "Renderer(camera=PerspectiveCamera(children=(DirectionalLight(color='white', intensity=0.6, position=(0.0, 0.0,…"
      ]
     },
     "metadata": {},
     "output_type": "display_data"
    },
    {
     "data": {
      "text/plain": [
       "<meshplot.Viewer.Viewer at 0x1a7b6d52da0>"
      ]
     },
     "execution_count": 17,
     "metadata": {},
     "output_type": "execute_result"
    }
   ],
   "source": [
    "meshplot.plot(cube_v, cube_f, shading={\"wireframe\": True})"
   ]
  },
  {
   "cell_type": "code",
   "execution_count": 18,
   "metadata": {},
   "outputs": [
    {
     "data": {
      "application/vnd.jupyter.widget-view+json": {
       "model_id": "502e105e902041278b2ec3c8f24e41f9",
       "version_major": 2,
       "version_minor": 0
      },
      "text/plain": [
       "Renderer(camera=PerspectiveCamera(children=(DirectionalLight(color='white', intensity=0.6, position=(0.0, 0.0,…"
      ]
     },
     "metadata": {},
     "output_type": "display_data"
    },
    {
     "data": {
      "text/plain": [
       "<meshplot.Viewer.Viewer at 0x1a7b6d54610>"
      ]
     },
     "execution_count": 18,
     "metadata": {},
     "output_type": "execute_result"
    }
   ],
   "source": [
    "meshplot.plot(sphere_v, sphere_f, shading={\"wireframe\": True})"
   ]
  },
  {
   "cell_type": "markdown",
   "metadata": {},
   "source": [
    "# 2. - Neighbourhood Computations"
   ]
  },
  {
   "cell_type": "markdown",
   "metadata": {},
   "source": [
    "## 2.1 - Vertex-to-Face Relations"
   ]
  },
  {
   "cell_type": "code",
   "execution_count": 19,
   "metadata": {},
   "outputs": [
    {
     "name": "stdout",
     "output_type": "stream",
     "text": [
      "Vertex 0: Faces [0, 6, 7, 10, 11]\n",
      "Vertex 1: Faces [0, 1, 7, 8]\n",
      "Vertex 2: Faces [0, 1, 2, 11]\n",
      "Vertex 3: Faces [1, 2, 3, 8, 9]\n",
      "Vertex 4: Faces [2, 3, 4, 10, 11]\n",
      "Vertex 5: Faces [3, 4, 5, 9]\n",
      "Vertex 6: Faces [4, 5, 6, 10]\n",
      "Vertex 7: Faces [5, 6, 7, 8, 9]\n"
     ]
    }
   ],
   "source": [
    "def VF_list(v, f):\n",
    "    # Compute the following:\n",
    "    # VF: vertex to face adjacency list\n",
    "    # NI: vertex to face adjacency list offsets\n",
    "    vf, ni = igl.vertex_triangle_adjacency(f, v.shape[0])\n",
    "    # Create an actual list from the previous step\n",
    "    adjacency_list = []\n",
    "    for i in range(v.shape[0]):\n",
    "        adjacency_list.append(vf[ni[i]:ni[i+1]])\n",
    "    return adjacency_list\n",
    "\n",
    "cube_adjacency_list = VF_list(cube_v, cube_f)\n",
    "\n",
    "# Print and text dump the adjacency list\n",
    "with open(\"./output/text_dumps/cube_VF_list.txt\", \"w\") as file:\n",
    "    for v_idx, face_indices in enumerate(cube_adjacency_list):\n",
    "        print(f\"Vertex {v_idx}: Faces {list(face_indices)}\")\n",
    "        file.write(f\"Vertex {v_idx}: Faces {list(face_indices)}\\n\")"
   ]
  },
  {
   "cell_type": "markdown",
   "metadata": {},
   "source": [
    "## 2.2 - Vertex-to-Vertex Relations"
   ]
  },
  {
   "cell_type": "code",
   "execution_count": 20,
   "metadata": {},
   "outputs": [
    {
     "name": "stdout",
     "output_type": "stream",
     "text": [
      "Vertex 0: Neighbors [1, 2, 4, 6, 7]\n",
      "Vertex 1: Neighbors [0, 2, 3, 7]\n",
      "Vertex 2: Neighbors [0, 1, 3, 4]\n",
      "Vertex 3: Neighbors [1, 2, 4, 5, 7]\n",
      "Vertex 4: Neighbors [0, 2, 3, 5, 6]\n",
      "Vertex 5: Neighbors [3, 4, 6, 7]\n",
      "Vertex 6: Neighbors [0, 4, 5, 7]\n",
      "Vertex 7: Neighbors [0, 1, 3, 5, 6]\n"
     ]
    }
   ],
   "source": [
    "# Compute VV: vertex-vertex adjacency list\n",
    "VV = igl.adjacency_list(cube_f)\n",
    "\n",
    "# Print and text dump the adjacency list\n",
    "with open(\"./output/text_dumps/cube_VV_list.txt\", \"w\") as file:\n",
    "    for v_idx, neighbors in enumerate(VV):\n",
    "        print(f\"Vertex {v_idx}: Neighbors {list(neighbors)}\")\n",
    "        file.write(f\"Vertex {v_idx}: Neighbors {list(neighbors)}\\n\")"
   ]
  },
  {
   "cell_type": "markdown",
   "metadata": {},
   "source": [
    "## 2.3 - Visualizing the Neighborhood Relations"
   ]
  },
  {
   "cell_type": "code",
   "execution_count": 21,
   "metadata": {},
   "outputs": [
    {
     "name": "stdout",
     "output_type": "stream",
     "text": [
      "[[0 1 2]\n",
      " [2 1 3]\n",
      " [2 3 4]\n",
      " [4 3 5]\n",
      " [4 5 6]\n",
      " [6 5 7]\n",
      " [6 7 0]\n",
      " [0 7 1]\n",
      " [1 7 3]\n",
      " [3 7 5]\n",
      " [6 0 4]\n",
      " [4 0 2]]\n",
      "[[-0.5 -0.5  0.5]\n",
      " [ 0.5 -0.5  0.5]\n",
      " [-0.5  0.5  0.5]\n",
      " [ 0.5  0.5  0.5]\n",
      " [-0.5  0.5 -0.5]\n",
      " [ 0.5  0.5 -0.5]\n",
      " [-0.5 -0.5 -0.5]\n",
      " [ 0.5 -0.5 -0.5]]\n"
     ]
    }
   ],
   "source": [
    "# Print cube contents to compare with previous output\n",
    "print(cube_f)\n",
    "print(cube_v)"
   ]
  },
  {
   "cell_type": "markdown",
   "metadata": {},
   "source": [
    "# 3 - Shading\n",
    "\n",
    "Meshplot requires per vertex normals. \n",
    "Smooth (per-vertex) shading is easy and can be done directly from the input mesh. \n",
    "For flat shading and per-corner shading, we need to \"explode\" the mesh, as if it were a triangle soup. \n",
    "Per-face and per-corner normals are computed by igl from the input mesh, but must be adapted later to apply them to the exploded mesh. "
   ]
  },
  {
   "cell_type": "code",
   "execution_count": 22,
   "metadata": {},
   "outputs": [],
   "source": [
    "# Explode the mesh\n",
    "def explode_mesh(V, F):\n",
    "    # get list of duplicated vertexes in faces order\n",
    "    V_exploded = V[F].reshape(-1, 3)\n",
    "    # create list of faces with indexes of exploded vertexes\n",
    "    F_exploded = np.arange(len(V_exploded)).reshape(-1, 3)\n",
    "    return V_exploded, F_exploded\n",
    "\n",
    "# Explode the mesh for visualization of per-face and per-corner normals\n",
    "bunny_exp_v, bunny_exp_f    = explode_mesh(bunny_v, bunny_f)\n",
    "sphere_exp_v, sphere_exp_f  = explode_mesh(sphere_v, sphere_f)\n",
    "cube_exp_v, cube_exp_f      = explode_mesh(cube_v, cube_f)\n"
   ]
  },
  {
   "cell_type": "markdown",
   "metadata": {},
   "source": [
    "### 3.1 - Flat Shading"
   ]
  },
  {
   "cell_type": "code",
   "execution_count": 23,
   "metadata": {},
   "outputs": [
    {
     "data": {
      "application/vnd.jupyter.widget-view+json": {
       "model_id": "c6fc03c6476740febaa703e9f4bf2f2c",
       "version_major": 2,
       "version_minor": 0
      },
      "text/plain": [
       "Renderer(camera=PerspectiveCamera(children=(DirectionalLight(color='white', intensity=0.6, position=(-0.016860…"
      ]
     },
     "metadata": {},
     "output_type": "display_data"
    },
    {
     "data": {
      "application/vnd.jupyter.widget-view+json": {
       "model_id": "e4455d167d0a48b58f63670a22500043",
       "version_major": 2,
       "version_minor": 0
      },
      "text/plain": [
       "Renderer(camera=PerspectiveCamera(children=(DirectionalLight(color='white', intensity=0.6, position=(0.0, 0.0,…"
      ]
     },
     "metadata": {},
     "output_type": "display_data"
    },
    {
     "data": {
      "application/vnd.jupyter.widget-view+json": {
       "model_id": "5ffbc9444bba41428c381a11c3cc6dc9",
       "version_major": 2,
       "version_minor": 0
      },
      "text/plain": [
       "Renderer(camera=PerspectiveCamera(children=(DirectionalLight(color='white', intensity=0.6, position=(0.0, 0.0,…"
      ]
     },
     "metadata": {},
     "output_type": "display_data"
    },
    {
     "data": {
      "text/plain": [
       "<meshplot.Viewer.Viewer at 0x1a7b7e499f0>"
      ]
     },
     "execution_count": 23,
     "metadata": {},
     "output_type": "execute_result"
    }
   ],
   "source": [
    "# Compute per-face normals\n",
    "n_faces_bunny   = igl.per_face_normals(bunny_v, bunny_f, np.array([0.0, 0.0, 1.0]))\n",
    "n_faces_cube    = igl.per_face_normals(cube_v, cube_f, np.array([0.0, 0.0, 1.0]))\n",
    "n_faces_sphere  = igl.per_face_normals(sphere_v, sphere_f, np.array([0.0, 0.0, 1.0]))\n",
    "\n",
    "# Display flat shading\n",
    "meshplot.plot(bunny_exp_v, bunny_exp_f,     n = n_faces_bunny)\n",
    "meshplot.plot(cube_exp_v, cube_exp_f,       n = n_faces_cube)\n",
    "meshplot.plot(sphere_exp_v, sphere_exp_f,   n = n_faces_sphere)\n"
   ]
  },
  {
   "cell_type": "markdown",
   "metadata": {},
   "source": [
    "### 3.2 - Per-vertex Shading"
   ]
  },
  {
   "cell_type": "code",
   "execution_count": 24,
   "metadata": {},
   "outputs": [
    {
     "data": {
      "application/vnd.jupyter.widget-view+json": {
       "model_id": "ea8318ef77ab4b0fadb40e5f5e29b5bc",
       "version_major": 2,
       "version_minor": 0
      },
      "text/plain": [
       "Renderer(camera=PerspectiveCamera(children=(DirectionalLight(color='white', intensity=0.6, position=(-0.016860…"
      ]
     },
     "metadata": {},
     "output_type": "display_data"
    },
    {
     "data": {
      "application/vnd.jupyter.widget-view+json": {
       "model_id": "828a3c2305c54800b43d20f71e8b1cf3",
       "version_major": 2,
       "version_minor": 0
      },
      "text/plain": [
       "Renderer(camera=PerspectiveCamera(children=(DirectionalLight(color='white', intensity=0.6, position=(0.0, 0.0,…"
      ]
     },
     "metadata": {},
     "output_type": "display_data"
    },
    {
     "data": {
      "application/vnd.jupyter.widget-view+json": {
       "model_id": "e4c92682719b4341ad4ab2809d1dc282",
       "version_major": 2,
       "version_minor": 0
      },
      "text/plain": [
       "Renderer(camera=PerspectiveCamera(children=(DirectionalLight(color='white', intensity=0.6, position=(0.0, 0.0,…"
      ]
     },
     "metadata": {},
     "output_type": "display_data"
    },
    {
     "data": {
      "text/plain": [
       "<meshplot.Viewer.Viewer at 0x1a7b7db1060>"
      ]
     },
     "execution_count": 24,
     "metadata": {},
     "output_type": "execute_result"
    }
   ],
   "source": [
    "# Compute per-vertex normals\n",
    "n_vertex_bunny  = igl.per_vertex_normals(bunny_v, bunny_f)\n",
    "n_vertex_cube   = igl.per_vertex_normals(cube_v, cube_f)\n",
    "n_vertex_sphere = igl.per_vertex_normals(sphere_v, sphere_f)\n",
    "\n",
    "# Display smooth shading\n",
    "meshplot.plot(bunny_v, bunny_f, n=n_vertex_bunny, shading={\"flat\": False})\n",
    "meshplot.plot(cube_v, cube_f, n=n_vertex_cube, shading={\"flat\": False})\n",
    "meshplot.plot(sphere_v, sphere_f, n=n_vertex_sphere, shading={\"flat\": False})"
   ]
  },
  {
   "cell_type": "markdown",
   "metadata": {},
   "source": [
    "### 3.3 - Per-corner Shading"
   ]
  },
  {
   "cell_type": "code",
   "execution_count": 25,
   "metadata": {},
   "outputs": [
    {
     "data": {
      "application/vnd.jupyter.widget-view+json": {
       "model_id": "fd2e1b08fb5c4d3eba9be8866dd98060",
       "version_major": 2,
       "version_minor": 0
      },
      "text/plain": [
       "Renderer(camera=PerspectiveCamera(children=(DirectionalLight(color='white', intensity=0.6, position=(-0.016860…"
      ]
     },
     "metadata": {},
     "output_type": "display_data"
    },
    {
     "data": {
      "application/vnd.jupyter.widget-view+json": {
       "model_id": "a44c18ba552b4668be98c6887c14e71e",
       "version_major": 2,
       "version_minor": 0
      },
      "text/plain": [
       "Renderer(camera=PerspectiveCamera(children=(DirectionalLight(color='white', intensity=0.6, position=(0.0, 0.0,…"
      ]
     },
     "metadata": {},
     "output_type": "display_data"
    },
    {
     "data": {
      "application/vnd.jupyter.widget-view+json": {
       "model_id": "cc7bcebb0baf422aa421e84ad3ab22e0",
       "version_major": 2,
       "version_minor": 0
      },
      "text/plain": [
       "Renderer(camera=PerspectiveCamera(children=(DirectionalLight(color='white', intensity=0.6, position=(0.0, 0.0,…"
      ]
     },
     "metadata": {},
     "output_type": "display_data"
    },
    {
     "data": {
      "text/plain": [
       "<meshplot.Viewer.Viewer at 0x1a7b42f9660>"
      ]
     },
     "execution_count": 25,
     "metadata": {},
     "output_type": "execute_result"
    }
   ],
   "source": [
    "# Compute per-corner normals for per-corner shading\n",
    "n_corner_bunny  = igl.per_corner_normals(bunny_v, bunny_f, 45)\n",
    "n_corner_cube   = igl.per_corner_normals(cube_v, cube_f, 45)\n",
    "n_corner_sphere = igl.per_corner_normals(sphere_v, sphere_f, 45)\n",
    "\n",
    "# Display per-corner shading\n",
    "meshplot.plot(bunny_exp_v, bunny_exp_f, n=n_corner_bunny, shading={\"flat\": False})\n",
    "meshplot.plot(cube_exp_v, cube_exp_f, n=n_corner_cube, shading={\"flat\": False})\n",
    "meshplot.plot(sphere_exp_v, sphere_exp_f, n=n_corner_sphere, shading={\"flat\": False})"
   ]
  },
  {
   "cell_type": "markdown",
   "metadata": {},
   "source": [
    "# 4. - A simple subdivision scheme"
   ]
  },
  {
   "cell_type": "code",
   "execution_count": 26,
   "metadata": {},
   "outputs": [],
   "source": [
    "def subdivide_sq3(V, F):\n",
    "    # TBD: add iterative refinement support\n",
    "\n",
    "    old_v = len(V) \n",
    "    V_N = V\n",
    "    F_N = []\n",
    "\n",
    "    # Compute new vertices\n",
    "    for face in F:\n",
    "        vertices = V[face]\n",
    "        new_vertex = np.mean(vertices, axis=0)\n",
    "        V_N = np.vstack([V_N, new_vertex])\n",
    "\n",
    "    # Compute new faces\n",
    "    F_N1, F_N2, F_N3= [], [], []\n",
    "    for i, face in enumerate(F):\n",
    "        v1, v2, v3 = face\n",
    "        v4 = old_v + i\n",
    "        F_N1.append([v4, v2, v3])\n",
    "        F_N2.append([v1, v4, v3])\n",
    "        F_N3.append([v1, v2, v4])\n",
    "    F_N = np.vstack([F_N1, F_N2, F_N3])\n",
    "\n",
    "    # Update old vertices\n",
    "    neighbors = igl.adjacency_list(F)\n",
    "    for i in range(old_v):\n",
    "        n = len(neighbors[i])\n",
    "        a_n = (4 - 2 * np.cos((2*np.pi)/n))/9\n",
    "        V_N[i] = (1 - a_n) * V[i] + (a_n/n) * np.sum(V[neighbors[i]], axis=0)\n",
    "\n",
    "    # Using the second suggested approach:\n",
    "    # Compute edges\n",
    "    edges = igl.edges(F_N)\n",
    "    \n",
    "    # Flip each old edge if it is not on the boundary\n",
    "    for edge in edges:\n",
    "        v1, v2 = edge\n",
    "        if v1 < old_v and v2 < old_v:\n",
    "            # Find the faces that contain the edge\n",
    "            edge_set = set(edge) # convert to set to use subset search\n",
    "            faces = [idx for idx, face in enumerate(F_N) if edge_set.issubset(face)]\n",
    "            # If the edge is not on the boundary\n",
    "            if len(faces) > 1:\n",
    "                # flip the edge\n",
    "                v3 = np.setdiff1d(F_N[faces[0]], [v1, v2])[0]\n",
    "                v4 = np.setdiff1d(F_N[faces[1]], [v1, v2])[0]\n",
    "                F_N[faces[0]] = [v1, v3, v4]\n",
    "                F_N[faces[1]] = [v2, v3, v4]\n",
    "\n",
    "    return np.array(V_N), np.array(F_N)\n",
    "\n",
    "# Subdivide multiple times\n",
    "def subdivide_sq3_iterative(V, F, n_iter):\n",
    "    results = []\n",
    "    V_N, F_N = V, F\n",
    "    for i in range(n_iter):\n",
    "        V_N, F_N = subdivide_sq3(V_N, F_N)\n",
    "        meshplot.plot(V_N, F_N, shading={\"wireframe\": True})\n",
    "        results.append([V_N, F_N])\n",
    "    return results"
   ]
  },
  {
   "cell_type": "code",
   "execution_count": 27,
   "metadata": {},
   "outputs": [
    {
     "data": {
      "application/vnd.jupyter.widget-view+json": {
       "model_id": "5cab3c46c6bd4fd8b137fa61d207ab8c",
       "version_major": 2,
       "version_minor": 0
      },
      "text/plain": [
       "Renderer(camera=PerspectiveCamera(children=(DirectionalLight(color='white', intensity=0.6, position=(-0.016826…"
      ]
     },
     "metadata": {},
     "output_type": "display_data"
    },
    {
     "data": {
      "application/vnd.jupyter.widget-view+json": {
       "model_id": "2d3d92edd1a54a6394742f19eaf7c04a",
       "version_major": 2,
       "version_minor": 0
      },
      "text/plain": [
       "Renderer(camera=PerspectiveCamera(children=(DirectionalLight(color='white', intensity=0.6, position=(0.0, 0.0,…"
      ]
     },
     "metadata": {},
     "output_type": "display_data"
    },
    {
     "data": {
      "application/vnd.jupyter.widget-view+json": {
       "model_id": "9b7006a33f3c47d5b46813daed12e472",
       "version_major": 2,
       "version_minor": 0
      },
      "text/plain": [
       "Renderer(camera=PerspectiveCamera(children=(DirectionalLight(color='white', intensity=0.6, position=(2.9802322…"
      ]
     },
     "metadata": {},
     "output_type": "display_data"
    },
    {
     "data": {
      "text/plain": [
       "<meshplot.Viewer.Viewer at 0x1a7b6d880d0>"
      ]
     },
     "execution_count": 27,
     "metadata": {},
     "output_type": "execute_result"
    }
   ],
   "source": [
    "# Subdivide bunny, cube, and sphere\n",
    "sub_bunny_v, sub_bunny_f = subdivide_sq3(bunny_v, bunny_f)\n",
    "sub_cube_v, sub_cube_f = subdivide_sq3(cube_v, cube_f)\n",
    "sub_sphere_v, sub_sphere_f = subdivide_sq3(sphere_v, sphere_f)\n",
    "\n",
    "# Display the results\n",
    "meshplot.plot(sub_bunny_v, sub_bunny_f, shading={\"wireframe\": True})\n",
    "meshplot.plot(sub_cube_v, sub_cube_f, shading={\"wireframe\": True})\n",
    "meshplot.plot(sub_sphere_v, sub_sphere_f, shading={\"wireframe\": True})"
   ]
  },
  {
   "cell_type": "code",
   "execution_count": 28,
   "metadata": {},
   "outputs": [
    {
     "data": {
      "application/vnd.jupyter.widget-view+json": {
       "model_id": "b1be26a6e5bf469ba772f3a752cfdcd3",
       "version_major": 2,
       "version_minor": 0
      },
      "text/plain": [
       "Renderer(camera=PerspectiveCamera(children=(DirectionalLight(color='white', intensity=0.6, position=(0.0, 0.0,…"
      ]
     },
     "metadata": {},
     "output_type": "display_data"
    },
    {
     "data": {
      "application/vnd.jupyter.widget-view+json": {
       "model_id": "d1f7d161b7e44deca7a4fa77a2b8b5a9",
       "version_major": 2,
       "version_minor": 0
      },
      "text/plain": [
       "Renderer(camera=PerspectiveCamera(children=(DirectionalLight(color='white', intensity=0.6, position=(0.0, 0.0,…"
      ]
     },
     "metadata": {},
     "output_type": "display_data"
    },
    {
     "data": {
      "application/vnd.jupyter.widget-view+json": {
       "model_id": "7ea2f22605c642b19797175ccf5a5922",
       "version_major": 2,
       "version_minor": 0
      },
      "text/plain": [
       "Renderer(camera=PerspectiveCamera(children=(DirectionalLight(color='white', intensity=0.6, position=(0.0, 0.0,…"
      ]
     },
     "metadata": {},
     "output_type": "display_data"
    },
    {
     "data": {
      "application/vnd.jupyter.widget-view+json": {
       "model_id": "f9edfd33dc8d41bdbefeb98aee96bc97",
       "version_major": 2,
       "version_minor": 0
      },
      "text/plain": [
       "Renderer(camera=PerspectiveCamera(children=(DirectionalLight(color='white', intensity=0.6, position=(0.0, 0.0,…"
      ]
     },
     "metadata": {},
     "output_type": "display_data"
    },
    {
     "data": {
      "application/vnd.jupyter.widget-view+json": {
       "model_id": "692be0dda10d4918b43ff80ad308842f",
       "version_major": 2,
       "version_minor": 0
      },
      "text/plain": [
       "Renderer(camera=PerspectiveCamera(children=(DirectionalLight(color='white', intensity=0.6, position=(0.0, 0.0,…"
      ]
     },
     "metadata": {},
     "output_type": "display_data"
    },
    {
     "data": {
      "application/vnd.jupyter.widget-view+json": {
       "model_id": "b537ef6e6e4f47e5864e6f74b000af50",
       "version_major": 2,
       "version_minor": 0
      },
      "text/plain": [
       "Renderer(camera=PerspectiveCamera(children=(DirectionalLight(color='white', intensity=0.6, position=(0.0, 0.0,…"
      ]
     },
     "metadata": {},
     "output_type": "display_data"
    },
    {
     "data": {
      "application/vnd.jupyter.widget-view+json": {
       "model_id": "9266a327aa9143cea286da5988c49ef6",
       "version_major": 2,
       "version_minor": 0
      },
      "text/plain": [
       "Renderer(camera=PerspectiveCamera(children=(DirectionalLight(color='white', intensity=0.6, position=(0.0, 0.0,…"
      ]
     },
     "metadata": {},
     "output_type": "display_data"
    },
    {
     "data": {
      "application/vnd.jupyter.widget-view+json": {
       "model_id": "60614b83376d4016834941d486dd1156",
       "version_major": 2,
       "version_minor": 0
      },
      "text/plain": [
       "Renderer(camera=PerspectiveCamera(children=(DirectionalLight(color='white', intensity=0.6, position=(0.0, 0.0,…"
      ]
     },
     "metadata": {},
     "output_type": "display_data"
    }
   ],
   "source": [
    "# Example of iterative subdivision\n",
    "meshplot.plot(cube_v, cube_f, shading={\"wireframe\": True})\n",
    "iterations = subdivide_sq3_iterative(cube_v, cube_f, 7)"
   ]
  }
 ],
 "metadata": {
  "kernelspec": {
   "display_name": "myenv",
   "language": "python",
   "name": "python3"
  },
  "language_info": {
   "codemirror_mode": {
    "name": "ipython",
    "version": 3
   },
   "file_extension": ".py",
   "mimetype": "text/x-python",
   "name": "python",
   "nbconvert_exporter": "python",
   "pygments_lexer": "ipython3",
   "version": "3.10.16"
  }
 },
 "nbformat": 4,
 "nbformat_minor": 4
}
